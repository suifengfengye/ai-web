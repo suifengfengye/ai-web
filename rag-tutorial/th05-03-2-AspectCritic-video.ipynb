{
 "cells": [
  {
   "cell_type": "markdown",
   "id": "cf177e30-41a2-426d-b537-def1a651d26f",
   "metadata": {},
   "source": [
    "# 安装\n",
    "```shell\n",
    "pip install ragas\n",
    "```"
   ]
  },
  {
   "cell_type": "markdown",
   "id": "08024f48-9e6f-49d5-a7ce-8bbeee4c1882",
   "metadata": {},
   "source": [
    "# 1. AspectCritic\n",
    "\n",
    "AspectCritic是一个指标类。通过AspectCritic，设置提示词，可以灵活地让LLM做出任何评判。\n",
    "\n",
    "参数：\n",
    "- name: str, 名称\n",
    "- definition: str, 设置提示词！\n",
    "- llm: BaseRagasLLM, 大语言模型实例\n",
    "\n",
    "\n",
    "\n",
    "```python\n",
    "from ragas.metrics import AspectCritic\n",
    "```\n"
   ]
  },
  {
   "cell_type": "markdown",
   "id": "5f778cf9-5e03-4f5d-9c55-7641c8172a42",
   "metadata": {},
   "source": [
    "# 2. 样本\n",
    "单论样本， SingleTurnSample\n",
    "\n",
    "- user_input: str, 用户输入\n",
    "- retrieved_contexts: List[str], 检索到的上下文\n",
    "- reference_contexts: List[str], 参考上下文\n",
    "- response: str, 响应/回答\n",
    "- reference: str, 参考答案\n",
    "- multi_responses: List[str], 多个响应"
   ]
  },
  {
   "cell_type": "code",
   "execution_count": 1,
   "id": "34c3ec0f-cab3-4194-b134-7a16eceda473",
   "metadata": {},
   "outputs": [],
   "source": [
    "data = {\"id\": \"968d0465-4d3f-4b5c-8326-58cecc4aa70c\", \"question\": \"根据背景信息，2025 年科技行业展望中 AI 浪潮重新定义了全球科技的未来，请问在 2024 年 12 月 13 日这份报告中，有哪几位作者？\"}"
   ]
  },
  {
   "cell_type": "code",
   "execution_count": 2,
   "id": "2468b8bb-6a83-496f-abbe-30a9a83a5d3d",
   "metadata": {},
   "outputs": [
    {
     "data": {
      "text/plain": [
       "{'ids': ['968d0465-4d3f-4b5c-8326-58cecc4aa70c'],\n",
       " 'embeddings': None,\n",
       " 'metadatas': [{'source': '科技行业 2025 年展望.txt',\n",
       "   '作者': '沈岱,马智焱,黄佳琦',\n",
       "   '发表时间': '2024 年 12 月 13 日',\n",
       "   '文章标题': '科技行业2025年展望'}],\n",
       " 'documents': ['科技行业 2025 年展望:AI 浪潮重新 定义全球科技的未来\\n\\n发表时间：2024 年 12 月 13 日\\n作者：\\n(1) 沈岱 - 首席科技分析师 - sia_huang@spdbi.com - (852) 2809 0355\\n(2) 马智焱 - 科技分析师 - ivy_ma@spdbi.com - (852) 2809 0300\\n(3) 黄佳琦 - 科技分析师 - sia_huang@spdbi.com  - (852) 2809 0355\\n\\n一、全球 AI 行业具备较大成长空间'],\n",
       " 'data': None,\n",
       " 'uris': None,\n",
       " 'included': ['documents', 'metadatas']}"
      ]
     },
     "execution_count": 2,
     "metadata": {},
     "output_type": "execute_result"
    }
   ],
   "source": [
    "# 1. 根据id获取到对应的文档片段\n",
    "import chromadb\n",
    "client = chromadb.HttpClient(host=\"localhost\", port=8000)\n",
    "collection = client.get_or_create_collection(name=\"rag-video-collection\")\n",
    "data_info = collection.get(ids=[\"968d0465-4d3f-4b5c-8326-58cecc4aa70c\"])\n",
    "data_info"
   ]
  },
  {
   "cell_type": "code",
   "execution_count": 3,
   "id": "638a317d-41db-4773-ae13-3295c3f0691c",
   "metadata": {},
   "outputs": [],
   "source": [
    "data = {\n",
    "    \"id\": \"968d0465-4d3f-4b5c-8326-58cecc4aa70c\", \n",
    "    \"page_content\": \"科技行业 2025 年展望:AI 浪潮重新 定义全球科技的未来\\n\\n发表时间：2024 年 12 月 13 日\\n作者：\\n(1) 沈岱 - 首席科技分析师 - sia_huang@spdbi.com - (852) 2809 0355\\n(2) 马智焱 - 科技分析师 - ivy_ma@spdbi.com - (852) 2809 0300\\n(3) 黄佳琦 - 科技分析师 - sia_huang@spdbi.com  - (852) 2809 0355\\n\\n一、全球 AI 行业具备较大成长空间\",\n",
    "    \"question\": \"根据背景信息，2025 年科技行业展望中 AI 浪潮重新定义了全球科技的未来，请问在 2024 年 12 月 13 日这份报告中，有哪几位作者？\"\n",
    "}"
   ]
  },
  {
   "cell_type": "code",
   "execution_count": 4,
   "id": "106f9e12-e14a-4e3b-8146-10e5afba3587",
   "metadata": {},
   "outputs": [
    {
     "name": "stderr",
     "output_type": "stream",
     "text": [
      "/opt/miniconda3/envs/rag-video/lib/python3.12/site-packages/tqdm/auto.py:21: TqdmWarning: IProgress not found. Please update jupyter and ipywidgets. See https://ipywidgets.readthedocs.io/en/stable/user_install.html\n",
      "  from .autonotebook import tqdm as notebook_tqdm\n"
     ]
    }
   ],
   "source": [
    "from ragas import SingleTurnSample\n",
    "\n",
    "sample = SingleTurnSample(\n",
    "    user_input=data.get(\"question\", \"\"),\n",
    "    reference_contexts=[data.get(\"page_content\", \"\")],\n",
    ")\n"
   ]
  },
  {
   "cell_type": "code",
   "execution_count": 5,
   "id": "efce059e-cc82-4775-8158-4b00b7f0f694",
   "metadata": {},
   "outputs": [
    {
     "data": {
      "text/plain": [
       "SingleTurnSample(user_input='根据背景信息，2025 年科技行业展望中 AI 浪潮重新定义了全球科技的未来，请问在 2024 年 12 月 13 日这份报告中，有哪几位作者？', retrieved_contexts=None, reference_contexts=['科技行业 2025 年展望:AI 浪潮重新 定义全球科技的未来\\n\\n发表时间：2024 年 12 月 13 日\\n作者：\\n(1) 沈岱 - 首席科技分析师 - sia_huang@spdbi.com - (852) 2809 0355\\n(2) 马智焱 - 科技分析师 - ivy_ma@spdbi.com - (852) 2809 0300\\n(3) 黄佳琦 - 科技分析师 - sia_huang@spdbi.com  - (852) 2809 0355\\n\\n一、全球 AI 行业具备较大成长空间'], response=None, multi_responses=None, reference=None, rubrics=None)"
      ]
     },
     "execution_count": 5,
     "metadata": {},
     "output_type": "execute_result"
    }
   ],
   "source": [
    "sample"
   ]
  },
  {
   "cell_type": "code",
   "execution_count": 6,
   "id": "bb713c27-01f6-4711-b369-a583065a8dce",
   "metadata": {},
   "outputs": [
    {
     "data": {
      "text/plain": [
       "1"
      ]
     },
     "execution_count": 6,
     "metadata": {},
     "output_type": "execute_result"
    }
   ],
   "source": [
    "from ragas.metrics import AspectCritic\n",
    "from langchain_ollama import ChatOllama\n",
    "from ragas.llms import LangchainLLMWrapper\n",
    "\n",
    "llm = ChatOllama(model=\"qwen2.5:latest\")\n",
    "\n",
    "metric = AspectCritic(\n",
    "    name=\"relevance_assessment\",\n",
    "    definition=\"判断问题和上下文是否相关？\",\n",
    "    llm=LangchainLLMWrapper(llm),\n",
    ")\n",
    "\n",
    "await metric.single_turn_ascore(sample)"
   ]
  },
  {
   "cell_type": "code",
   "execution_count": null,
   "id": "b2def9f9-09f1-4621-8a84-7dc1a236c169",
   "metadata": {},
   "outputs": [],
   "source": [
    "Evaluate the Input based on the criterial defined. Use only 'Yes' (1) and 'No' (0) as verdict.\n",
    "Criteria Definition: 判断问题和上下文是否相关？\n",
    "Please return the output in a JSON format that complies with the following schema as specified in JSON Schema:\n",
    "{\"properties\": {\"reason\": {\"description\": \"Reason for the verdict\", \"title\": \"Reason\", \"type\": \"string\"}, \"verdict\": {\"description\": \"The verdict (0 or 1) for the submission\", \"title\": \"Verdict\", \"type\": \"integer\"}}, \"required\": [\"reason\", \"verdict\"], \"title\": \"AspectCriticOutput\", \"type\": \"object\"}Do not use single quotes in your response but double quotes,properly escaped with a backslash.\n",
    "\n",
    "-----------------------------\n",
    "\n",
    "Now perform the same with the following input\n",
    "input: {\n",
    "    \"user_input\": \"根据背景信息，2025 年科技行业展望中 AI 浪潮重新定义了全球科技的未来，请问在 2024 年 12 月 13 日这份报告中，有哪几位作者？\",\n",
    "    \"reference_contexts\": [\n",
    "        \"科技行业 2025 年展望:AI 浪潮重新 定义全球科技的未来\\n\\n发表时间：2024 年 12 月 13 日\\n作者：\\n(1) 沈岱 - 首席科技分析师 - sia_huang@spdbi.com - (852) 2809 0355\\n(2) 马智焱 - 科技分析师 - ivy_ma@spdbi.com - (852) 2809 0300\\n(3) 黄佳琦 - 科技分析师 - sia_huang@spdbi.com  - (852) 2809 0355\\n\\n一、全球 AI 行业具备较大成长空间\"\n",
    "    ]\n",
    "}\n",
    "Output: "
   ]
  }
 ],
 "metadata": {
  "kernelspec": {
   "display_name": "Python 3 (ipykernel)",
   "language": "python",
   "name": "python3"
  },
  "language_info": {
   "codemirror_mode": {
    "name": "ipython",
    "version": 3
   },
   "file_extension": ".py",
   "mimetype": "text/x-python",
   "name": "python",
   "nbconvert_exporter": "python",
   "pygments_lexer": "ipython3",
   "version": "3.12.8"
  }
 },
 "nbformat": 4,
 "nbformat_minor": 5
}

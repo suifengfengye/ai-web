{
 "cells": [
  {
   "cell_type": "markdown",
   "id": "3c0a6288-c69c-4b7b-b058-ad108ebd6d0a",
   "metadata": {},
   "source": [
    "# 1. Faithfulness\n",
    "\n",
    "忠诚性。让LLM判断，答案是否能够根据上下文推断出来，如果可以标记为1，否则标记为0.\n",
    "\n",
    "结果为: 标记为1的总数 / 总数据。\n",
    "\n",
    "范围在 0 ～ 1之间。\n",
    "\n",
    "参数：\n",
    "\n",
    "- name: str, 指标名称,默认为\"faithfulness\"\n",
    "- statement_generator_prompt: 语句生成器提示词，用于将答案分解成一个一个的子句。\n",
    "- nli_prompt: NLI(Natural Language Inference, 自然语言推理)提示词。\n",
    "- max_retries: 最大重试次数，默认值为1。\n",
    "\n",
    "\n",
    "*******************************************************************\n",
    "- _required_columns: 需要在数据信息, [\"user_input\", \"retrieved_contexts\", \"response\"]\n"
   ]
  },
  {
   "cell_type": "markdown",
   "id": "b96b261d-b86b-40e9-afb0-b51d1975d74d",
   "metadata": {},
   "source": [
    "## 1.1 statement_generator_prompt-语句生成器提示词\n",
    "\n",
    "\n",
    "1. 提示词内容：\n",
    "\n",
    "Given a question and an answer, analyze the complexity of each sentence in the answer. Break down each sentence into one or more fully understandable statements. Ensure that no pronouns are used in any statement. Format the outputs in JSON.\n",
    "\n",
    "中文翻译:\n",
    "\n",
    "给定一个问题和一个答案，分析答案中每个句子的复杂度。将每个句子分解成一个或多个完全可理解的语句。确保任何语句中均未使用代词。将输出格式化为 JSON。\n",
    "\n",
    "例子：\n",
    "\n",
    "StatementGeneratorInput:\n",
    "\n",
    "- question: Who was Albert Einstein and what is he best known for?\n",
    "- answer: He was a German-born theoretical physicist, widely acknowledged to be one of the greatest and most influential physicists of all time. He was best known for developing the theory of relativity, he also made important contributions to the development of the theory of quantum mechanics.\n",
    "\n",
    "StatementGeneratorOutput:\n",
    "\n",
    "- \"Albert Einstein was a German-born theoretical physicist.\",\n",
    "- \"Albert Einstein is recognized as one of the greatest and most influential physicists of all time.\",\n",
    "- \"Albert Einstein was best known for developing the theory of relativity.\",\n",
    "- \"Albert Einstein also made important contributions to the development of the theory of quantum mechanics.\"\n",
    "\n",
    "中文翻译：\n",
    "\n",
    "输入：\n",
    "\n",
    "- question: 阿尔伯特·爱因斯坦是谁？他以什么而闻名？\n",
    "- answer: 他是一位出生于德国的理论物理学家，被公认为有史以来最伟大、最具影响力的物理学家之一。他因创立相对论而闻名，同时也为量子力学理论的发展做出了重要贡献。\n",
    "\n",
    "输出：\n",
    "\n",
    "- 阿尔伯特·爱因斯坦是一位出生于德国的理论物理学家。\n",
    "- 阿尔伯特·爱因斯坦被公认为有史以来最伟大、最具影响力的物理学家之一。\n",
    "- 阿尔伯特·爱因斯坦最著名的成就是创立了相对论。\n",
    "- 阿尔伯特·爱因斯坦还为量子力学理论的发展做出了重要贡献。\n"
   ]
  },
  {
   "cell_type": "markdown",
   "id": "ed247dcf-fda7-46dd-821c-60fb580d5394",
   "metadata": {},
   "source": [
    "## 1.2 nli_prompt - NLI提示词\n",
    "\n",
    "提示词内容：\n",
    "\n",
    "Your task is to judge the faithfulness of a series of statements based on a given context. For each statement you must return verdict as 1 if the statement can be directly inferred based on the context or 0 if the statement can not be directly inferred based on the context.\n",
    "\n",
    "中文翻译：\n",
    "\n",
    "你的任务是根据给定的上下文判断一系列语句的真实性。对于每个语句，如果该语句可以根据上下文直接推断出来，则返回判定结果 1；如果该语句无法根据上下文直接推断出来，则返回判定结果 0。"
   ]
  },
  {
   "cell_type": "markdown",
   "id": "a8b31676-8198-4774-990b-b55fefa66207",
   "metadata": {},
   "source": [
    "# 1.3 结果计算\n",
    "\n",
    "用判断为1的总数 / 判定的问题总数。"
   ]
  },
  {
   "cell_type": "code",
   "execution_count": 1,
   "id": "cbc3a7fc-bc7c-4a25-8cce-e87affc635c3",
   "metadata": {},
   "outputs": [
    {
     "name": "stderr",
     "output_type": "stream",
     "text": [
      "/opt/miniconda3/envs/rag-video/lib/python3.12/site-packages/tqdm/auto.py:21: TqdmWarning: IProgress not found. Please update jupyter and ipywidgets. See https://ipywidgets.readthedocs.io/en/stable/user_install.html\n",
      "  from .autonotebook import tqdm as notebook_tqdm\n",
      "Evaluating: 100%|████████████████████████████| 67/67 [1:26:56<00:00, 77.86s/it]\n"
     ]
    },
    {
     "data": {
      "text/plain": [
       "{'faithfulness': 0.9090}"
      ]
     },
     "execution_count": 1,
     "metadata": {},
     "output_type": "execute_result"
    }
   ],
   "source": [
    "from ragas import evaluate, RunConfig\n",
    "from ragas.metrics import Faithfulness\n",
    "from langchain_ollama import ChatOllama\n",
    "from ragas.llms import LangchainLLMWrapper\n",
    "from langchain_ollama import ChatOllama\n",
    "from ragas import EvaluationDataset\n",
    "\n",
    "dataset = EvaluationDataset.from_jsonl(\"questions_answers_01.txt\")\n",
    "\n",
    "llm = ChatOllama(model=\"qwen3:8b\", reasoning=False)\n",
    "# <think>xxxxxxx...</think> {\"xxx\": \"xxx\"}\n",
    "metric = Faithfulness()\n",
    "\n",
    "result = evaluate(\n",
    "    dataset=dataset,\n",
    "    metrics=[metric],\n",
    "    llm=LangchainLLMWrapper(llm),\n",
    "    run_config=RunConfig(\n",
    "        timeout=600,\n",
    "        max_retries=3,\n",
    "        max_workers=4\n",
    "    ),\n",
    ")\n",
    "result"
   ]
  },
  {
   "cell_type": "code",
   "execution_count": null,
   "id": "db8214b6-496b-49eb-b343-acf1fa08c456",
   "metadata": {},
   "outputs": [],
   "source": [
    "# {\"statements\": [{\"statement\": \"xxx\", \"reason\": \"xxxx\", \"verdict\": 1}]}\n",
    "{\"text\": { \"statements\": [{\"statement\": \"xxx\", \"reason\": \"xxxx\", \"verdict\": 1}] }}"
   ]
  },
  {
   "cell_type": "markdown",
   "id": "2650935b-32f0-453e-bae1-48be983adde2",
   "metadata": {},
   "source": [
    "# 4. 对比\n",
    "\n",
    "|对比| FactualCorrectness(实时正确性) | Faithfulness(忠诚性)|\n",
    "|-|-|-|\n",
    "|比较对象| response(响应/回答)和reference(参考答案)|response(响应/回答)/retrieved_contexts(检索到的上下文)|\n",
    "| 分解提示词 | claim_decomposition_prompt(主张分解提示词) | statement_generator_prompt(语句生成器提示词) |\n",
    "| 评判提示词 | nli_prompt(NLI提示词) | nli_prompt(NLI提示词) |\n",
    "| 结果计算 | 精确度/召回率/F1分数 | 忠诚度 |\n",
    "\n",
    "NLI: Natural Language Inference, 自然语言推理\n"
   ]
  },
  {
   "cell_type": "code",
   "execution_count": null,
   "id": "403ac84e-d778-4122-81af-86f93e91be46",
   "metadata": {},
   "outputs": [],
   "source": []
  }
 ],
 "metadata": {
  "kernelspec": {
   "display_name": "Python 3 (ipykernel)",
   "language": "python",
   "name": "python3"
  },
  "language_info": {
   "codemirror_mode": {
    "name": "ipython",
    "version": 3
   },
   "file_extension": ".py",
   "mimetype": "text/x-python",
   "name": "python",
   "nbconvert_exporter": "python",
   "pygments_lexer": "ipython3",
   "version": "3.12.7"
  }
 },
 "nbformat": 4,
 "nbformat_minor": 5
}

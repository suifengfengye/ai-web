{
 "cells": [
  {
   "cell_type": "markdown",
   "id": "2ad7fc1b-8c54-4202-a9d7-514279dc9f14",
   "metadata": {},
   "source": [
    "# 1. 使用CrossEncoder重排\n",
    "\n",
    "Cross-Encoder，交叉编码器。主要用于文本对间的精细相关性评估，强调的是两个文本之间的交互信息。\n",
    "\n",
    "- Cross-Encoder \n",
    "    - 输入：\\[sentence1, sentence2\\]\n",
    "    - 输出：句子对关系（分数或标签）\n",
    "- 模型：BAAI/bge-reranker-large\n",
    "- bge: BAAI General Embedding, BAAI通用嵌入\n",
    "\n",
    "- BAAI：Beijing Academy of Artificial Intelligence, 北京智源研究院。\n",
    "    一个非营利新型研究机构，致力于成为人工智能领域的创新领导者。\n",
    "\n",
    "```python\n",
    "from sentence_transformers import CrossEncoder\n",
    "```\n",
    "\n",
    "CrossEncoder的实例方法:\n",
    "- predict(): 接收一个列表，列表元素为句子对（字符串对/字符串元组），返回相关度得分，得分越高说明越相关。\n"
   ]
  },
  {
   "cell_type": "code",
   "execution_count": 2,
   "id": "d269e5db-5307-4f50-a06f-8772158f701d",
   "metadata": {
    "collapsed": true,
    "jupyter": {
     "outputs_hidden": true
    }
   },
   "outputs": [
    {
     "name": "stdout",
     "output_type": "stream",
     "text": [
      "['科技行业 2025 年展望:AI 浪潮重新 定义全球科技的未来\\n\\n发表时间：2024 年 12 月 13 日\\n作者：\\n(1) 沈岱 - 首席科技分析师 - sia_huang@spdbi.com - (852) 2809 0355\\n(2) 马智焱 - 科技分析师 - ivy_ma@spdbi.com - (852) 2809 0300\\n(3) 黄佳琦 - 科技分析师 - sia_huang@spdbi.com  - (852) 2809 0355\\n\\n一、全球 AI 行业具备较大成长空间', '2022 年 11 月底，OpenAI 发布 ChatGPT 3.5。紧随其后，生成式 AI，在供应 端的推动下，进入爆发式发展期。无论是OpenAI 随后发布的 ChatGPT 4.0， 还是谷歌、Meta 等多家厂商发布的 Gemini、Llama 等 AI 大模型，都是这一 轮AI 行业爆发式发展的体现。AI 算力芯片作为本轮 AI 浪潮基本且不可或缺 的硬件基础，成为这波浪潮最先受益的行业。', '首先，美国的云服务提供商大幅增加对于 AI 算力芯片的资本开支，并且推 动其AI 大模型快速更新迭代。而且，大量的公司不愿意在这波浪潮中落后，B 端需求初见端倪并快速成长，希望借助生成式 AI，提高生产力。\\n这四家美国头部云服务厂商(微软、谷歌、亚马逊、Meta)资本支出同比增 速在经历了10 个季度的下行后，在 2023 年二季度见底触及-9%的低点，随 后就开启上行，在今年一季度实现+30%增长，并在二、三季度持续上扬至58%、59%(图表 1)。本轮美国互联网大厂资本开支投向主要集中在 AI 算 力的部署。', '展望 2025 年，我们预期美国互联网厂商以及其他初创企业都在加速部署 AI大模型算力，以避免在新技术商业落地过程中落后于竞争对手。所以，我们 预期这些美国头部科技企业的资本开支上行动能会推动AI 算力芯片需求大 幅上扬。\\n其次，承接云服务厂商资本开支的 AI 服务器正在快速增长。与科技新兴产 业发展趋势类似，目前AI 服务器渗透率也处于加速上扬阶段，速度快于一 年/半年以前的市场预测。根据 Counterpoint，AI 服务器收入渗透率已经在二 季度达到29%(图表 8)。', 'TrendForce 预计 AI 服务器出货量将从 2023 年的 118 万台增长至 2024 年的167 万台，预计 2025 年将会增长至 214 万台。根据 TrendForce 预测，2023年、2024 年、2025 年，全球 AI 服务器出货量渗透率达到/预计达到 8.8%、12.2%、15.0%(图表 7)。']\n"
     ]
    }
   ],
   "source": [
    "import chromadb\n",
    "client = chromadb.HttpClient(host=\"localhost\", port=8000)\n",
    "collection = client.get_or_create_collection(name=\"rag-video-collection\")\n",
    "doc_info = collection.get(offset=0, limit=5)\n",
    "print(doc_info[\"documents\"])"
   ]
  },
  {
   "cell_type": "code",
   "execution_count": 3,
   "id": "d35e3ad8-eb23-4b5b-940b-c25f5fc3b0a1",
   "metadata": {
    "collapsed": true,
    "jupyter": {
     "outputs_hidden": true
    }
   },
   "outputs": [
    {
     "name": "stderr",
     "output_type": "stream",
     "text": [
      "/opt/miniconda3/envs/huggingface/lib/python3.12/site-packages/tqdm/auto.py:21: TqdmWarning: IProgress not found. Please update jupyter and ipywidgets. See https://ipywidgets.readthedocs.io/en/stable/user_install.html\n",
      "  from .autonotebook import tqdm as notebook_tqdm\n"
     ]
    },
    {
     "name": "stdout",
     "output_type": "stream",
     "text": [
      "[0.00019811 0.00026394 0.00077612 0.00020138 0.0022332 ]\n"
     ]
    }
   ],
   "source": [
    "# BAAI/bge-reranker-large\n",
    "from sentence_transformers import CrossEncoder\n",
    "model = CrossEncoder(\"BAAI/bge-reranker-large\")\n",
    "# todo\n",
    "question = \"2024年中东非智能手机的出货量为多少？\"\n",
    "scores = model.predict([(question, doc_item) for doc_item in doc_info[\"documents\"]])\n",
    "print(scores)"
   ]
  },
  {
   "cell_type": "code",
   "execution_count": 10,
   "id": "bbf45ee7-bc39-4524-954e-a1b3f6bdd42a",
   "metadata": {
    "collapsed": true,
    "jupyter": {
     "outputs_hidden": true
    }
   },
   "outputs": [
    {
     "data": {
      "text/plain": [
       "[(0.002233205,\n",
       "  'TrendForce 预计 AI 服务器出货量将从 2023 年的 118 万台增长至 2024 年的167 万台，预计 2025 年将会增长至 214 万台。根据 TrendForce 预测，2023年、2024 年、2025 年，全球 AI 服务器出货量渗透率达到/预计达到 8.8%、12.2%、15.0%(图表 7)。'),\n",
       " (0.0007761158,\n",
       "  '首先，美国的云服务提供商大幅增加对于 AI 算力芯片的资本开支，并且推 动其AI 大模型快速更新迭代。而且，大量的公司不愿意在这波浪潮中落后，B 端需求初见端倪并快速成长，希望借助生成式 AI，提高生产力。\\n这四家美国头部云服务厂商(微软、谷歌、亚马逊、Meta)资本支出同比增 速在经历了10 个季度的下行后，在 2023 年二季度见底触及-9%的低点，随 后就开启上行，在今年一季度实现+30%增长，并在二、三季度持续上扬至58%、59%(图表 1)。本轮美国互联网大厂资本开支投向主要集中在 AI 算 力的部署。'),\n",
       " (0.00026394174,\n",
       "  '2022 年 11 月底，OpenAI 发布 ChatGPT 3.5。紧随其后，生成式 AI，在供应 端的推动下，进入爆发式发展期。无论是OpenAI 随后发布的 ChatGPT 4.0， 还是谷歌、Meta 等多家厂商发布的 Gemini、Llama 等 AI 大模型，都是这一 轮AI 行业爆发式发展的体现。AI 算力芯片作为本轮 AI 浪潮基本且不可或缺 的硬件基础，成为这波浪潮最先受益的行业。'),\n",
       " (0.00020137997,\n",
       "  '展望 2025 年，我们预期美国互联网厂商以及其他初创企业都在加速部署 AI大模型算力，以避免在新技术商业落地过程中落后于竞争对手。所以，我们 预期这些美国头部科技企业的资本开支上行动能会推动AI 算力芯片需求大 幅上扬。\\n其次，承接云服务厂商资本开支的 AI 服务器正在快速增长。与科技新兴产 业发展趋势类似，目前AI 服务器渗透率也处于加速上扬阶段，速度快于一 年/半年以前的市场预测。根据 Counterpoint，AI 服务器收入渗透率已经在二 季度达到29%(图表 8)。'),\n",
       " (0.00019811449,\n",
       "  '科技行业 2025 年展望:AI 浪潮重新 定义全球科技的未来\\n\\n发表时间：2024 年 12 月 13 日\\n作者：\\n(1) 沈岱 - 首席科技分析师 - sia_huang@spdbi.com - (852) 2809 0355\\n(2) 马智焱 - 科技分析师 - ivy_ma@spdbi.com - (852) 2809 0300\\n(3) 黄佳琦 - 科技分析师 - sia_huang@spdbi.com  - (852) 2809 0355\\n\\n一、全球 AI 行业具备较大成长空间')]"
      ]
     },
     "execution_count": 10,
     "metadata": {},
     "output_type": "execute_result"
    }
   ],
   "source": [
    "# list1, list2\n",
    "# zip: [(list1_0, list2_0), (list1_1, list2_1)]\n",
    "# for s in zip(scores, doc_info[\"documents\"]):\n",
    "#     print(s)\n",
    "sorted(zip(scores, doc_info[\"documents\"]), reverse=True, key=lambda x:x[0])"
   ]
  },
  {
   "cell_type": "code",
   "execution_count": 1,
   "id": "7d0483e0-23af-4ca2-825d-c9794d9fdc5c",
   "metadata": {},
   "outputs": [
    {
     "name": "stderr",
     "output_type": "stream",
     "text": [
      "/opt/miniconda3/envs/rag-video/lib/python3.12/site-packages/tqdm/auto.py:21: TqdmWarning: IProgress not found. Please update jupyter and ipywidgets. See https://ipywidgets.readthedocs.io/en/stable/user_install.html\n",
      "  from .autonotebook import tqdm as notebook_tqdm\n"
     ]
    }
   ],
   "source": [
    "# 1. 添加文档到chromadb当中\n",
    "# 2. 根据问题进行检索并输出答案\n",
    "\n",
    "import chromadb\n",
    "from langchain_chroma import Chroma\n",
    "from langchain_community.document_loaders import TextLoader\n",
    "from langchain_text_splitters import RecursiveCharacterTextSplitter\n",
    "from langchain_ollama import OllamaEmbeddings\n",
    "from langchain_core.prompts import ChatPromptTemplate\n",
    "from langchain_ollama import ChatOllama\n",
    "from langchain_core.output_parsers import StrOutputParser\n",
    "from sentence_transformers import CrossEncoder\n",
    "\n",
    "def get_metadata_str(metadata):\n",
    "    if metadata is None:\n",
    "        return \"\"\n",
    "    _str = \"\"\n",
    "    # (key, value)\n",
    "    for key, value in metadata.items():\n",
    "        _str += f\"{key}:{value}\\n\"\n",
    "    return _str\n",
    "\n",
    "class RagLangChain():\n",
    "    def __init__(self, \n",
    "                 collection_name: str = \"rag-video-collection\", \n",
    "                 host: str = \"localhost\",\n",
    "                port: int = 8000):\n",
    "        self.collection_name = collection_name\n",
    "        self.host = host\n",
    "        self.port = port\n",
    "\n",
    "    def __get_vector_store(self):\n",
    "        chromadb_client = chromadb.HttpClient(host=self.host, port=self.port)\n",
    "        embedding_fn = OllamaEmbeddings(model=\"nomic-embed-text:latest\")\n",
    "        \n",
    "        vector_store = Chroma(collection_name=self.collection_name,\n",
    "                              client=chromadb_client, \n",
    "                              embedding_function=embedding_fn\n",
    "                             )\n",
    "        return vector_store\n",
    "\n",
    "    def delete_collection(self):\n",
    "        vector_store = self.__get_vector_store()\n",
    "        vector_store.delete_collection()\n",
    "        \n",
    "    def add_file(self, file_path: str, metadata = None):\n",
    "        loader = TextLoader(file_path)\n",
    "        \n",
    "        docs = loader.load()\n",
    "        text_spliter = RecursiveCharacterTextSplitter(chunk_size=300, chunk_overlap=100)\n",
    "        all_splits = text_spliter.split_documents(docs)\n",
    "\n",
    "        if metadata is not None:\n",
    "            for split_item in all_splits:\n",
    "                split_metadata = split_item.metadata\n",
    "                split_item.metadata = {**split_metadata, **metadata}\n",
    "        \n",
    "        vector_store = self.__get_vector_store()\n",
    "        ids = vector_store.add_documents(documents=all_splits)\n",
    "        return ids\n",
    "\n",
    "    def __query_vector(self, info):\n",
    "        vector_store = self.__get_vector_store()\n",
    "        retriever = vector_store.as_retriever(\n",
    "            # search_type=\"mmr\",\n",
    "            # search_kwargs={\"k\": 16, \"fetch_k\": 20, \"lambda_mult\": 0.1}\n",
    "            search_kwargs={\"k\": 20}\n",
    "        )\n",
    "\n",
    "        # Document对象,id/page_content/metadata\n",
    "        docs = retriever.invoke(info[\"query\"])\n",
    "\n",
    "        model = CrossEncoder(\"BAAI/bge-reranker-large\")\n",
    "        # question = \"2024年中东非智能手机的出货量为多少？\"\n",
    "        scores = model.predict([(info[\"query\"], doc_item.page_content) for doc_item in docs])\n",
    "        # [(score, Document), (score, Document), ...]\n",
    "        sorted_list = sorted(zip(scores, docs), reverse=True, key=lambda x:x[0])\n",
    "        docs = [doc for _, doc in sorted_list]\n",
    "        docs = docs[:4]\n",
    "        score_list = [score for score, _ in sorted_list]\n",
    "        # (0, item0), (1, item1)\n",
    "        for index, doc_item in enumerate(docs):\n",
    "            print(f\"文档片段{index}\")\n",
    "            print(f\"CrossEncoder得分:{score_list[index]}\")\n",
    "            print(doc_item)\n",
    "            print(\"*\" * 80)\n",
    "        # docs_str = \"\\n\\n\".join(doc.page_content for doc in docs)\n",
    "        docs_str = \"\\n\\n\".join(f\"\"\"\n",
    "{get_metadata_str(doc.metadata)}\n",
    "{doc.page_content}\"\"\" for doc in docs)\n",
    "        # print(f\"@@@@@{docs_str}\")\n",
    "        return docs_str\n",
    "        \n",
    "    def query(self, question: str):\n",
    "        prompt = ChatPromptTemplate.from_template(\"\"\"\n",
    "你是一个问答机器人。你的任务是根据下述给定的已知信息回答用户问题。\n",
    "\n",
    "已知信息:\n",
    "{context}\n",
    "用户问题：\n",
    "{query}\n",
    "如果已知信息不包含用户问题的答案，或者已知信息不足以回答用户的问题，请直接回复\"我无法回答您的问题\"。\n",
    "请不要输出已知信息中不包含的信息或答案。\n",
    "请用中文回答用户问题。\n",
    "\"\"\")\n",
    "        \n",
    "        llm = ChatOllama(model=\"qwen2.5:latest\")\n",
    "        \n",
    "        output_parser = StrOutputParser()\n",
    "        # 返回值: {\"query\": \"XXXX\", \"context\": \"XXXXX2\"}\n",
    "        chain = ( {\"context\": self.__query_vector, \"query\": lambda x: x[\"query\"]} | prompt | llm | output_parser)\n",
    "        \n",
    "        result = chain.invoke({\"query\": question})\n",
    "        return result\n"
   ]
  },
  {
   "cell_type": "code",
   "execution_count": 2,
   "id": "aef66820-8408-4924-b008-cfe50c9aaf1f",
   "metadata": {},
   "outputs": [],
   "source": [
    "rag_chain = RagLangChain()"
   ]
  },
  {
   "cell_type": "code",
   "execution_count": 3,
   "id": "1f2c57eb-c760-45fd-942e-c232d1535f0f",
   "metadata": {},
   "outputs": [
    {
     "name": "stdout",
     "output_type": "stream",
     "text": [
      "文档片段0\n",
      "CrossEncoder得分:0.9604961276054382\n",
      "page_content='从地区来看，中东非的出货量为 4,199 万部，同比增速为 14%，表现亮眼， 唯一一个达到双位数增速的地区。紧随其后的亚洲其他地区出货量4,502 万 部，同比增长8%。这两个区域的出货量表现好于我们此前预测。虽然印度 三季度的出货量同比增长5%，但是略微低于我们此前预测。\n",
      "在三季度，中国的出货量 6,878 万部，同比增长 3%，环比下滑 4%(图表32)。欧洲和北美发达市场的出货量分别同比下降 5%和 1%。这三个区域的 出货量表现大体符合我们此前的预测。' metadata={'source': '科技行业 2025 年展望.txt', '作者': '沈岱,马智焱,黄佳琦', '发表时间': '2024 年 12 月 13 日', '文章标题': '科技行业2025年展望'}\n",
      "********************************************************************************\n",
      "文档片段1\n",
      "CrossEncoder得分:0.22231201827526093\n",
      "page_content='三、智能手机:2024 年、2025 年连续两年保持增长\n",
      "预计 2025 年全球智能手机出货量将同比增长 2%\n",
      "根据 IDC 数据，今年三季度全球智能手机出货量 3.15 亿部，环比增长 8%， 同比增长4%(图表 34)。虽然同比增速较一二季度下行，但是同比增速略 好于我们此前预测。这与我们与智能手机供应链沟通下来的情况类似，比半 年报看到的行业需求情况略好。' metadata={'source': '科技行业 2025 年展望.txt', '作者': '沈岱,马智焱,黄佳琦', '发表时间': '2024 年 12 月 13 日', '文章标题': '科技行业2025年展望'}\n",
      "********************************************************************************\n",
      "文档片段2\n",
      "CrossEncoder得分:0.17537850141525269\n",
      "page_content='高端机型相对优异的表现与我们在安卓品牌端以及供应链端看到的情况类 似。虽然全球智能手机换机周期仍然处于偏高位置，但是在较长换机周期的 情况下，用户愿意提升预算购买相对高端的机型。而千元以下手机占比提升， 主要来自于中东非等发展地区手机出货量更加强劲的表现。这可能是美国进 入降息周期带动这些地区手机需求的释放。\n",
      "其中，小米的高端机型表现比较典型。今年三季度，小米 3,000 元人民币以 上的智能手机出货量占到小米总出货量的6.3%，同比增加 1.5 个百分点，环 比增加0.5 个百分点(图表 41)。' metadata={'source': '科技行业 2025 年展望.txt', '作者': '沈岱,马智焱,黄佳琦', '发表时间': '2024 年 12 月 13 日', '文章标题': '科技行业2025年展望'}\n",
      "********************************************************************************\n",
      "文档片段3\n",
      "CrossEncoder得分:0.024846363812685013\n",
      "page_content='总体来看，我们预期今年全球智能手机出货量将达到 12.2 亿部，同比增长5.1%。我们略微上调全年出货量预测。全球智能手机出货量在今年取得较好 增长，在2023 年接近冰点的出货量基础上实现了较好的复苏。\n",
      "我们认为 2025 年有望延续 2024 年的复苏势头，预计 2025 年全球智能手机 出货量将达到12.4 亿部，同比增长 1.6%。由于今年一二季度全球智能手机 出货量接近2 位数的增长，2025 年上半年智能手机出货量可能会录得同比 下滑。但是，明年同比增速有望呈现前低后高的态势，从而带来全年出货量 的正增长(图表30)。' metadata={'source': '科技行业 2025 年展望.txt', '作者': '沈岱,马智焱,黄佳琦', '发表时间': '2024 年 12 月 13 日', '文章标题': '科技行业2025年展望'}\n",
      "********************************************************************************\n"
     ]
    },
    {
     "data": {
      "text/plain": [
       "'2024年中东非智能手机的出货量为4,199万部。'"
      ]
     },
     "execution_count": 3,
     "metadata": {},
     "output_type": "execute_result"
    }
   ],
   "source": [
    "rag_chain.query(question=\"2024年中东非智能手机的出货量为多少？\")"
   ]
  },
  {
   "cell_type": "code",
   "execution_count": null,
   "id": "9604fb24-22f3-4a01-bd1f-b5421b0c27eb",
   "metadata": {},
   "outputs": [],
   "source": []
  }
 ],
 "metadata": {
  "kernelspec": {
   "display_name": "Python 3 (ipykernel)",
   "language": "python",
   "name": "python3"
  },
  "language_info": {
   "codemirror_mode": {
    "name": "ipython",
    "version": 3
   },
   "file_extension": ".py",
   "mimetype": "text/x-python",
   "name": "python",
   "nbconvert_exporter": "python",
   "pygments_lexer": "ipython3",
   "version": "3.12.8"
  }
 },
 "nbformat": 4,
 "nbformat_minor": 5
}

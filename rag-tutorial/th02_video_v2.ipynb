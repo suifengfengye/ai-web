{
 "cells": [
  {
   "cell_type": "markdown",
   "id": "0fd3a992-5653-474d-8370-963e4f4dea38",
   "metadata": {},
   "source": [
    "# 1. 加载文档\n",
    "\n",
    "\n",
    "1. TextLoader\n",
    "2. BasePDFLoader\n",
    "3. UnstructuredHTMLLoader\n",
    "4. ...\n",
    "\n",
    "[document_loader](https://python.langchain.com/api_reference/community/document_loaders.html)\n"
   ]
  },
  {
   "cell_type": "markdown",
   "id": "ba60e0a9-f693-4f91-ae02-8770c158a9b0",
   "metadata": {},
   "source": [
    "## 1.1 TextLoader\n",
    "\n",
    "```python\n",
    "from langchain_community.document_loaders import TextLoader\n",
    "```\n",
    "\n",
    "TextLoader参数：\n",
    "1. file_path: 文件路径\n",
    "2. encoding: 编码, 如：\"UTF-8\"/\"GB2312\"\n",
    "3. autodetect_encoding: 是否自动检测编码，默认为False\n",
    "\n",
    "TextLoader的实例方法:\n",
    "1. load() → list[Document]: 同步加载\n",
    "2. async aload() → list[Document]: 异步加载\n",
    "3. load_and_split(text_splitter: TextSplitter | None = None) → list[Document]: 加载文档，并切割\n",
    "\n",
    "## 1.2 Document\n",
    "\n",
    "实例属性：\n",
    "\n",
    "1. page_content: 文本的内容\n",
    "2. id: 可以为None\n",
    "3. metadata: 字典结构，可以为None(但是很有用处)\n",
    "4. type: 目前固定为\"Document\"\n"
   ]
  },
  {
   "cell_type": "code",
   "execution_count": 1,
   "id": "adc44c57-914b-4f2f-96ee-262edc8431f4",
   "metadata": {},
   "outputs": [
    {
     "data": {
      "text/plain": [
       "1"
      ]
     },
     "execution_count": 1,
     "metadata": {},
     "output_type": "execute_result"
    }
   ],
   "source": [
    "from langchain_community.document_loaders import TextLoader\n",
    "loader = TextLoader(\"科技行业 2025 年展望.txt\")\n",
    "docs = loader.load()\n",
    "len(docs)"
   ]
  },
  {
   "cell_type": "markdown",
   "id": "d7d20a33-793a-41d0-a955-9bb92d7ea2fb",
   "metadata": {},
   "source": [
    "# 2. 文档切割\n",
    "\n",
    "langchain提供了RecursiveCharacterTextSplitter文档切割工具。\n",
    "\n",
    "```python\n",
    "from langchain_text_splitters import RecursiveCharacterTextSplitter\n",
    "```\n",
    "\n",
    "参数：\n",
    "1. chunk_size 一般根据文档内容或大小来设置\n",
    "2. chunk_overlap 一般设置 chunk_size 大小的10%-20%之间\n",
    "\n",
    "返回：RecursiveCharacterTextSplitter实例对象\n",
    "\n",
    "RecursiveCharacterTextSplitter实例的实例方法：\n",
    "\n",
    "1. split_documents(): 执行文档切割\n"
   ]
  },
  {
   "cell_type": "code",
   "execution_count": 2,
   "id": "e5275889-00e0-4524-926d-d32356cd8d2c",
   "metadata": {},
   "outputs": [
    {
     "data": {
      "text/plain": [
       "[Document(metadata={'source': '科技行业 2025 年展望.txt'}, page_content='科技行业 2025 年展望:AI 浪潮重新 定义全球科技的未来\\n\\n发表时间：2024 年 12 月 13 日\\n作者：\\n(1) 沈岱 - 首席科技分析师 - sia_huang@spdbi.com - (852) 2809 0355\\n(2) 马智焱 - 科技分析师 - ivy_ma@spdbi.com - (852) 2809 0300\\n(3) 黄佳琦 - 科技分析师 - sia_huang@spdbi.com  - (852) 2809 0355\\n\\n一、全球 AI 行业具备较大成长空间'),\n",
       " Document(metadata={'source': '科技行业 2025 年展望.txt'}, page_content='2022 年 11 月底，OpenAI 发布 ChatGPT 3.5。紧随其后，生成式 AI，在供应 端的推动下，进入爆发式发展期。无论是OpenAI 随后发布的 ChatGPT 4.0， 还是谷歌、Meta 等多家厂商发布的 Gemini、Llama 等 AI 大模型，都是这一 轮AI 行业爆发式发展的体现。AI 算力芯片作为本轮 AI 浪潮基本且不可或缺 的硬件基础，成为这波浪潮最先受益的行业。'),\n",
       " Document(metadata={'source': '科技行业 2025 年展望.txt'}, page_content='首先，美国的云服务提供商大幅增加对于 AI 算力芯片的资本开支，并且推 动其AI 大模型快速更新迭代。而且，大量的公司不愿意在这波浪潮中落后，B 端需求初见端倪并快速成长，希望借助生成式 AI，提高生产力。\\n这四家美国头部云服务厂商(微软、谷歌、亚马逊、Meta)资本支出同比增 速在经历了10 个季度的下行后，在 2023 年二季度见底触及-9%的低点，随 后就开启上行，在今年一季度实现+30%增长，并在二、三季度持续上扬至58%、59%(图表 1)。本轮美国互联网大厂资本开支投向主要集中在 AI 算 力的部署。'),\n",
       " Document(metadata={'source': '科技行业 2025 年展望.txt'}, page_content='展望 2025 年，我们预期美国互联网厂商以及其他初创企业都在加速部署 AI大模型算力，以避免在新技术商业落地过程中落后于竞争对手。所以，我们 预期这些美国头部科技企业的资本开支上行动能会推动AI 算力芯片需求大 幅上扬。\\n其次，承接云服务厂商资本开支的 AI 服务器正在快速增长。与科技新兴产 业发展趋势类似，目前AI 服务器渗透率也处于加速上扬阶段，速度快于一 年/半年以前的市场预测。根据 Counterpoint，AI 服务器收入渗透率已经在二 季度达到29%(图表 8)。'),\n",
       " Document(metadata={'source': '科技行业 2025 年展望.txt'}, page_content='TrendForce 预计 AI 服务器出货量将从 2023 年的 118 万台增长至 2024 年的167 万台，预计 2025 年将会增长至 214 万台。根据 TrendForce 预测，2023年、2024 年、2025 年，全球 AI 服务器出货量渗透率达到/预计达到 8.8%、12.2%、15.0%(图表 7)。'),\n",
       " Document(metadata={'source': '科技行业 2025 年展望.txt'}, page_content='我们预期未来 2-3 年，AI 服务器渗透率保持上扬的趋势，带动 AI 算力芯片 需求加速上扬。从我们对行业的追踪来看，AI 算力芯片增长动能强劲，下行 风险较小。当前是行业发展的初期阶段，与AI 相关的上市企业/初创公司， 持续得到资金的支持，尤其在大模型技术以及商业闭环方面有大幅投入。这 将持续推动AI 或大模型技术本身快速升级迭代，从而推动行业大幅上行。AI 算力芯片本身正在快速迭代，其性能快速提升叠加单位算力的成本快速 下降，推动AI 大模型综合成本下行，从而推动新技术的快速普及。'),\n",
       " Document(metadata={'source': '科技行业 2025 年展望.txt'}, page_content='从长期来看，全球生成式 AI 有望迎来万亿美元市场空间。自 2022 年底ChatGPT 面向公众开放以来，生成式 AI 带动了新一轮的生产效率提升，也开 启了新一轮AI 投资机遇。根据 IDC 数据，2020 年至 2023 年全球生成式 AI市场空间上涨了约 6 倍，预计 2024 年至 2030 年期间复合增长率达到 40%，2030 年有望接近万亿美元规模(图表 3)。'),\n",
       " Document(metadata={'source': '科技行业 2025 年展望.txt'}, page_content='二、端侧 AI 大模型快速落地，带动端云协同需求'),\n",
       " Document(metadata={'source': '科技行业 2025 年展望.txt'}, page_content='端侧 AI 对于 AI 算力芯片需求主要体现在两个方面:\\n1)可以触达 C 端的终端设备本身的出货量大幅提升。尽管 C 端终端并不需 要具备训练AI 大模型的能力，但是这些 AI 设备注重 AI 大模型的推理能力， 同时需要在功耗、成本、实时性、隐私等方面具备较好表现。因此，这需要 在原有CPU、GPU 等端侧芯片上增加包括 NPU 在内的更加高效的 AI 算力 (图表11 和图表 12)，从而带动相关半导体价值量的提升。台积电曾在2Q24 业绩会中分享过，AI 算力要求的提升会带动端侧算力芯片尺寸增加 5%- 10%。'),\n",
       " Document(metadata={'source': '科技行业 2025 年展望.txt'}, page_content='2)为了更好地提升 C 端用户体验，终端品牌厂商同样需要云端的 AI 算力来 训练自身的大模型，从而大幅提升小参数量的端侧模型能力。这是从端侧推 理体验需求反哺云侧训练算力需求提升，再次带动云侧AI 算力的增长。\\n首先，具备端侧 AI 大模型能力的终端设备出货量大幅提升，带动具备更高AI 算力芯片出货量提升。在近半年来，无论是智能手机品牌、笔记本电脑品 牌，还是新能源车企都在发布具备端侧AI 能力的终端产品。生成式 AI 正在 快速渗透到各种电子终端中。因此，AI 算力芯片在端侧的需求也在大幅增长。'),\n",
       " Document(metadata={'source': '科技行业 2025 年展望.txt'}, page_content='今年 9 月苹果发布的 iPhone 16 系列手机首次正式搭载 Apple Intelligence，使 得苹果生态设备中的语音助手Siri 可实现跨平台调用能力。Apple Intelligence也具备生成式 AI 典型能力，例如图像生成、邮件撰写等(图表 55)。\\n今年 10 月，小米发布小米 15 系列手机，搭载澎湃 OS 2，其中包含 HyperAI子系统。这是小米在自身手机上首次实现 AI 动态壁纸、AI 写作、AI 识音、AI 翻译以及 AI 妙书等功能。而且，小米也升级了 AI 智能助手“超级小爱”， 打通感知、理解、执行等全链路能力。'),\n",
       " Document(metadata={'source': '科技行业 2025 年展望.txt'}, page_content='今年 11 月，小鹏发布 P7+，实现了轻雷达、轻地图的智驾能力。与 OpenAI最新 o1 推理模型类似，小鹏的智驾借助自身端到端架构，追求极致智能的 智驾体验。而且，小鹏大模型实现云端协同，其云端大模型参数量是车端的80 多倍。\\n根据 Counterpoint 的预测，2024 年、2025 年 AI 智能手机渗透率将达到 18%和 29%;今明两年全球高阶 AI PC 渗透率将达到 5%、15%(图表 9)。\\n进一步看，AI 在 MR 等设备具备较大潜力。例如，去年发布的雷朋眼镜搭载 了Meta 的 Llama 大模型。因此，我们对于未来端侧 AI 算力芯片增长保持乐 观的态度。'),\n",
       " Document(metadata={'source': '科技行业 2025 年展望.txt'}, page_content='其次，端云协同再次反哺云端 AI 算力芯片需求提升。端侧 AI 大模型的用户 体验提升依赖于端侧AI 大模型能力的提升，从而催生云端大模型能力的迭 代。云端协同可以更快带动端侧AI 模型能力升级，保持各家公司的竞争差 异化和优势。\\n在今年三季报业绩会上，特斯拉表示正在加大对 AI 的投入，提升硬件端算 力芯片的购买，因此其三季度资本支出上升至单季度35 亿美元。其主要目 的是为了大幅扩张其服务器算力产能以提升AI 大模型的训练能力，为其新 能源车自动驾驶以及人形机器人具身智能提供基石。'),\n",
       " Document(metadata={'source': '科技行业 2025 年展望.txt'}, page_content='为推动其 AI 进展，小米也在 AI 领域大力投入，尤其在算力方面。通过自建 与租赁算力两种方式，小米可以快速增强训练端的算力保障。这为跨平台的 自研HyperAI 提供支撑，也为其小米汽车智驾模型保驾护航。\\n造车新势力小鹏大力推动端到端的云端协同。小鹏今年在训练算力上的支出 可能达到1 亿美元，具备 7,000 张以上的 GPU 卡。公司预期 AI 大模型带来 自动驾驶能力颠覆性变革，智驾体验在未来12-18 月大幅提升。'),\n",
       " Document(metadata={'source': '科技行业 2025 年展望.txt'}, page_content='我们认为这些端侧 AI 模型、C 端 AI 体验将推动终端品牌，包括但不局限于 智能手机、笔记本电脑、新能源车、ARVR 等终端，致力于提升其云端大模 型能力，构建自身AI 大模型能力的差异化和竞争优势。这为基础 AI 大模型 厂商(如OpenAI、谷歌等)带来行业空间的增量需求。\\n展望 2025 年，能够支持端侧 AI 大模型算力的芯片预计将取得较高增速，包 括应用于智能手机的高通骁龙Gen 系列、联发科天玑系列，智能驾驶中使 用的英伟达Orin 和 Thor，以及终端品牌厂商潜在的自研 AI 算力芯片等。'),\n",
       " Document(metadata={'source': '科技行业 2025 年展望.txt'}, page_content='从更长期的时间维度看，端侧 AI 需求会拉动整体 AI 算力芯片训练端的需 求，拓展AI 算力芯片的增长边界。长期来看，作为具身智能载体，人形机 器人有潜力超过智能手机和汽车等终端行业的规模，带来更大的AI 算力芯 片需求增量。'),\n",
       " Document(metadata={'source': '科技行业 2025 年展望.txt'}, page_content='三、智能手机:2024 年、2025 年连续两年保持增长\\n预计 2025 年全球智能手机出货量将同比增长 2%\\n根据 IDC 数据，今年三季度全球智能手机出货量 3.15 亿部，环比增长 8%， 同比增长4%(图表 34)。虽然同比增速较一二季度下行，但是同比增速略 好于我们此前预测。这与我们与智能手机供应链沟通下来的情况类似，比半 年报看到的行业需求情况略好。'),\n",
       " Document(metadata={'source': '科技行业 2025 年展望.txt'}, page_content='从地区来看，中东非的出货量为 4,199 万部，同比增速为 14%，表现亮眼， 唯一一个达到双位数增速的地区。紧随其后的亚洲其他地区出货量4,502 万 部，同比增长8%。这两个区域的出货量表现好于我们此前预测。虽然印度 三季度的出货量同比增长5%，但是略微低于我们此前预测。\\n在三季度，中国的出货量 6,878 万部，同比增长 3%，环比下滑 4%(图表32)。欧洲和北美发达市场的出货量分别同比下降 5%和 1%。这三个区域的 出货量表现大体符合我们此前的预测。'),\n",
       " Document(metadata={'source': '科技行业 2025 年展望.txt'}, page_content='在三季度，中国的出货量 6,878 万部，同比增长 3%，环比下滑 4%(图表32)。欧洲和北美发达市场的出货量分别同比下降 5%和 1%。这三个区域的 出货量表现大体符合我们此前的预测。\\n从价格段看，高端及低端价格带机型份额均有提升。今年三季度，人民币3,000 元以上的智能手机份额同比提升 0.5 个百分点，1,000 元以下的智能手 机份额同比提升3.6 个百分点，而 1,000-3,000 元的中端机型份额同比下滑4.1 个百分点。综合来看，由于低端占比提升更多，三季度全球手机平均售 价同比下滑4%。'),\n",
       " Document(metadata={'source': '科技行业 2025 年展望.txt'}, page_content='高端机型相对优异的表现与我们在安卓品牌端以及供应链端看到的情况类 似。虽然全球智能手机换机周期仍然处于偏高位置，但是在较长换机周期的 情况下，用户愿意提升预算购买相对高端的机型。而千元以下手机占比提升， 主要来自于中东非等发展地区手机出货量更加强劲的表现。这可能是美国进 入降息周期带动这些地区手机需求的释放。\\n其中，小米的高端机型表现比较典型。今年三季度，小米 3,000 元人民币以 上的智能手机出货量占到小米总出货量的6.3%，同比增加 1.5 个百分点，环 比增加0.5 个百分点(图表 41)。'),\n",
       " Document(metadata={'source': '科技行业 2025 年展望.txt'}, page_content='其中，小米的高端机型表现比较典型。今年三季度，小米 3,000 元人民币以 上的智能手机出货量占到小米总出货量的6.3%，同比增加 1.5 个百分点，环 比增加0.5 个百分点(图表 41)。\\n展望四季度，国内和海外节假日、购物节集中，全球智能手机出货量预期环 比增长1%。而由于去年四季度是本轮智能手机出货量同比增速翻正的第一 个季度，因而有相对较高基础，我们预期四季度全球智能手机出货量同比下 降2%。'),\n",
       " Document(metadata={'source': '科技行业 2025 年展望.txt'}, page_content='总体来看，我们预期今年全球智能手机出货量将达到 12.2 亿部，同比增长5.1%。我们略微上调全年出货量预测。全球智能手机出货量在今年取得较好 增长，在2023 年接近冰点的出货量基础上实现了较好的复苏。\\n我们认为 2025 年有望延续 2024 年的复苏势头，预计 2025 年全球智能手机 出货量将达到12.4 亿部，同比增长 1.6%。由于今年一二季度全球智能手机 出货量接近2 位数的增长，2025 年上半年智能手机出货量可能会录得同比 下滑。但是，明年同比增速有望呈现前低后高的态势，从而带来全年出货量 的正增长(图表30)。'),\n",
       " Document(metadata={'source': '科技行业 2025 年展望.txt'}, page_content='进一步看，明年高端智能手机出货量有望继续跑赢整体大盘。其一，从供应 端来看，明年会更多端侧AI 手机上市，从给高端智能手机带来新的产品。 其次，从需求角度看，端侧AI 手机更加容易刺激高端用户的换机需求。配 合长换机期下的高端需求增量，高端智能手机需求也有望继续提升。')]"
      ]
     },
     "execution_count": 2,
     "metadata": {},
     "output_type": "execute_result"
    }
   ],
   "source": [
    "from langchain_text_splitters import RecursiveCharacterTextSplitter\n",
    "text_spliter = RecursiveCharacterTextSplitter(chunk_size=300, chunk_overlap=100)\n",
    "all_splits = text_spliter.split_documents(docs)\n",
    "all_splits"
   ]
  },
  {
   "cell_type": "markdown",
   "id": "ad416586-f684-4d52-8104-965adb8984f8",
   "metadata": {},
   "source": [
    "# 3. embedding\n",
    "\n",
    "使用embedding模型进行embedding操作。\n",
    "\n",
    "这里我们使用ollama进行embedding操作。（ollama是一个运行LLM的工具）\n",
    "\n",
    "```python\n",
    "from langchain_ollama import OllamaEmbeddings\n",
    "\n",
    "# OllamaEmbeddings的参数\n",
    "# - model：embedding模型从https://ollama.com/search选择。\n",
    "```\n",
    "\n",
    "\n"
   ]
  },
  {
   "cell_type": "code",
   "execution_count": 3,
   "id": "f2a8e2cd-ab10-4ca1-80a7-2796d03f6572",
   "metadata": {},
   "outputs": [],
   "source": [
    "from langchain_ollama import OllamaEmbeddings\n",
    "embeddings = OllamaEmbeddings(model=\"nomic-embed-text:latest\")"
   ]
  },
  {
   "cell_type": "markdown",
   "id": "5a13cad0-bd2f-4a24-9f01-6b79747f6453",
   "metadata": {},
   "source": [
    "# 4. 存储到向量数据库\n",
    "\n",
    "```python\n",
    "from langchain_chroma import Chroma\n",
    "\n",
    "# 参数:\n",
    "# embedding_function: embeddings实例对象\n",
    "```\n",
    "chroma实例对象的方法：\n",
    "- add_documents: 添加文档到向量数据库当中。\n"
   ]
  },
  {
   "cell_type": "code",
   "execution_count": 4,
   "id": "c999a526-1f42-44ed-84d2-baa2bcac471a",
   "metadata": {},
   "outputs": [
    {
     "data": {
      "text/plain": [
       "['55a37a42-4eb6-41ab-97b7-0a5e41dedf12',\n",
       " 'c6fd7e4c-484c-484c-bac2-5a9affe262ab',\n",
       " 'c25d095b-938a-4248-b05a-7c75023979f7',\n",
       " '285198ce-e085-41c2-8d70-e6b140a101c7',\n",
       " '93cd81e6-8c43-482f-a2ad-321321a75b75',\n",
       " 'd1d1bf6b-732b-4b84-b0de-83cc6a3ed52a',\n",
       " '0ee3960d-6b40-4ba7-942a-0011fb2dc410',\n",
       " '0b015ce0-afd6-4ae7-9f2f-36d23177e390',\n",
       " '15524418-6553-4694-a4f2-85a1d3abe8b8',\n",
       " '132abcb0-17f5-49fd-b15b-227ac0893cde',\n",
       " '0622383c-7ab3-47ff-a0e1-072f9fb5da87',\n",
       " 'cd6a0a54-299c-4a6a-a66a-7571ee72c69c',\n",
       " 'c2197e8c-221c-4e9f-b144-f221d179e070',\n",
       " 'b45e0d3d-2f10-4983-8568-76b62c345e6c',\n",
       " '9f2a76cc-ac2a-4dae-ab6f-528089ce9015',\n",
       " '0d918971-8662-4289-b146-d871fd22ff85',\n",
       " 'a364f833-0459-4ffd-b5ff-62c0e0cd0b21',\n",
       " '8a9e789a-a8c8-456f-a8d1-680e18b72044',\n",
       " '61657e97-389d-4b37-89cd-4800bc62faff',\n",
       " 'ad372d06-128d-42f0-a2d4-0a78f5942105',\n",
       " '6d83df8d-0e99-4414-a4b1-c246840fc98a',\n",
       " '643aa2c6-c1e7-4966-8025-27c874f18c25',\n",
       " '939ce5e6-000f-48d8-83de-1c8500702695']"
      ]
     },
     "execution_count": 4,
     "metadata": {},
     "output_type": "execute_result"
    }
   ],
   "source": [
    "from langchain_chroma import Chroma\n",
    "\n",
    "vector_store = Chroma(embedding_function=embeddings)\n",
    "ids = vector_store.add_documents(documents=all_splits)\n",
    "ids"
   ]
  },
  {
   "cell_type": "markdown",
   "id": "5c7fa92b-eb2f-4b16-9168-ee6558157ce2",
   "metadata": {},
   "source": [
    "# 5. 检索生成\n",
    "\n",
    "使用langchain框架，langchain框架的常规调用流程：\n",
    "\n",
    "prompt | llm | output_parser\n",
    "\n",
    "```python\n",
    "# 1. 构建prompt\n",
    "from langchain_core.prompts import ChatPromptTemplate\n",
    "# 2. 使用Ollama进行回答\n",
    "from langchain_ollama import ChatOllama\n",
    "# 3. 输出格式化\n",
    "from langchain_core.output_parsers import StrOutputParser\n",
    "```"
   ]
  },
  {
   "cell_type": "code",
   "execution_count": 7,
   "id": "1a1c970e-6d44-4019-894b-55dd63c52bed",
   "metadata": {},
   "outputs": [
    {
     "data": {
      "text/plain": [
       "'2025年AI服务器出货量预计为214万台。'"
      ]
     },
     "execution_count": 7,
     "metadata": {},
     "output_type": "execute_result"
    }
   ],
   "source": [
    "# 1. 构建prompt\n",
    "from langchain_core.prompts import ChatPromptTemplate\n",
    "# 2. 使用Ollama进行回答\n",
    "from langchain_ollama import ChatOllama\n",
    "# 3. 输出格式化\n",
    "from langchain_core.output_parsers import StrOutputParser\n",
    "\n",
    "prompt = ChatPromptTemplate.from_template(\"\"\"\n",
    "你是一个问答机器人。你的任务是根据下述给定的已知信息回答用户问题。\n",
    "\n",
    "已知信息:\n",
    "{context}\n",
    "用户问题：\n",
    "{query}\n",
    "如果已知信息不包含用户问题的答案，或者已知信息不足以回答用户的问题，请直接回复\"我无法回答您的问题\"。\n",
    "请不要输出已知信息中不包含的信息或答案。\n",
    "请用中文回答用户问题。\n",
    "\"\"\")\n",
    "\n",
    "def query_vector(info):\n",
    "    retriever = vector_store.as_retriever()\n",
    "    docs = retriever.invoke(info[\"query\"])\n",
    "    docs_str = \"\\n\\n\".join(doc.page_content for doc in docs)\n",
    "    return docs_str\n",
    "    \n",
    "llm = ChatOllama(model=\"qwen2.5:latest\")\n",
    "\n",
    "output_parser = StrOutputParser()\n",
    "# 返回值: {\"query\": \"XXXX\", \"context\": \"XXXXX2\"}\n",
    "rag_chain = ( {\"context\": query_vector, \"query\": lambda x: x[\"query\"]} | prompt | llm | output_parser)\n",
    "\n",
    "result = rag_chain.invoke({\"query\": \"2025年AI服务器出货量预计为多少?\"})\n",
    "result"
   ]
  },
  {
   "cell_type": "code",
   "execution_count": 8,
   "id": "cf847ccb-821e-4054-9e22-fd1a48cff7c4",
   "metadata": {},
   "outputs": [
    {
     "data": {
      "text/plain": [
       "'2024年三季度全球智能手机出货量的信息在已知信息中没有具体给出具体的数字，只知道今年三季度全球智能手机出货量为3.15亿部。因此，我无法回答您的问题。'"
      ]
     },
     "execution_count": 8,
     "metadata": {},
     "output_type": "execute_result"
    }
   ],
   "source": [
    "# 今年三季度全球智能手机出货量 3.15 亿部\n",
    "result = rag_chain.invoke({\"query\": \"2024年三季度全球智能手机出货量 多少部?\"})\n",
    "result"
   ]
  },
  {
   "cell_type": "code",
   "execution_count": null,
   "id": "4318d34a-36da-44be-9d3c-0277d1946607",
   "metadata": {},
   "outputs": [],
   "source": [
    "# 1. 根据问题到向量数据库中进行检索\n",
    "# 2. 将检索到的文档片段加到prompt当中"
   ]
  },
  {
   "cell_type": "code",
   "execution_count": 5,
   "id": "dd71b00c-996f-4920-9c9d-8fc6f4de8287",
   "metadata": {},
   "outputs": [],
   "source": [
    "# retriever = vector_store.as_retriever()\n",
    "# retriever\n",
    "def query_vector(info):\n",
    "    retriever = vector_store.as_retriever()\n",
    "    docs = retriever.invoke(info[\"query\"])\n",
    "    return docs"
   ]
  },
  {
   "cell_type": "code",
   "execution_count": 6,
   "id": "c03a645c-8ed6-4382-a6c5-534b30a54777",
   "metadata": {},
   "outputs": [
    {
     "data": {
      "text/plain": [
       "[Document(id='55a37a42-4eb6-41ab-97b7-0a5e41dedf12', metadata={'source': '科技行业 2025 年展望.txt'}, page_content='科技行业 2025 年展望:AI 浪潮重新 定义全球科技的未来\\n\\n发表时间：2024 年 12 月 13 日\\n作者：\\n(1) 沈岱 - 首席科技分析师 - sia_huang@spdbi.com - (852) 2809 0355\\n(2) 马智焱 - 科技分析师 - ivy_ma@spdbi.com - (852) 2809 0300\\n(3) 黄佳琦 - 科技分析师 - sia_huang@spdbi.com  - (852) 2809 0355\\n\\n一、全球 AI 行业具备较大成长空间'),\n",
       " Document(id='285198ce-e085-41c2-8d70-e6b140a101c7', metadata={'source': '科技行业 2025 年展望.txt'}, page_content='展望 2025 年，我们预期美国互联网厂商以及其他初创企业都在加速部署 AI大模型算力，以避免在新技术商业落地过程中落后于竞争对手。所以，我们 预期这些美国头部科技企业的资本开支上行动能会推动AI 算力芯片需求大 幅上扬。\\n其次，承接云服务厂商资本开支的 AI 服务器正在快速增长。与科技新兴产 业发展趋势类似，目前AI 服务器渗透率也处于加速上扬阶段，速度快于一 年/半年以前的市场预测。根据 Counterpoint，AI 服务器收入渗透率已经在二 季度达到29%(图表 8)。'),\n",
       " Document(id='643aa2c6-c1e7-4966-8025-27c874f18c25', metadata={'source': '科技行业 2025 年展望.txt'}, page_content='总体来看，我们预期今年全球智能手机出货量将达到 12.2 亿部，同比增长5.1%。我们略微上调全年出货量预测。全球智能手机出货量在今年取得较好 增长，在2023 年接近冰点的出货量基础上实现了较好的复苏。\\n我们认为 2025 年有望延续 2024 年的复苏势头，预计 2025 年全球智能手机 出货量将达到12.4 亿部，同比增长 1.6%。由于今年一二季度全球智能手机 出货量接近2 位数的增长，2025 年上半年智能手机出货量可能会录得同比 下滑。但是，明年同比增速有望呈现前低后高的态势，从而带来全年出货量 的正增长(图表30)。'),\n",
       " Document(id='93cd81e6-8c43-482f-a2ad-321321a75b75', metadata={'source': '科技行业 2025 年展望.txt'}, page_content='TrendForce 预计 AI 服务器出货量将从 2023 年的 118 万台增长至 2024 年的167 万台，预计 2025 年将会增长至 214 万台。根据 TrendForce 预测，2023年、2024 年、2025 年，全球 AI 服务器出货量渗透率达到/预计达到 8.8%、12.2%、15.0%(图表 7)。')]"
      ]
     },
     "execution_count": 6,
     "metadata": {},
     "output_type": "execute_result"
    }
   ],
   "source": [
    "query_vector({\"query\": \"2025年AI服务器出货量预计为多少?\"})"
   ]
  },
  {
   "cell_type": "code",
   "execution_count": null,
   "id": "a17ee1f0-c5e0-4f38-b384-d967eae25d36",
   "metadata": {},
   "outputs": [],
   "source": []
  }
 ],
 "metadata": {
  "kernelspec": {
   "display_name": "Python 3 (ipykernel)",
   "language": "python",
   "name": "python3"
  },
  "language_info": {
   "codemirror_mode": {
    "name": "ipython",
    "version": 3
   },
   "file_extension": ".py",
   "mimetype": "text/x-python",
   "name": "python",
   "nbconvert_exporter": "python",
   "pygments_lexer": "ipython3",
   "version": "3.12.7"
  }
 },
 "nbformat": 4,
 "nbformat_minor": 5
}

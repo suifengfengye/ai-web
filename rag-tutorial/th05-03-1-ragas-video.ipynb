{
 "cells": [
  {
   "cell_type": "markdown",
   "id": "e2134cb3-527e-40eb-b8f4-12b1c8f8333b",
   "metadata": {},
   "source": [
    "# 1. 客观评估\n",
    "\n",
    "句子：常见于翻译以及生成伪代码、命令行任务，\n",
    "\n",
    "- BLEU：Bilingual Evaluation Understudy, 双语评估替代指标。\n",
    "\n",
    "BLEU的优点:\n",
    "- 计算代价小，速度快\n",
    "- 容易理解\n",
    "- 与语言无关\n",
    "\n",
    "计算方式：\n",
    "\n",
    "$$ bleu = \\frac{相同的词数}{回答的总词数} $$\n"
   ]
  },
  {
   "cell_type": "code",
   "execution_count": 3,
   "id": "8fc744ab-9873-4631-83b0-24e2215f0209",
   "metadata": {},
   "outputs": [],
   "source": [
    "query = \"你为什么看Bilibili的视频？\"\n",
    "reference = \"我看Bilibili能学到很多东西。\"\n",
    "response = \"我看Bilibili的视频能学到很多知识。\""
   ]
  },
  {
   "cell_type": "code",
   "execution_count": 5,
   "id": "358c1936-d6b0-4233-8302-9eb1090d5855",
   "metadata": {},
   "outputs": [
    {
     "name": "stdout",
     "output_type": "stream",
     "text": [
      "['我', '看', 'Bilibili', '能', '学到', '很多', '东西', '。']\n",
      "['我', '看', 'Bilibili', '的', '视频', '能', '学到', '很多', '知识', '。']\n"
     ]
    }
   ],
   "source": [
    "import jieba\n",
    "reference_tokens = list(jieba.cut(reference))\n",
    "response_tokens = list(jieba.cut(response))\n",
    "print(reference_tokens)\n",
    "print(response_tokens)"
   ]
  },
  {
   "cell_type": "code",
   "execution_count": 6,
   "id": "11ce361e-188f-4a75-9463-4ea3372cd1a8",
   "metadata": {},
   "outputs": [
    {
     "data": {
      "text/plain": [
       "0.7"
      ]
     },
     "execution_count": 6,
     "metadata": {},
     "output_type": "execute_result"
    }
   ],
   "source": [
    "7/len(response_tokens)"
   ]
  },
  {
   "cell_type": "code",
   "execution_count": null,
   "id": "fca29834-fee8-497b-8322-05417eebc0c3",
   "metadata": {},
   "outputs": [],
   "source": [
    "# bleu-2\n",
    "# bleu-3\n",
    "# bleu-4"
   ]
  }
 ],
 "metadata": {
  "kernelspec": {
   "display_name": "Python 3 (ipykernel)",
   "language": "python",
   "name": "python3"
  },
  "language_info": {
   "codemirror_mode": {
    "name": "ipython",
    "version": 3
   },
   "file_extension": ".py",
   "mimetype": "text/x-python",
   "name": "python",
   "nbconvert_exporter": "python",
   "pygments_lexer": "ipython3",
   "version": "3.12.7"
  }
 },
 "nbformat": 4,
 "nbformat_minor": 5
}

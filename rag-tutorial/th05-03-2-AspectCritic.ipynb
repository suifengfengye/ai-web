{
 "cells": [
  {
   "cell_type": "markdown",
   "id": "cf177e30-41a2-426d-b537-def1a651d26f",
   "metadata": {},
   "source": [
    "# 安装\n",
    "```shell\n",
    "pip install ragas\n",
    "```"
   ]
  },
  {
   "cell_type": "markdown",
   "id": "08024f48-9e6f-49d5-a7ce-8bbeee4c1882",
   "metadata": {},
   "source": [
    "# 1. AspectCritic\n",
    "\n",
    "通过AspectCritic，设置提示词，可以灵活地让LLM做出任何评判。\n",
    "\n",
    "参数：\n",
    "- name: str, 名称\n",
    "- definition: str, 定义需要LLM做什么！\n",
    "- llm: BaseRagasLLM, 大语言模型实例\n",
    "\n",
    "\n",
    "\n",
    "```python\n",
    "from ragas.metrics import AspectCritic\n",
    "```\n"
   ]
  },
  {
   "cell_type": "markdown",
   "id": "5f778cf9-5e03-4f5d-9c55-7641c8172a42",
   "metadata": {},
   "source": [
    "# 2. 样本\n",
    "单论样本， SingleTurnSample\n",
    "\n",
    "- user_input: str, 用户输入\n",
    "- retrieved_contexts: List[str], 检索到的上下文\n",
    "- reference_contexts: List[str], 参考上下文\n",
    "- response: str, 响应/回答\n",
    "- multi_responses: List[str], 多个响应\n",
    "- reference: str, 参考答案\n",
    "- rubrics: Dict[str, str] ， 评分标准 ？？？\n",
    "\n",
    "多论样本, MultiTurnSample\n",
    "\n",
    "- user_input: str, 用户输入\n",
    "- reference: str, 参考答案\n",
    "- reference_tool_calls: List[ToolCall]\n",
    "- rubrics: Dict[str, str] ， 评分标准 ？？？\n",
    "- reference_topics: List[str] ????\n"
   ]
  },
  {
   "cell_type": "code",
   "execution_count": 1,
   "id": "57bcef82-017a-44a1-bd8e-e8004dbe5c5e",
   "metadata": {},
   "outputs": [
    {
     "data": {
      "text/plain": [
       "{'id': '968d0465-4d3f-4b5c-8326-58cecc4aa70c',\n",
       " 'question': '根据背景信息，2025年科技行业展望中AI浪潮重新定义了全球科技的未来，请问在2024年12月13日这份报告中有哪几位作者？'}"
      ]
     },
     "execution_count": 1,
     "metadata": {},
     "output_type": "execute_result"
    }
   ],
   "source": [
    "import json\n",
    "\n",
    "# 原始数据\n",
    "line = '{\"id\": \"968d0465-4d3f-4b5c-8326-58cecc4aa70c\", \"question\": \"\\\\u6839\\\\u636e\\\\u80cc\\\\u666f\\\\u4fe1\\\\u606f\\\\uff0c2025\\\\u5e74\\\\u79d1\\\\u6280\\\\u884c\\\\u4e1a\\\\u5c55\\\\u671b\\\\u4e2dAI\\\\u6d6a\\\\u6f6e\\\\u91cd\\\\u65b0\\\\u5b9a\\\\u4e49\\\\u4e86\\\\u5168\\\\u7403\\\\u79d1\\\\u6280\\\\u7684\\\\u672a\\\\u6765\\\\uff0c\\\\u8bf7\\\\u95ee\\\\u57282024\\\\u5e7412\\\\u670813\\\\u65e5\\\\u8fd9\\\\u4efd\\\\u62a5\\\\u544a\\\\u4e2d\\\\u6709\\\\u54ea\\\\u51e0\\\\u4f4d\\\\u4f5c\\\\u8005\\\\uff1f\"}'\n",
    "\n",
    "# 解析 JSON 数据\n",
    "data = json.loads(line)\n",
    "data"
   ]
  },
  {
   "cell_type": "code",
   "execution_count": 2,
   "id": "c1f59bbd-4d0a-4277-962b-2ae4d5918c31",
   "metadata": {},
   "outputs": [
    {
     "data": {
      "text/plain": [
       "{'ids': ['968d0465-4d3f-4b5c-8326-58cecc4aa70c'],\n",
       " 'embeddings': None,\n",
       " 'metadatas': [{'source': '科技行业 2025 年展望.txt',\n",
       "   '作者': '沈岱,马智焱,黄佳琦',\n",
       "   '发表时间': '2024 年 12 月 13 日',\n",
       "   '文章标题': '科技行业2025年展望'}],\n",
       " 'documents': ['科技行业 2025 年展望:AI 浪潮重新 定义全球科技的未来\\n\\n发表时间：2024 年 12 月 13 日\\n作者：\\n(1) 沈岱 - 首席科技分析师 - sia_huang@spdbi.com - (852) 2809 0355\\n(2) 马智焱 - 科技分析师 - ivy_ma@spdbi.com - (852) 2809 0300\\n(3) 黄佳琦 - 科技分析师 - sia_huang@spdbi.com  - (852) 2809 0355\\n\\n一、全球 AI 行业具备较大成长空间'],\n",
       " 'data': None,\n",
       " 'uris': None,\n",
       " 'included': ['documents', 'metadatas']}"
      ]
     },
     "execution_count": 2,
     "metadata": {},
     "output_type": "execute_result"
    }
   ],
   "source": [
    "# 我们把id的文档片段也拿出来一下\n",
    "import chromadb\n",
    "client = chromadb.HttpClient(host=\"localhost\", port=8000)\n",
    "collection = client.get_or_create_collection(name=\"rag-video-collection\")\n",
    "doc = collection.get(ids=[\"968d0465-4d3f-4b5c-8326-58cecc4aa70c\"])\n",
    "doc"
   ]
  },
  {
   "cell_type": "code",
   "execution_count": 6,
   "id": "c05ad32d-205a-4496-963f-4a82989d7b65",
   "metadata": {},
   "outputs": [],
   "source": [
    "data = {\n",
    "    \"page_content\": \"科技行业 2025 年展望:AI 浪潮重新 定义全球科技的未来\\n\\n发表时间：2024 年 12 月 13 日\\n作者：\\n(1) 沈岱 - 首席科技分析师 - sia_huang@spdbi.com - (852) 2809 0355\\n(2) 马智焱 - 科技分析师 - ivy_ma@spdbi.com - (852) 2809 0300\\n(3) 黄佳琦 - 科技分析师 - sia_huang@spdbi.com  - (852) 2809 0355\\n\\n一、全球 AI 行业具备较大成长空间\",\n",
    "    \"question\": \"根据背景信息，2025年科技行业展望中AI浪潮重新定义了全球科技的未来，请问在2024年12月13日这份报告中有哪几位作者？\"\n",
    "}"
   ]
  },
  {
   "cell_type": "code",
   "execution_count": 12,
   "id": "cdd46b31-20d2-4709-b3a1-e26bdcd6f7dd",
   "metadata": {},
   "outputs": [],
   "source": [
    "data = {\n",
    "    \"page_content\": \"重要的事，通常不紧急，紧急的事，通常不重要。要完成重要的事，就不要操之过急。\",\n",
    "    \"question\": \"根据背景信息，2025年科技行业展望中AI浪潮重新定义了全球科技的未来，请问在2024年12月13日这份报告中有哪几位作者？\"\n",
    "}"
   ]
  },
  {
   "cell_type": "code",
   "execution_count": 13,
   "id": "714bd940-32ca-45fb-89ec-90ddf7d05028",
   "metadata": {},
   "outputs": [
    {
     "data": {
      "text/plain": [
       "0"
      ]
     },
     "execution_count": 13,
     "metadata": {},
     "output_type": "execute_result"
    }
   ],
   "source": [
    "from ragas import SingleTurnSample\n",
    "from ragas.metrics import AspectCritic\n",
    "from langchain_ollama import ChatOllama\n",
    "from ragas.llms import LangchainLLMWrapper\n",
    "\n",
    "llm = ChatOllama(\n",
    "        model=\"qwen2.5:latest\",\n",
    "    )\n",
    "\n",
    "# metric = AspectCritic(name=\"relevance_assessment\", \n",
    "#                       llm=LangchainLLMWrapper(llm), \n",
    "#                       definition=\"判断问题和文档内容是否相关？\")\n",
    "metric = AspectCritic(name=\"relevance_assessment\", \n",
    "                      llm=LangchainLLMWrapper(llm), \n",
    "                      definition=\"判断输入(user_input)和上下文(retrieved_contexts)是否相关？\")\n",
    "test_data = SingleTurnSample(\n",
    "    user_input = data[\"question\"],\n",
    "    retrieved_contexts = [data[\"page_content\"]]\n",
    ")\n",
    "await metric.single_turn_ascore(test_data)"
   ]
  },
  {
   "cell_type": "markdown",
   "id": "f331c49e-0dbe-477c-b42d-858e4c23c24f",
   "metadata": {},
   "source": [
    "AspectCritic 提示词：\n",
    "Evaluate the Input based on the criterial defined. Use only 'Yes' (1) and 'No' (0) as verdict.\n",
    "Criteria Definition: 判断输入(user_input)和上下文(retrieved_contexts)是否相关？\n",
    "Please return the output in a JSON format that complies with the following schema as specified in JSON Schema:\n",
    "{\"properties\": {\"reason\": {\"description\": \"Reason for the verdict\", \"title\": \"Reason\", \"type\": \"string\"}, \"verdict\": {\"description\": \"The verdict (0 or 1) for the submission\", \"title\": \"Verdict\", \"type\": \"integer\"}}, \"required\": [\"reason\", \"verdict\"], \"title\": \"AspectCriticOutput\", \"type\": \"object\"}\n",
    "Do not use single quotes in your response but double quotes,properly escaped with a backslash.\n",
    "\n",
    "-----------------------------\n",
    "\n",
    "Now perform the same with the following input\n",
    "input: {\n",
    "    \"user_input\": \"根据背景信息，2025年科技行业展望中AI浪潮重新定义了全球科技的未来，请问在2024年12月13日这份报告中有哪几位作者？\",\n",
    "    \"retrieved_contexts\": [\n",
    "        \"科技行业 2025 年展望:AI 浪潮重新 定义全球科技的未来\\n\\n发表时间：2024 年 12 月 13 日\\n作者：\\n(1) 沈岱 - 首席科技分析师 - sia_huang@spdbi.com - (852) 2809 0355\\n(2) 马智焱 - 科技分析师 - ivy_ma@spdbi.com - (852) 2809 0300\\n(3) 黄佳琦 - 科技分析师 - sia_huang@spdbi.com  - (852) 2809 0355\\n\\n一、全球 AI 行业具备较大成长空间\"\n",
    "    ]\n",
    "}\n",
    "Output: "
   ]
  },
  {
   "cell_type": "markdown",
   "id": "74b942f6-6285-4206-9315-c16aadd6eaf0",
   "metadata": {},
   "source": [
    "# 3 批量评估\n",
    "\n",
    "```python\n",
    "from ragas import evaluate\n",
    "```\n",
    "\n",
    "evalute()方法的参数：\n",
    "\n",
    "- dataset: Dataset | EvaluationDataset,\n",
    "- metrics: List[Metric]\n",
    "- llm: BaseRagasLLM, 大语言模型实例\n",
    "\n"
   ]
  },
  {
   "cell_type": "code",
   "execution_count": null,
   "id": "34c3ec0f-cab3-4194-b134-7a16eceda473",
   "metadata": {},
   "outputs": [],
   "source": []
  }
 ],
 "metadata": {
  "kernelspec": {
   "display_name": "Python 3 (ipykernel)",
   "language": "python",
   "name": "python3"
  },
  "language_info": {
   "codemirror_mode": {
    "name": "ipython",
    "version": 3
   },
   "file_extension": ".py",
   "mimetype": "text/x-python",
   "name": "python",
   "nbconvert_exporter": "python",
   "pygments_lexer": "ipython3",
   "version": "3.12.8"
  }
 },
 "nbformat": 4,
 "nbformat_minor": 5
}

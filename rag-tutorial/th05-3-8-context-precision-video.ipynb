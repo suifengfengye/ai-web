{
 "cells": [
  {
   "cell_type": "markdown",
   "id": "9b1367ea-6e08-4194-973f-1585f96e5842",
   "metadata": {},
   "source": [
    "# 1. LLMContextPrecisionWithoutReference\n",
    "\n",
    "ContextPrecision, 上下文精度。 平均精度指标用来评估LLM选择的所有相关项是否具有较高的排名。\n",
    "\n",
    "\n",
    "参数：\n",
    "\n",
    "- name: str, 指标名称,默认为\"llm_context_precision_without_reference\"\n",
    "- context_precision_prompt: 上下文精度提示词。\n",
    "- max_retries: 最大重试次数，默认值为1。\n",
    "\n",
    "*******************************************************************\n",
    "- _required_columns: 需要在数据信息, [\"user_input\", \"retrieved_contexts\", \"response\"]\n"
   ]
  },
  {
   "cell_type": "markdown",
   "id": "0d00da88-bd27-4f0b-b69f-ab9245e1e807",
   "metadata": {},
   "source": [
    "# 2. LLMContextPrecisionWithReference\n",
    "\n",
    "和LLMContextPrecisionWithoutReference实现逻辑一致，只是考察的是“reference”.\n",
    "\n",
    "- _required_columns: 需要在数据信息, [\"user_input\", \"retrieved_contexts\", \"reference\"]"
   ]
  },
  {
   "cell_type": "markdown",
   "id": "b222f9c3-29c8-4298-a516-4417f8faf991",
   "metadata": {},
   "source": [
    "# 3. context_precision_prompt-上下文精度提示词\n",
    "\n",
    "1. 提示词内容：\n",
    "\n",
    "\"Given question, answer and context verify if the context was useful in arriving at the given answer. Give verdict as \"1\" if useful and \"0\" if not with json output.\"\n",
    "\n",
    "中文翻译:\n",
    "\n",
    "给定问题、答案和上下文，验证上下文是否有助于得出给定答案。如果有用，则判定结果为“1”，否则为“0”，并以 JSON 格式输出。"
   ]
  },
  {
   "cell_type": "markdown",
   "id": "52ad901c-2214-439b-ae19-a636e8508d24",
   "metadata": {},
   "source": [
    "## 3.1 例子"
   ]
  },
  {
   "cell_type": "markdown",
   "id": "d0222d66-d89b-4660-842c-f4cbed8d9bc6",
   "metadata": {},
   "source": [
    "### 3.1.1 例子1\n",
    "\n",
    "QAC:\n",
    "- question: What can you tell me about Albert Einstein?\n",
    "- context: Albert Einstein (14 March 1879 – 18 April 1955) was a German-born theoretical physicist, widely held to be one of the greatest and most influential scientists of all time. Best known for developing the theory of relativity, he also made important contributions to quantum mechanics, and was thus a central figure in the revolutionary reshaping of the scientific understanding of nature that modern physics accomplished in the first decades of the twentieth century. His mass–energy equivalence formula E = mc2, which arises from relativity theory, has been called 'the world's most famous equation'. He received the 1921 Nobel Prize in Physics 'for his services to theoretical physics, and especially for his discovery of the law of the photoelectric effect', a pivotal step in the development of quantum theory. His work is also known for its influence on the philosophy of science. In a 1999 poll of 130 leading physicists worldwide by the British journal Physics World, Einstein was ranked the greatest physicist of all time. His intellectual achievements and originality have made Einstein synonymous with genius.\n",
    "- answer: Albert Einstein, born on 14 March 1879, was a German-born theoretical physicist, widely held to be one of the greatest and most influential scientists of all time. He received the 1921 Nobel Prize in Physics for his services to theoretical physics.\n",
    "\n",
    "输出:\n",
    "\n",
    "- reason: The provided context was indeed useful in arriving at the given answer. The context includes key information about Albert Einstein's life and contributions, which are reflected in the answer.\n",
    "- verdict: 1\n",
    "\n",
    "中文翻译：\n",
    "\n",
    "QAC:\n",
    "\n",
    "- question: 你能告诉我关于阿尔伯特·爱因斯坦的什么信息？\n",
    "- context: 阿尔伯特·爱因斯坦（1879年3月14日 - 1955年4月18日）是一位出生于德国的理论物理学家，被广泛认为是有史以来最伟大、最具影响力的科学家之一。他以发展相对论而闻名，同时也为量子力学做出了重要贡献，因此成为现代物理学在20世纪初彻底重塑对自然的科学理解的核心人物。他源于相对论的质能等价公式E = mc²被称为“世界上最著名的方程式”。他因“对理论物理学的贡献，尤其是发现了光电效应定律”而获得1921年诺贝尔物理学奖，这是量子理论发展的关键一步。他的工作也因其对科学哲学的影响而闻名。在1999年的一项民意调查中英国期刊《物理世界》评选了全球130位顶尖物理学家，爱因斯坦被评为有史以来最伟大的物理学家。他的学术成就和独创性使爱因斯坦成为天才的代名词。\n",
    "- answer: 阿尔伯特·爱因斯坦，1879年3月14日出生，是一位德国出生的理论物理学家，被广泛认为是有史以来最伟大、最具影响力的科学家之一。他因其对理论物理学的贡献而于1921年获得诺贝尔物理学奖。\n",
    "\n",
    "输出:\n",
    "\n",
    "- reason: 所提供的上下文确实有助于得出给定的答案。上下文包含有关阿尔伯特·爱因斯坦生平和贡献的关键信息，这些信息在答案中有所体现。\n",
    "- verdict: 1"
   ]
  },
  {
   "cell_type": "markdown",
   "id": "7e12565b-fd7b-4dc0-ba8b-5b635d733543",
   "metadata": {},
   "source": [
    "### 3.1.2 例子2\n",
    "\n",
    "QAC:\n",
    "- question: who won 2020 icc world cup?\n",
    "- context: The 2022 ICC Men's T20 World Cup, held from October 16 to November 13, 2022, in Australia, was the eighth edition of the tournament. Originally scheduled for 2020, it was postponed due to the COVID-19 pandemic. England emerged victorious, defeating Pakistan by five wickets in the final to clinch their second ICC Men's T20 World Cup title.\n",
    "- England\n",
    "\n",
    "输出:\n",
    "\n",
    "- reason: the context was useful in clarifying the situation regarding the 2020 ICC World Cup and indicating that England was the winner of the tournament that was intended to be held in 2020 but actually took place in 2022.\n",
    "- verdict: 1\n",
    "\n",
    "中文翻译：\n",
    "\n",
    "QAC:\n",
    "\n",
    "- question: 谁赢得了2020年ICC世界杯？\n",
    "- context: 2022年ICC男子T20世界杯于2022年10月16日至11月13日在澳大利亚举行，是该赛事的第八届。该赛事原定于2020年举行，但由于新冠疫情而推迟。英格兰队最终获胜，在决赛中以五个小门之差击败巴基斯坦队，夺得了他们的第二个ICC男子T20世界杯冠军。\n",
    "- answer: 英格兰\n",
    "\n",
    "输出:\n",
    "\n",
    "- reason: 上下文有助于澄清2020年ICC世界杯的情况，并表明英格兰赢得了原定于2020年举行但实际于2022年举行的锦标赛。\n",
    "- verdict: 1"
   ]
  },
  {
   "cell_type": "markdown",
   "id": "b06ac75a-ea24-42e0-a3c9-1ffa23fb1b6d",
   "metadata": {},
   "source": [
    "### 3.1.3 例子3\n",
    "\n",
    "QAC:\n",
    "- question: What is the tallest mountain in the world?\n",
    "- context: The Andes is the longest continental mountain range in the world, located in South America. It stretches across seven countries and features many of the highest peaks in the Western Hemisphere. The range is known for its diverse ecosystems, including the high-altitude Andean Plateau and the Amazon rainforest.\n",
    "- Mount Everest.\n",
    "\n",
    "输出:\n",
    "\n",
    "- reason: the provided context discusses the Andes mountain range, which, while impressive, does not include Mount Everest or directly relate to the question about the world's tallest mountain.\n",
    "- verdict: 1\n",
    "\n",
    "中文翻译：\n",
    "\n",
    "QAC:\n",
    "\n",
    "- question: 世界上最高的山峰是哪座？\n",
    "- context: 安第斯山脉是世界上最长的大陆山脉，位于南美洲。它横跨七个国家，拥有西半球许多最高峰。该山脉以其多样化的生态系统而闻名，包括高海拔的安第斯高原和亚马逊雨林。\n",
    "- answer: 珠穆朗玛峰。\n",
    "\n",
    "输出:\n",
    "\n",
    "- reason: 提供的上下文讨论了安第斯山脉，虽然令人印象深刻，但并不包括珠穆朗玛峰，也与关于世界最高峰的问题没有直接关系。\n",
    "- verdict: 0"
   ]
  },
  {
   "cell_type": "markdown",
   "id": "98838b41-7718-43e5-a133-cf8b98567c10",
   "metadata": {},
   "source": [
    "# 4. 计算过程 - 平均精度\n",
    "\n",
    "平均精度，Average Precision， AP。\n",
    "\n",
    "核心逻辑：AP关注每个文档出现位置的精度，对每个文档的位置i，计算该位置的累积精度；最后对所有相关文档位置的精度取平均。\n",
    "\n",
    "具体例子： 假设verdict_list = [1, 0, 1, 0]（相关文档在第1、3位）：\n",
    "\n",
    "第1位(i=0): precision = 1/1 = 1.0\n",
    "\n",
    "第3位(i=2): precision = 2/3 ≈ 0.666\n",
    "\n",
    "AP = (1.0 + 0.666)/2 ≈ 0.833\n"
   ]
  },
  {
   "cell_type": "code",
   "execution_count": 1,
   "id": "c75e29aa-ddde-4d03-835b-3be9d216bf01",
   "metadata": {},
   "outputs": [
    {
     "name": "stderr",
     "output_type": "stream",
     "text": [
      "/opt/miniconda3/envs/huggingface/lib/python3.12/site-packages/tqdm/auto.py:21: TqdmWarning: IProgress not found. Please update jupyter and ipywidgets. See https://ipywidgets.readthedocs.io/en/stable/user_install.html\n",
      "  from .autonotebook import tqdm as notebook_tqdm\n",
      "Evaluating: 100%|███████████████████████████████| 67/67 [11:42<00:00, 10.48s/it]\n"
     ]
    },
    {
     "data": {
      "text/plain": [
       "{'llm_context_precision_without_reference': 0.9075}"
      ]
     },
     "execution_count": 1,
     "metadata": {},
     "output_type": "execute_result"
    }
   ],
   "source": [
    "from ragas import evaluate, RunConfig\n",
    "from ragas.metrics import LLMContextPrecisionWithoutReference\n",
    "from langchain_ollama import ChatOllama\n",
    "from ragas.llms import LangchainLLMWrapper\n",
    "from langchain_ollama import ChatOllama\n",
    "from ragas import EvaluationDataset\n",
    "\n",
    "dataset = EvaluationDataset.from_jsonl(\"questions_answers_01.txt\")\n",
    "\n",
    "llm = ChatOllama(model=\"qwen2.5:latest\")\n",
    "\n",
    "metric = LLMContextPrecisionWithoutReference()\n",
    "\n",
    "result = evaluate(\n",
    "    dataset=dataset,\n",
    "    metrics=[metric],\n",
    "    llm=LangchainLLMWrapper(llm),\n",
    "    run_config=RunConfig(\n",
    "        timeout=600,\n",
    "        max_retries=3,\n",
    "        max_workers=4\n",
    "    ),\n",
    ")\n",
    "result"
   ]
  },
  {
   "cell_type": "code",
   "execution_count": null,
   "id": "00d1adea-b5ba-4745-822a-3beaee30797a",
   "metadata": {},
   "outputs": [],
   "source": []
  }
 ],
 "metadata": {
  "kernelspec": {
   "display_name": "Python 3 (ipykernel)",
   "language": "python",
   "name": "python3"
  },
  "language_info": {
   "codemirror_mode": {
    "name": "ipython",
    "version": 3
   },
   "file_extension": ".py",
   "mimetype": "text/x-python",
   "name": "python",
   "nbconvert_exporter": "python",
   "pygments_lexer": "ipython3",
   "version": "3.12.7"
  }
 },
 "nbformat": 4,
 "nbformat_minor": 5
}

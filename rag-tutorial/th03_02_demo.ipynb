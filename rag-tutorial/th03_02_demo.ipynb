{
 "cells": [
  {
   "cell_type": "markdown",
   "id": "7ad8748c-9927-42ed-93ee-13d8da80a5c1",
   "metadata": {},
   "source": [
    "# 1. chromadb入门\n",
    "## 1.1 Client客户端\n",
    "\n",
    "客户端用于连接chroma向量数据库。\n",
    "\n",
    "- 临时客户端：client = chromadb.Client()\n",
    "- 持久客户端：client = chromadb.PersistentClient(path=\"/path/to/save/to\")\n",
    "- HTTP客户端：client = chromadb.HttpClient(host='localhost', port=8000)\n",
    "- 异步HTTP客户端：client = chromadb.AsyncHttpClient(host='localhost', port=8000)\n",
    "\n",
    "\n",
    "\n",
    "## 1.2 collection\n",
    "\n",
    "collection，集合，相当于mysql当中的database/table的概念,一个chroma当中可以有多个collection。\n",
    "\n",
    "- 创建collection: client.create_collection(name=\"my_collection\", embedding_function=emb_fn)\n",
    "- 获取collection: client.get_collection(name=\"my_collection\", embedding_function=emb_fn)\n",
    "- 获取/创建collection: client.get_or_create_collection(name=\"my_collection\", embedding_function=emb_fn)\n",
    "- 删除collection: client.delete_collection(name=\"my_collection\")\n",
    "\n",
    "collection的实例方法：\n",
    "\n",
    "- 添加: add(ids=[], documents=[], embeddings=[]) -> None\n",
    "- 语义查询: query(query_texts=[], n_results=10) -> QueryResult\n",
    "- 查询: get(ids=[]) -> GetResult\n",
    "- 查询文档数量: count() -> Number"
   ]
  },
  {
   "cell_type": "code",
   "execution_count": 3,
   "id": "e3b6374f-7cc1-4c2e-b189-0ce0de6cf300",
   "metadata": {},
   "outputs": [
    {
     "name": "stdout",
     "output_type": "stream",
     "text": [
      "efb6f27af07f489e8129a57469c2ca18\n",
      "484519ac304546b6ba55c90efcd2b9d3\n"
     ]
    }
   ],
   "source": [
    "import uuid\n",
    "print(uuid.uuid4().hex)\n",
    "print(uuid.uuid4().hex)"
   ]
  },
  {
   "cell_type": "code",
   "execution_count": 5,
   "id": "a6efdadc-4187-4266-bb5b-2bd8f0651c33",
   "metadata": {},
   "outputs": [],
   "source": [
    "documents = [\n",
    "    '科技行业 2025 年展望:AI 浪潮重新 定义全球科技的未来\\n\\n发表时间：2024 年 12 月 13 日\\n作者：\\n(1) 沈岱 - 首席科技分析师 - sia_huang@spdbi.com - (852) 2809 0355\\n(2) 马智焱 - 科技分析师 - ivy_ma@spdbi.com - (852) 2809 0300\\n(3) 黄佳琦 - 科技分析师 - sia_huang@spdbi.com  - (852) 2809 0355\\n\\n一、全球 AI 行业具备较大成长空间',\n",
    "    '2022 年 11 月底，OpenAI 发布 ChatGPT 3.5。紧随其后，生成式 AI，在供应 端的推动下，进入爆发式发展期。无论是OpenAI 随后发布的 ChatGPT 4.0， 还是谷歌、Meta 等多家厂商发布的 Gemini、Llama 等 AI 大模型，都是这一 轮AI 行业爆发式发展的体现。AI 算力芯片作为本轮 AI 浪潮基本且不可或缺 的硬件基础，成为这波浪潮最先受益的行业。'\n",
    "]\n",
    "ids = [\"efb6f27af07f489e8129a57469c2ca18\", \"484519ac304546b6ba55c90efcd2b9d3\"]"
   ]
  },
  {
   "cell_type": "code",
   "execution_count": 1,
   "id": "4b2e5124-5346-41fd-8f96-ee7c5ffde3c9",
   "metadata": {},
   "outputs": [],
   "source": [
    "import chromadb\n",
    "\n",
    "# client = chromadb.Client()\n",
    "client = chromadb.PersistentClient(path=\"../chroma_db\")\n",
    "\n",
    "collection = client.get_or_create_collection(name=\"my_collection\")\n",
    "\n",
    "# collection.add(ids=ids, documents=documents)"
   ]
  },
  {
   "cell_type": "code",
   "execution_count": 2,
   "id": "4a8f9052-73e8-40f6-aeb9-f4ab902c3a1e",
   "metadata": {},
   "outputs": [
    {
     "name": "stderr",
     "output_type": "stream",
     "text": [
      "Number of requested results 4 is greater than number of elements in index 2, updating n_results = 2\n"
     ]
    },
    {
     "data": {
      "text/plain": [
       "{'ids': [['efb6f27af07f489e8129a57469c2ca18',\n",
       "   '484519ac304546b6ba55c90efcd2b9d3']],\n",
       " 'embeddings': None,\n",
       " 'documents': [['科技行业 2025 年展望:AI 浪潮重新 定义全球科技的未来\\n\\n发表时间：2024 年 12 月 13 日\\n作者：\\n(1) 沈岱 - 首席科技分析师 - sia_huang@spdbi.com - (852) 2809 0355\\n(2) 马智焱 - 科技分析师 - ivy_ma@spdbi.com - (852) 2809 0300\\n(3) 黄佳琦 - 科技分析师 - sia_huang@spdbi.com  - (852) 2809 0355\\n\\n一、全球 AI 行业具备较大成长空间',\n",
       "   '2022 年 11 月底，OpenAI 发布 ChatGPT 3.5。紧随其后，生成式 AI，在供应 端的推动下，进入爆发式发展期。无论是OpenAI 随后发布的 ChatGPT 4.0， 还是谷歌、Meta 等多家厂商发布的 Gemini、Llama 等 AI 大模型，都是这一 轮AI 行业爆发式发展的体现。AI 算力芯片作为本轮 AI 浪潮基本且不可或缺 的硬件基础，成为这波浪潮最先受益的行业。']],\n",
       " 'uris': None,\n",
       " 'data': None,\n",
       " 'metadatas': [[None, None]],\n",
       " 'distances': [[1.0028164002702966, 1.1759842957151627]],\n",
       " 'included': [<IncludeEnum.distances: 'distances'>,\n",
       "  <IncludeEnum.documents: 'documents'>,\n",
       "  <IncludeEnum.metadatas: 'metadatas'>]}"
      ]
     },
     "execution_count": 2,
     "metadata": {},
     "output_type": "execute_result"
    }
   ],
   "source": [
    "results = collection.query(query_texts=[\"黄佳琦科技分析师的邮箱是多少?\"], n_results=4)\n",
    "results"
   ]
  },
  {
   "cell_type": "code",
   "execution_count": 3,
   "id": "c1004024-eb37-4082-847c-4dc6dc657e6e",
   "metadata": {},
   "outputs": [
    {
     "data": {
      "text/plain": [
       "2"
      ]
     },
     "execution_count": 3,
     "metadata": {},
     "output_type": "execute_result"
    }
   ],
   "source": [
    "collection.count()"
   ]
  },
  {
   "cell_type": "code",
   "execution_count": 6,
   "id": "c16b0efa-c15e-426d-becd-2563840bd250",
   "metadata": {},
   "outputs": [],
   "source": [
    "# HTTP客户端：\n",
    "import chromadb\n",
    "client = chromadb.HttpClient(host='localhost', port=8000)\n",
    "\n",
    "collection = client.get_or_create_collection(name=\"my_collection\")\n",
    "collection.add(ids=ids, documents=documents)"
   ]
  },
  {
   "cell_type": "code",
   "execution_count": 7,
   "id": "e9a83edf-7678-406a-ad83-17e57e1c2968",
   "metadata": {},
   "outputs": [
    {
     "data": {
      "text/plain": [
       "{'ids': [['efb6f27af07f489e8129a57469c2ca18',\n",
       "   '484519ac304546b6ba55c90efcd2b9d3']],\n",
       " 'distances': [[1.002816400270297, 1.1759842957151634]],\n",
       " 'embeddings': None,\n",
       " 'metadatas': [[None, None]],\n",
       " 'documents': [['科技行业 2025 年展望:AI 浪潮重新 定义全球科技的未来\\n\\n发表时间：2024 年 12 月 13 日\\n作者：\\n(1) 沈岱 - 首席科技分析师 - sia_huang@spdbi.com - (852) 2809 0355\\n(2) 马智焱 - 科技分析师 - ivy_ma@spdbi.com - (852) 2809 0300\\n(3) 黄佳琦 - 科技分析师 - sia_huang@spdbi.com  - (852) 2809 0355\\n\\n一、全球 AI 行业具备较大成长空间',\n",
       "   '2022 年 11 月底，OpenAI 发布 ChatGPT 3.5。紧随其后，生成式 AI，在供应 端的推动下，进入爆发式发展期。无论是OpenAI 随后发布的 ChatGPT 4.0， 还是谷歌、Meta 等多家厂商发布的 Gemini、Llama 等 AI 大模型，都是这一 轮AI 行业爆发式发展的体现。AI 算力芯片作为本轮 AI 浪潮基本且不可或缺 的硬件基础，成为这波浪潮最先受益的行业。']],\n",
       " 'uris': None,\n",
       " 'data': None,\n",
       " 'included': ['distances', 'documents', 'metadatas']}"
      ]
     },
     "execution_count": 7,
     "metadata": {},
     "output_type": "execute_result"
    }
   ],
   "source": [
    "results = collection.query(query_texts=[\"黄佳琦科技分析师的邮箱是多少?\"], n_results=4)\n",
    "results"
   ]
  },
  {
   "cell_type": "code",
   "execution_count": 29,
   "id": "e8b50fd4-d07a-462c-949d-9dff9f9549bb",
   "metadata": {},
   "outputs": [],
   "source": [
    "# 异步HTTP客户端：\n",
    "import chromadb\n",
    "a_client = await chromadb.AsyncHttpClient(host='localhost', port=8000)\n",
    "\n",
    "collection = await a_client.get_or_create_collection(name=\"my_collection_02\")\n",
    "await collection.add(ids=ids, documents=documents)"
   ]
  },
  {
   "cell_type": "code",
   "execution_count": 28,
   "id": "ca382f55-131a-4054-931d-c0d7b977b7fe",
   "metadata": {},
   "outputs": [
    {
     "data": {
      "text/plain": [
       "{'ids': [['efb6f27af07f489e8129a57469c2ca18',\n",
       "   '484519ac304546b6ba55c90efcd2b9d3']],\n",
       " 'distances': [[1.002816400270297, 1.1759842957151634]],\n",
       " 'embeddings': None,\n",
       " 'metadatas': [[None, None]],\n",
       " 'documents': [['科技行业 2025 年展望:AI 浪潮重新 定义全球科技的未来\\n\\n发表时间：2024 年 12 月 13 日\\n作者：\\n(1) 沈岱 - 首席科技分析师 - sia_huang@spdbi.com - (852) 2809 0355\\n(2) 马智焱 - 科技分析师 - ivy_ma@spdbi.com - (852) 2809 0300\\n(3) 黄佳琦 - 科技分析师 - sia_huang@spdbi.com  - (852) 2809 0355\\n\\n一、全球 AI 行业具备较大成长空间',\n",
       "   '2022 年 11 月底，OpenAI 发布 ChatGPT 3.5。紧随其后，生成式 AI，在供应 端的推动下，进入爆发式发展期。无论是OpenAI 随后发布的 ChatGPT 4.0， 还是谷歌、Meta 等多家厂商发布的 Gemini、Llama 等 AI 大模型，都是这一 轮AI 行业爆发式发展的体现。AI 算力芯片作为本轮 AI 浪潮基本且不可或缺 的硬件基础，成为这波浪潮最先受益的行业。']],\n",
       " 'uris': None,\n",
       " 'data': None,\n",
       " 'included': ['distances', 'documents', 'metadatas']}"
      ]
     },
     "execution_count": 28,
     "metadata": {},
     "output_type": "execute_result"
    }
   ],
   "source": [
    "results = await collection.query(query_texts=[\"黄佳琦科技分析师的邮箱是多少?\"], n_results=4)\n",
    "results"
   ]
  },
  {
   "cell_type": "code",
   "execution_count": 45,
   "id": "85b6738f-209b-45c4-bf90-4203d6b49478",
   "metadata": {
    "scrolled": true
   },
   "outputs": [
    {
     "data": {
      "text/plain": [
       "{'ids': [['fc53e87163f442efbe6faf2b5c6a0c42',\n",
       "   'a6378616ecb9412ab7010767d13f8986',\n",
       "   'efb6f27af07f489e8129a57469c2ca18',\n",
       "   '484519ac304546b6ba55c90efcd2b9d3']],\n",
       " 'distances': None,\n",
       " 'embeddings': [array([[-0.02282484,  0.05463982,  0.02135034, ...,  0.07757556,\n",
       "          -0.04045485,  0.02062676],\n",
       "         [-0.030539  ,  0.05691862,  0.03345218, ...,  0.09431607,\n",
       "          -0.06356955,  0.01412856],\n",
       "         [-0.02872504,  0.05726459,  0.04185819, ..., -0.00738029,\n",
       "          -0.01351951, -0.00564276],\n",
       "         [-0.04409771,  0.00174415,  0.05189737, ...,  0.0666418 ,\n",
       "          -0.01728084, -0.03400274]])],\n",
       " 'metadatas': None,\n",
       " 'documents': [['文档00001',\n",
       "   '文档00002',\n",
       "   '科技行业 2025 年展望:AI 浪潮重新 定义全球科技的未来\\n\\n发表时间：2024 年 12 月 13 日\\n作者：\\n(1) 沈岱 - 首席科技分析师 - sia_huang@spdbi.com - (852) 2809 0355\\n(2) 马智焱 - 科技分析师 - ivy_ma@spdbi.com - (852) 2809 0300\\n(3) 黄佳琦 - 科技分析师 - sia_huang@spdbi.com  - (852) 2809 0355\\n\\n一、全球 AI 行业具备较大成长空间',\n",
       "   '2022 年 11 月底，OpenAI 发布 ChatGPT 3.5。紧随其后，生成式 AI，在供应 端的推动下，进入爆发式发展期。无论是OpenAI 随后发布的 ChatGPT 4.0， 还是谷歌、Meta 等多家厂商发布的 Gemini、Llama 等 AI 大模型，都是这一 轮AI 行业爆发式发展的体现。AI 算力芯片作为本轮 AI 浪潮基本且不可或缺 的硬件基础，成为这波浪潮最先受益的行业。']],\n",
       " 'uris': None,\n",
       " 'data': None,\n",
       " 'included': ['embeddings', 'documents']}"
      ]
     },
     "execution_count": 45,
     "metadata": {},
     "output_type": "execute_result"
    }
   ],
   "source": [
    "results = await collection.query(query_texts=[\"文档\"], n_results=4, include=[\"documents\", \"embeddings\"])\n",
    "results"
   ]
  },
  {
   "cell_type": "code",
   "execution_count": 46,
   "id": "8052623d-bd6b-4562-9bf3-1af2abb3b0f2",
   "metadata": {},
   "outputs": [
    {
     "data": {
      "text/plain": [
       "384"
      ]
     },
     "execution_count": 46,
     "metadata": {},
     "output_type": "execute_result"
    }
   ],
   "source": [
    "len(results[\"embeddings\"][0][2])"
   ]
  },
  {
   "cell_type": "code",
   "execution_count": 48,
   "id": "2cd806a1-f0d1-4e59-8f6c-221658c1b486",
   "metadata": {},
   "outputs": [
    {
     "data": {
      "text/plain": [
       "4"
      ]
     },
     "execution_count": 48,
     "metadata": {},
     "output_type": "execute_result"
    }
   ],
   "source": [
    "await collection.count()"
   ]
  },
  {
   "cell_type": "code",
   "execution_count": 54,
   "id": "a0f665ec-e7ec-416b-a4a5-be7a89f93701",
   "metadata": {
    "scrolled": true
   },
   "outputs": [
    {
     "data": {
      "text/plain": [
       "{'ids': [],\n",
       " 'embeddings': None,\n",
       " 'metadatas': [],\n",
       " 'documents': [],\n",
       " 'data': None,\n",
       " 'uris': None,\n",
       " 'included': ['documents', 'metadatas']}"
      ]
     },
     "execution_count": 54,
     "metadata": {},
     "output_type": "execute_result"
    }
   ],
   "source": [
    "await collection.get([\"fc53e87163f442efbe6faf2b5c6a0c42\"])"
   ]
  },
  {
   "cell_type": "code",
   "execution_count": 52,
   "id": "0999e15c-d1db-47c9-acc2-566c0ad6dfa0",
   "metadata": {},
   "outputs": [],
   "source": [
    "await collection.delete([\"fc53e87163f442efbe6faf2b5c6a0c42\"])"
   ]
  },
  {
   "cell_type": "code",
   "execution_count": 55,
   "id": "b2ff30b1-4d0e-4af6-9918-5be64c434fca",
   "metadata": {},
   "outputs": [
    {
     "data": {
      "text/plain": [
       "{'ids': [],\n",
       " 'embeddings': None,\n",
       " 'metadatas': [],\n",
       " 'documents': [],\n",
       " 'data': None,\n",
       " 'uris': None,\n",
       " 'included': ['documents', 'metadatas']}"
      ]
     },
     "execution_count": 55,
     "metadata": {},
     "output_type": "execute_result"
    }
   ],
   "source": [
    "await collection.get([\"a6378616ecb9412ab7010767d13f8986\"])"
   ]
  },
  {
   "cell_type": "code",
   "execution_count": 53,
   "id": "024b6b39-61c6-435d-ae70-f61c23f807d9",
   "metadata": {},
   "outputs": [],
   "source": [
    "await collection.delete([\"a6378616ecb9412ab7010767d13f8986\"])"
   ]
  },
  {
   "cell_type": "code",
   "execution_count": null,
   "id": "549f46e5-e00a-4c16-8a1c-d05e9a80947c",
   "metadata": {},
   "outputs": [],
   "source": []
  }
 ],
 "metadata": {
  "kernelspec": {
   "display_name": "Python 3 (ipykernel)",
   "language": "python",
   "name": "python3"
  },
  "language_info": {
   "codemirror_mode": {
    "name": "ipython",
    "version": 3
   },
   "file_extension": ".py",
   "mimetype": "text/x-python",
   "name": "python",
   "nbconvert_exporter": "python",
   "pygments_lexer": "ipython3",
   "version": "3.12.8"
  }
 },
 "nbformat": 4,
 "nbformat_minor": 5
}

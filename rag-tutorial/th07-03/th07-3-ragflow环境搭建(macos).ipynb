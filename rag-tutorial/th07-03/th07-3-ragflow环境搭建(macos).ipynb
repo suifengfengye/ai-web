{
 "cells": [
  {
   "cell_type": "markdown",
   "id": "30bf5509-6d31-4d2f-b19c-f3f233b6f6d1",
   "metadata": {},
   "source": [
    "# docker服务搭建（ubuntu）\n",
    "\n",
    "详见 setup_docker.sh 脚本\n"
   ]
  },
  {
   "cell_type": "markdown",
   "id": "623ad35f-b813-4987-bc0e-46e8e71e14ee",
   "metadata": {},
   "source": [
    "# 1. 后端环境搭建"
   ]
  },
  {
   "cell_type": "markdown",
   "id": "841fcdfe-45ae-46bd-86af-ab2d0c577f5c",
   "metadata": {},
   "source": [
    "## 1.1 准备虚拟环境\n",
    "\n",
    "```shell\n",
    "conda create -n ragflow-video python=3.10\n",
    "conda activate ragflow-video\n",
    "```\n"
   ]
  },
  {
   "cell_type": "markdown",
   "id": "f078695f-f2de-4919-a917-e11eb4a7237d",
   "metadata": {},
   "source": [
    "## 1.2 git克隆项目\n",
    "\n",
    "将 ragflow 项目clone到当前用户目录下（根据自己机器的情况修改ragflow项目源码的目录）。\n",
    "\n",
    "\n",
    "```shell\n",
    "cd ~\n",
    "# 进入工作目录\n",
    "cd ～/work-max\n",
    "# clone项目\n",
    "git clone https://github.com/infiniflow/ragflow.git\n",
    "# 进入项目目录\n",
    "cd ragflow\n",
    "\n",
    "```\n"
   ]
  },
  {
   "cell_type": "markdown",
   "id": "5580a2d1-70f8-4f1e-abbc-e20b1f026b0e",
   "metadata": {},
   "source": [
    "## 1.3 安装uv管理工具\n",
    "\n",
    "uv:一个极其快速的 Python 包和项目管理器，用 Rust 编写。一款可替代 pip、pip-tools、pipx、poetry、pyenv、twine、virtualenv 等工具的一体化工具。uv和python无关。\n",
    "RAGFlow这个项目，使用uv来作为项目包的管理工具。\n",
    "\n",
    "安装：\n",
    "\n",
    "```shell\n",
    "curl -LsSf https://astral.sh/uv/install.sh | sh\n",
    "# 验证是否安装成功：\n",
    "uv --version\n",
    "# 安装ragflow项目依赖包\n",
    "uv sync --python 3.10 --all-extras\n",
    "```\n",
    "\n"
   ]
  },
  {
   "cell_type": "markdown",
   "id": "daad89db-7750-4469-a0c6-8a53ee15792c",
   "metadata": {},
   "source": [
    "## 1.4 安装jemalloc \n",
    "系统级。jemalloc 是一款高效的内存分配器（malloc 替代库），最初由 FreeBSD 团队开发，后被广泛用于各类高性能应用中。其核心作用是：\n",
    "优化内存分配效率/提升程序稳定性/支持性能分析。\n",
    "\n",
    "\n",
    "```shell\n",
    "# 1. 更新 Homebrew 包索引\n",
    "brew update\n",
    "\n",
    "# 2. 安装 jemalloc\n",
    "brew install jemalloc\n",
    "\n",
    "# 3. 检查库文件是否存在\n",
    "ls $(brew --prefix)/lib/libjemalloc.dylib  # Homebrew 安装的情况\n",
    "# 输出应为：/opt/homebrew/lib/libjemalloc.dylib（或对应路径）\n",
    "```\n"
   ]
  },
  {
   "cell_type": "markdown",
   "id": "3335e4fc-a638-4ad5-85fb-ee51fe92d315",
   "metadata": {},
   "source": [
    "## 1.5 修改RAGFlow 项目配置"
   ]
  },
  {
   "cell_type": "markdown",
   "id": "8d1455e6-f7ac-48e6-9d3d-d956670a3bf8",
   "metadata": {},
   "source": [
    "### 1.5.1 修改 /etc/hosts\n",
    "\n",
    "注意将这里的127.0.0.1 改成对应docker服务的IP地址。\n",
    "\n",
    "```shell\n",
    "grep -qxF '127.0.0.1       es01 infinity mysql minio redis' /etc/hosts || echo '127.0.0.1       es01 infinity mysql minio redis' | sudo tee -a /etc/hosts > /dev/null\n",
    "```\n"
   ]
  },
  {
   "cell_type": "markdown",
   "id": "406dd70f-f11a-4c9d-a70f-ce039fb4a343",
   "metadata": {},
   "source": [
    "grep -qxF '47.113.96.6       es01 infinity mysql minio redis' /etc/hosts || echo '47.113.96.6       es01 infinity mysql minio redis' | sudo tee -a /etc/hosts > /dev/null"
   ]
  },
  {
   "cell_type": "markdown",
   "id": "299b0911-cac9-4d95-83ef-08473442f3a9",
   "metadata": {},
   "source": [
    "### 1.5.2 修改 docker/service_conf.yaml.template的端口\n",
    "\n",
    "修改点\n",
    "- (1) mysql port: 5455\n",
    "- (2) es port : 1200\n",
    "\n"
   ]
  },
  {
   "cell_type": "markdown",
   "id": "7c437fe4-f8b2-4ba4-8be0-c74d8d9e2448",
   "metadata": {},
   "source": [
    "### 1.5.3 修改 docker/entrypoint.sh\n",
    "\n",
    "在文件 docker/entrypoint.sh 中注释：\n",
    "\n",
    "```shell\n",
    "# /usr/sbin/nginx\n",
    "```\n"
   ]
  },
  {
   "cell_type": "markdown",
   "id": "ace9d7a0-dfcd-429f-8fff-2c3f53569a55",
   "metadata": {},
   "source": [
    "### 1.5.4 复制 docker/service_conf.yaml.template 复制一份到 项目的 conf 目录下"
   ]
  },
  {
   "cell_type": "markdown",
   "id": "b32999b2-a703-43a1-bb2f-b9a0ff108c59",
   "metadata": {},
   "source": [
    "### 1.5.5 修改ragflow目录路径\n",
    "\n",
    "1. docker/entrypoint.sh\n",
    "\n",
    "```shell\n",
    "CONF_DIR=\"/ragflow/conf\"\n",
    "MCP_SCRIPT_PATH=\"/ragflow/mcp/server/server.py\"\n",
    "```\n",
    "\n",
    "2. \n"
   ]
  },
  {
   "cell_type": "markdown",
   "id": "12e0f5c8-2ec4-4009-8cdb-8fba0f2bd150",
   "metadata": {},
   "source": [
    "## 1.6 安装依赖\n",
    "\n",
    "主要下载模型、nltk相关数据。\n",
    "\n",
    "官方推荐的方式:\n",
    "\n",
    "```shell\n",
    "python download_deps.py\n",
    "```\n",
    "\n",
    "下载模型：\n",
    "\n",
    "```shell\n",
    "conda activate ragflow-video\n",
    "# 安装huggingface的下载工具\n",
    "pip install -U \"huggingface_hub[cli]\"\n",
    "\n",
    "# 配置代理\n",
    "export HF_ENDPOINT=https://hf-mirror.com\n",
    "\n",
    "# 手动执行下载（默认目录: ~/.cache/huggingface/hub）\n",
    "hf download InfiniFlow/text_concat_xgb_v1.0\n",
    "# models--InfiniFlow--text_concat_xgb_v1.0\n",
    "hf download InfiniFlow/deepdoc\n",
    "# models--InfiniFlow--deepdoc\n",
    "hf download InfiniFlow/huqie\n",
    "# models--InfiniFlow--huqie\n",
    "hf download BAAI/bge-large-zh-v1.5\n",
    "# models--BAAI--bge-large-zh-v1.5\n",
    "hf download maidalun1020/bce-embedding-base_v1\n",
    "# models--maidalun1020--bce-embedding-base_v1\n",
    "```\n",
    "\n",
    "\n",
    "下载nltk数据：\n",
    "\n",
    "https://github.com/nltk/nltk_data\n",
    "\n",
    "1. 下载zip包，解压\n",
    "2. 将 解压出来的 packages 文件夹 copy 到 ragflow 的 .venv 目录下，并将 packages 改为 nltk_data\n"
   ]
  },
  {
   "cell_type": "markdown",
   "id": "cb445b0e-1e18-47cf-93ce-9abb53565e0c",
   "metadata": {},
   "source": [
    "## 1.7 启动后台服务\n",
    "\n",
    "```shell\n",
    "# 进入项目根目录\n",
    "cd ~/work-max/ragflow\n",
    "# 激活虚拟环境\n",
    "source .venv/bin/activate\n",
    "export PYTHONPATH=$(pwd)\n",
    "# 启动\n",
    "./docker/entrypoint.sh\n",
    "\n",
    "```\n"
   ]
  },
  {
   "cell_type": "markdown",
   "id": "ab260b7d-e055-4708-8732-2a0530b19631",
   "metadata": {},
   "source": [
    "# 1.8 停止后台服务\n",
    "\n",
    "官方推荐的方式（不生效）\n",
    "\n",
    "```shell\n",
    "pkill docker/entrypoint.sh\n",
    "```\n",
    "\n",
    "简单粗暴的方式\n",
    "```shell\n",
    "ps aux | grep ragflow\n",
    "# 8552\n",
    "ps aux | grep task_executor.py\n",
    "# 8553\n",
    "kill -9 8553 8552\n",
    "```\n"
   ]
  },
  {
   "cell_type": "markdown",
   "id": "27c6a2d9-a5ea-4b91-95ac-4fad119b0230",
   "metadata": {},
   "source": [
    "# 2. 前端环境搭建\n",
    "\n",
    "nodejs需要18.20.4之后的版本"
   ]
  },
  {
   "cell_type": "markdown",
   "id": "dec8ac79-1885-47e4-8abc-6dd9d1df3a25",
   "metadata": {},
   "source": [
    "## 2.1 安装依赖+启动\n",
    "\n",
    "```shell\n",
    "# 安装\n",
    "brew install node@20\n",
    "# 如果需要将其设置为系统默认 Node.js\n",
    "brew link node@20 --force\n",
    "# 验证\n",
    "node --version\n",
    "\n",
    "# 安装项目依赖包\n",
    "npm i\n",
    "\n",
    "# 启动项目\n",
    "npm run dev\n",
    "\n",
    "```\n"
   ]
  },
  {
   "cell_type": "markdown",
   "id": "b51397a4-46cc-4472-af4d-b228a39c5789",
   "metadata": {},
   "source": [
    "# 3. 报错问题记录"
   ]
  },
  {
   "cell_type": "markdown",
   "id": "e32fb843-20e0-4f19-9336-0a0d8573a2e5",
   "metadata": {},
   "source": [
    "## 3.1 执行 uv sync --python 3.10 --all-extras 报错\n",
    "没有 icu-conifg/pkg-config\n",
    "\n",
    "FileNotFoundError: [Errno 2] No such file or directory: 'icu-config'\n",
    "...\n",
    "FileNotFoundError: [Errno 2] No such file or directory: 'pkg-config'\n",
    "\n",
    "解决方案：\n",
    "\n",
    "```shell\n",
    "# 1. 确保 icu4c 安装\n",
    "brew update\n",
    "brew install icu4c pkg-config\n",
    "\n",
    "# 2. 设置环境变量（关键）\n",
    "export ICU_HOME=\"/opt/homebrew/opt/icu4c\"\n",
    "export PKG_CONFIG_PATH=\"/opt/homebrew/opt/icu4c/lib/pkgconfig:$PKG_CONFIG_PATH\"\n",
    "export CFLAGS=\"-I$ICU_HOME/include $CFLAGS\"\n",
    "export LDFLAGS=\"-L$ICU_HOME/lib $LDFLAGS\"\n",
    "export CPPFLAGS=\"-I$ICU_HOME/include $CPPFLAGS\"\n",
    "export LIBRARY_PATH=\"$ICU_HOME/lib:$LIBRARY_PATH\"\n",
    "\n",
    "# 3. 创建 pkg-config 链接（如果缺失）\n",
    "ln -sf /opt/homebrew/opt/icu4c/lib/pkgconfig/icu-*.pc /opt/homebrew/lib/pkgconfig/ 2>/dev/null || true\n",
    "\n",
    "# 4. 验证 pkg-config\n",
    "pkg-config --cflags icu-uc\n",
    "pkg-config --libs icu-uc\n",
    "\n",
    "# 5. 清理并重试安装\n",
    "uv pip uninstall pyicu -y\n",
    "uv pip install --no-cache-dir --force-reinstall --no-binary pyicu pyicu==2.15.3\n",
    "\n",
    "# 6. 再运行 sync\n",
    "uv sync --python 3.10 --all-extras\n",
    "```\n"
   ]
  },
  {
   "cell_type": "raw",
   "id": "ace684be-c444-4a8e-abbf-85eecb5a6c31",
   "metadata": {
    "jupyter": {
     "source_hidden": true
    }
   },
   "source": [
    "Using CPython 3.10.11 interpreter at: /Library/Frameworks/Python.framework/Versions/3.10/bin/python3.10\n",
    "Creating virtual environment at: .venv\n",
    "Resolved 415 packages in 7ms\n",
    "   Building datrie==0.8.2\n",
    "  × Failed to build `pyicu==2.15.3`\n",
    "  ├─▶ The build backend returned an error\n",
    "  ╰─▶ Call to `setuptools.build_meta.build_wheel` failed (exit status: 1)\n",
    "\n",
    "      [stdout]\n",
    "      (running 'icu-config --version')\n",
    "      (running 'pkg-config --modversion icu-i18n')\n",
    "\n",
    "      [stderr]\n",
    "      Traceback (most recent call last):\n",
    "        File \"<string>\", line 89, in <module>\n",
    "        File\n",
    "      \"/Library/Frameworks/Python.framework/Versions/3.10/lib/python3.10/os.py\",\n",
    "      line 680, in __getitem__\n",
    "          raise KeyError(key) from None\n",
    "      KeyError: 'ICU_VERSION'\n",
    "\n",
    "      During handling of the above exception, another exception occurred:\n",
    "\n",
    "      Traceback (most recent call last):\n",
    "        File \"<string>\", line 92, in <module>\n",
    "        File \"<string>\", line 19, in check_output\n",
    "        File\n",
    "      \"/Library/Frameworks/Python.framework/Versions/3.10/lib/python3.10/subprocess.py\",\n",
    "      line 421, in check_output\n",
    "          return run(*popenargs, stdout=PIPE, timeout=timeout, check=True,\n",
    "        File\n",
    "      \"/Library/Frameworks/Python.framework/Versions/3.10/lib/python3.10/subprocess.py\",\n",
    "      line 503, in run\n",
    "          with Popen(*popenargs, **kwargs) as process:\n",
    "        File\n",
    "      \"/Library/Frameworks/Python.framework/Versions/3.10/lib/python3.10/subprocess.py\",\n",
    "      line 971, in __init__\n",
    "          self._execute_child(args, executable, preexec_fn, close_fds,\n",
    "        File\n",
    "      \"/Library/Frameworks/Python.framework/Versions/3.10/lib/python3.10/subprocess.py\",\n",
    "      line 1863, in _execute_child\n",
    "          raise child_exception_type(errno_num, err_msg, err_filename)\n",
    "      FileNotFoundError: [Errno 2] No such file or directory: 'icu-config'\n",
    "\n",
    "      During handling of the above exception, another exception occurred:\n",
    "\n",
    "      Traceback (most recent call last):\n",
    "        File \"<string>\", line 96, in <module>\n",
    "        File \"<string>\", line 19, in check_output\n",
    "        File\n",
    "      \"/Library/Frameworks/Python.framework/Versions/3.10/lib/python3.10/subprocess.py\",\n",
    "      line 421, in check_output\n",
    "          return run(*popenargs, stdout=PIPE, timeout=timeout, check=True,\n",
    "        File\n",
    "      \"/Library/Frameworks/Python.framework/Versions/3.10/lib/python3.10/subprocess.py\",\n",
    "      line 503, in run\n",
    "          with Popen(*popenargs, **kwargs) as process:\n",
    "        File\n",
    "      \"/Library/Frameworks/Python.framework/Versions/3.10/lib/python3.10/subprocess.py\",\n",
    "      line 971, in __init__\n",
    "          self._execute_child(args, executable, preexec_fn, close_fds,\n",
    "        File\n",
    "      \"/Library/Frameworks/Python.framework/Versions/3.10/lib/python3.10/subprocess.py\",\n",
    "      line 1863, in _execute_child\n",
    "          raise child_exception_type(errno_num, err_msg, err_filename)\n",
    "      FileNotFoundError: [Errno 2] No such file or directory: 'pkg-config'\n",
    "\n",
    "      During handling of the above exception, another exception occurred:\n",
    "\n",
    "      Traceback (most recent call last):\n",
    "        File \"<string>\", line 14, in <module>\n",
    "        File\n",
    "      \"/Users/jianfehuang/.cache/uv/builds-v0/.tmpi1hdX0/lib/python3.10/site-packages/setuptools/build_meta.py\",\n",
    "      line 331, in get_requires_for_build_wheel\n",
    "          return self._get_build_requires(config_settings, requirements=[])\n",
    "        File\n",
    "      \"/Users/jianfehuang/.cache/uv/builds-v0/.tmpi1hdX0/lib/python3.10/site-packages/setuptools/build_meta.py\",\n",
    "      line 301, in _get_build_requires\n",
    "          self.run_setup()\n",
    "        File\n",
    "      \"/Users/jianfehuang/.cache/uv/builds-v0/.tmpi1hdX0/lib/python3.10/site-packages/setuptools/build_meta.py\",\n",
    "      line 317, in run_setup\n",
    "          exec(code, locals())\n",
    "        File \"<string>\", line 99, in <module>\n",
    "      RuntimeError:\n",
    "      Please install pkg-config on your system or set the ICU_VERSION environment\n",
    "      variable to the version of ICU you have installed.\n",
    "      \n",
    "\n",
    "      hint: This usually indicates a problem with the package or the build\n",
    "      environment.\n",
    "  help: `pyicu` (v2.15.3) was included because `ragflow` (v0.20.5) depends on\n",
    "        `pyicu`"
   ]
  }
 ],
 "metadata": {
  "kernelspec": {
   "display_name": "Python 3 (ipykernel)",
   "language": "python",
   "name": "python3"
  },
  "language_info": {
   "codemirror_mode": {
    "name": "ipython",
    "version": 3
   },
   "file_extension": ".py",
   "mimetype": "text/x-python",
   "name": "python",
   "nbconvert_exporter": "python",
   "pygments_lexer": "ipython3",
   "version": "3.12.8"
  }
 },
 "nbformat": 4,
 "nbformat_minor": 5
}

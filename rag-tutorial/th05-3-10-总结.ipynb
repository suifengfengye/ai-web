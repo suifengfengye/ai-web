{
 "cells": [
  {
   "cell_type": "markdown",
   "id": "7abdc061-a6a3-43a1-a9ae-e40ec12460c4",
   "metadata": {},
   "source": [
    "# 1. ragas总结"
   ]
  },
  {
   "cell_type": "markdown",
   "id": "40c06be7-56dc-415c-95db-4a638d066858",
   "metadata": {},
   "source": [
    "1. 事实正确性,factual_correctness(mode=f1): 0.6704\n",
    "2. 响应相关性,answer_relevancy: 0.7911\n",
    "3. 上下文精度,llm_context_precision_without_reference: 0.9075\n",
    "4. 忠诚性,faithfulness: 0.9090"
   ]
  },
  {
   "cell_type": "markdown",
   "id": "e32306ad-42c8-4e6a-8f68-ea3c6bd34299",
   "metadata": {},
   "source": [
    "## 1.1 事实正确性,factual_correctness 分析"
   ]
  },
  {
   "cell_type": "raw",
   "id": "ede34000-7b12-4ec8-9892-42327c159f28",
   "metadata": {},
   "source": [
    "response: 根据背景信息，AI服务器收入渗透率已经在二季度达到29%。\n",
    "reference: 根据Counterpoint的数据，AI服务器收入渗透率已在二季度达到29%。\n",
    "response_claims: ['根据背景信息，AI服务器收入渗透率已经在二季度达到29%']\n",
    "reference_response: [ True]\n",
    "tp: 1, fp: 0, fn: 1, score: 0.6666666666666666\n",
    "reference_claims: ['根据Counterpoint的数据，AI服务器收入渗透率已在二季度达到29%']\n",
    "response_reference: [False]"
   ]
  },
  {
   "cell_type": "markdown",
   "id": "184b81f0-9051-4a9f-a06a-d2029e9009ac",
   "metadata": {},
   "source": [
    "## 1.2 ragas\n",
    "\n",
    "1. 得分基线,baseline\n",
    "2. 提升方法 "
   ]
  },
  {
   "cell_type": "code",
   "execution_count": null,
   "id": "47861c00-8643-4ca6-ba93-47dd65dfabef",
   "metadata": {},
   "outputs": [],
   "source": []
  }
 ],
 "metadata": {
  "kernelspec": {
   "display_name": "Python 3 (ipykernel)",
   "language": "python",
   "name": "python3"
  },
  "language_info": {
   "codemirror_mode": {
    "name": "ipython",
    "version": 3
   },
   "file_extension": ".py",
   "mimetype": "text/x-python",
   "name": "python",
   "nbconvert_exporter": "python",
   "pygments_lexer": "ipython3",
   "version": "3.12.7"
  }
 },
 "nbformat": 4,
 "nbformat_minor": 5
}

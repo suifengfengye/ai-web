{
 "cells": [
  {
   "cell_type": "markdown",
   "id": "5bd4ec6c-d8e7-4c91-9e30-098ac4115674",
   "metadata": {},
   "source": [
    "# 4.1 补充metadata信息"
   ]
  },
  {
   "cell_type": "code",
   "execution_count": 16,
   "id": "4a060b3f-2ecf-45eb-a9a8-df67b78fc867",
   "metadata": {},
   "outputs": [],
   "source": [
    "# 1. 添加文档到chromadb当中\n",
    "# 2. 根据问题进行检索并输出答案\n",
    "\n",
    "import chromadb\n",
    "from langchain_chroma import Chroma\n",
    "from langchain_community.document_loaders import TextLoader\n",
    "from langchain_text_splitters import RecursiveCharacterTextSplitter\n",
    "from langchain_ollama import OllamaEmbeddings\n",
    "from langchain_core.prompts import ChatPromptTemplate\n",
    "from langchain_ollama import ChatOllama\n",
    "from langchain_core.output_parsers import StrOutputParser\n",
    "\n",
    "def get_metadata_str(metadata):\n",
    "    if metadata is None:\n",
    "        return \"\"\n",
    "    _str = \"\"\n",
    "    # (key, value)\n",
    "    for key, value in metadata.items():\n",
    "        _str += f\"{key}:{value}\\n\"\n",
    "    return _str\n",
    "\n",
    "class RagLangChain():\n",
    "    def __init__(self, \n",
    "                 collection_name: str = \"rag-video-collection\", \n",
    "                 host: str = \"localhost\",\n",
    "                port: int = 8000):\n",
    "        self.collection_name = collection_name\n",
    "        self.host = host\n",
    "        self.port = port\n",
    "\n",
    "    def __get_vector_store(self):\n",
    "        chromadb_client = chromadb.HttpClient(host=self.host, port=self.port)\n",
    "        embedding_fn = OllamaEmbeddings(model=\"nomic-embed-text:latest\")\n",
    "        \n",
    "        vector_store = Chroma(collection_name=self.collection_name,\n",
    "                              client=chromadb_client, \n",
    "                              embedding_function=embedding_fn\n",
    "                             )\n",
    "        return vector_store\n",
    "\n",
    "    def delete_collection(self):\n",
    "        vector_store = self.__get_vector_store()\n",
    "        vector_store.delete_collection()\n",
    "        \n",
    "    def add_file(self, file_path: str, metadata = None):\n",
    "        loader = TextLoader(file_path)\n",
    "        \n",
    "        docs = loader.load()\n",
    "        text_spliter = RecursiveCharacterTextSplitter(chunk_size=300, chunk_overlap=100)\n",
    "        all_splits = text_spliter.split_documents(docs)\n",
    "\n",
    "        if metadata is not None:\n",
    "            for split_item in all_splits:\n",
    "                split_metadata = split_item.metadata\n",
    "                split_item.metadata = {**split_metadata, **metadata}\n",
    "        \n",
    "        vector_store = self.__get_vector_store()\n",
    "        ids = vector_store.add_documents(documents=all_splits)\n",
    "        return ids\n",
    "\n",
    "    def __query_vector(self, info):\n",
    "        vector_store = self.__get_vector_store()\n",
    "        retriever = vector_store.as_retriever()\n",
    "        docs = retriever.invoke(info[\"query\"])\n",
    "        for doc_item in docs:\n",
    "            print(doc_item)\n",
    "            print(\"*\" * 80)\n",
    "        # docs_str = \"\\n\\n\".join(doc.page_content for doc in docs)\n",
    "        docs_str = \"\\n\\n\".join(f\"\"\"\n",
    "{get_metadata_str(doc.metadata)}\n",
    "{doc.page_content}\"\"\" for doc in docs)\n",
    "        print(f\"@@@@@{docs_str}\")\n",
    "        return docs_str\n",
    "        \n",
    "    def query(self, question: str):\n",
    "        prompt = ChatPromptTemplate.from_template(\"\"\"\n",
    "你是一个问答机器人。你的任务是根据下述给定的已知信息回答用户问题。\n",
    "\n",
    "已知信息:\n",
    "{context}\n",
    "用户问题：\n",
    "{query}\n",
    "如果已知信息不包含用户问题的答案，或者已知信息不足以回答用户的问题，请直接回复\"我无法回答您的问题\"。\n",
    "请不要输出已知信息中不包含的信息或答案。\n",
    "请用中文回答用户问题。\n",
    "\"\"\")\n",
    "        \n",
    "        llm = ChatOllama(model=\"qwen2.5:latest\")\n",
    "        \n",
    "        output_parser = StrOutputParser()\n",
    "        # 返回值: {\"query\": \"XXXX\", \"context\": \"XXXXX2\"}\n",
    "        chain = ( {\"context\": self.__query_vector, \"query\": lambda x: x[\"query\"]} | prompt | llm | output_parser)\n",
    "        \n",
    "        result = chain.invoke({\"query\": question})\n",
    "        return result\n"
   ]
  },
  {
   "cell_type": "code",
   "execution_count": 17,
   "id": "7de4a55c-d4f8-4019-ad95-132a6843dd55",
   "metadata": {},
   "outputs": [],
   "source": [
    "rag_chain = RagLangChain()"
   ]
  },
  {
   "cell_type": "code",
   "execution_count": 18,
   "id": "ba933ad9-ea60-400c-9014-e1037fb403de",
   "metadata": {},
   "outputs": [],
   "source": [
    "rag_chain.delete_collection()"
   ]
  },
  {
   "cell_type": "code",
   "execution_count": 19,
   "id": "ea8bc6de-462c-420b-a009-f67259d9725c",
   "metadata": {},
   "outputs": [
    {
     "data": {
      "text/plain": [
       "[Collection(name=my_collection_02),\n",
       " Collection(name=similarity_collection_cosine),\n",
       " Collection(name=similarity_collection_ip),\n",
       " Collection(name=similarity_collection_01),\n",
       " Collection(name=my_collection),\n",
       " Collection(name=my_collection_03),\n",
       " Collection(name=query_collection_01),\n",
       " Collection(name=query_video_collection)]"
      ]
     },
     "execution_count": 19,
     "metadata": {},
     "output_type": "execute_result"
    }
   ],
   "source": [
    "import chromadb\n",
    "client = chromadb.HttpClient(host=\"localhost\", port=8000)\n",
    "client.list_collections()\n",
    "# collction_01 = client.get_collection(name=\"rag-video-collection\")\n",
    "# collction_01.get(ids=[\"0ff540ea-3e4b-4732-ba5c-1d3864f30914\"])"
   ]
  },
  {
   "cell_type": "code",
   "execution_count": 20,
   "id": "eb7169bf-d50a-410d-98b4-8e100f5c6100",
   "metadata": {},
   "outputs": [
    {
     "data": {
      "text/plain": [
       "['968d0465-4d3f-4b5c-8326-58cecc4aa70c',\n",
       " '87b2c55c-0315-4243-872b-5ec89eaddbcb',\n",
       " 'a93ae3d9-446a-4cdc-8956-0ac2ba388b73',\n",
       " '50a6ec09-14dc-452c-888a-ad926b607210',\n",
       " 'a62e2881-0384-4dc5-b835-23809c19f344',\n",
       " '83600e1a-83c1-446d-b8f9-9767be2e1977',\n",
       " 'bd1bdb08-0dab-4575-8019-c3014c04a618',\n",
       " 'b61e7961-f2e7-4457-b8ea-2521b3c63df5',\n",
       " 'd39565da-7f6f-4c07-9ce1-c2e1fe4d40f6',\n",
       " 'b336442e-c280-4c21-ace5-b35e16f1b8cc',\n",
       " '5b7abee2-4294-4cf7-9e2e-ec2cb5e23e2c',\n",
       " '3e19abdb-37c7-4cde-bcdb-53de620afad5',\n",
       " '65980f7e-6db1-4c90-9e3a-a2d4604508df',\n",
       " 'a0f37d09-f5c3-497d-a7a6-8b5347d3416f',\n",
       " '3ef9ff74-f9c8-45c7-bed5-859eba8ced96',\n",
       " 'f67e88cc-8c38-4e28-b0bd-63e071db6400',\n",
       " '26a2bfa6-8590-4071-973b-ed0a9fb1ba8b',\n",
       " '66ea2173-7566-4c4a-9a12-fdb9847d4198',\n",
       " '8b140ef9-4737-4e04-826c-bb4d3e46526d',\n",
       " '4ab29195-e276-4ec1-a90c-157319238a62',\n",
       " 'e18730fa-9b43-4af5-ae02-bbd6b987becd',\n",
       " '58b1db67-84ee-4b40-8de5-c301902ee07c',\n",
       " '78a6ff51-e183-40a7-a38b-3fb989a0a9c9']"
      ]
     },
     "execution_count": 20,
     "metadata": {},
     "output_type": "execute_result"
    }
   ],
   "source": [
    "metadata = {\n",
    "    \"文章标题\": \"科技行业2025年展望\",\n",
    "    \"作者\": \"沈岱,马智焱,黄佳琦\",\n",
    "    \"发表时间\": \"2024 年 12 月 13 日\",\n",
    "}\n",
    "rag_chain.add_file(file_path=\"科技行业 2025 年展望.txt\", metadata=metadata)"
   ]
  },
  {
   "cell_type": "code",
   "execution_count": 21,
   "id": "622ab0d5-8681-4e4a-92ce-d7d0277ef787",
   "metadata": {},
   "outputs": [
    {
     "name": "stdout",
     "output_type": "stream",
     "text": [
      "page_content='三、智能手机:2024 年、2025 年连续两年保持增长\n",
      "预计 2025 年全球智能手机出货量将同比增长 2%\n",
      "根据 IDC 数据，今年三季度全球智能手机出货量 3.15 亿部，环比增长 8%， 同比增长4%(图表 34)。虽然同比增速较一二季度下行，但是同比增速略 好于我们此前预测。这与我们与智能手机供应链沟通下来的情况类似，比半 年报看到的行业需求情况略好。' metadata={'source': '科技行业 2025 年展望.txt', '作者': '沈岱,马智焱,黄佳琦', '发表时间': '2024 年 12 月 13 日', '文章标题': '科技行业2025年展望'}\n",
      "********************************************************************************\n",
      "page_content='总体来看，我们预期今年全球智能手机出货量将达到 12.2 亿部，同比增长5.1%。我们略微上调全年出货量预测。全球智能手机出货量在今年取得较好 增长，在2023 年接近冰点的出货量基础上实现了较好的复苏。\n",
      "我们认为 2025 年有望延续 2024 年的复苏势头，预计 2025 年全球智能手机 出货量将达到12.4 亿部，同比增长 1.6%。由于今年一二季度全球智能手机 出货量接近2 位数的增长，2025 年上半年智能手机出货量可能会录得同比 下滑。但是，明年同比增速有望呈现前低后高的态势，从而带来全年出货量 的正增长(图表30)。' metadata={'source': '科技行业 2025 年展望.txt', '作者': '沈岱,马智焱,黄佳琦', '发表时间': '2024 年 12 月 13 日', '文章标题': '科技行业2025年展望'}\n",
      "********************************************************************************\n",
      "page_content='其中，小米的高端机型表现比较典型。今年三季度，小米 3,000 元人民币以 上的智能手机出货量占到小米总出货量的6.3%，同比增加 1.5 个百分点，环 比增加0.5 个百分点(图表 41)。\n",
      "展望四季度，国内和海外节假日、购物节集中，全球智能手机出货量预期环 比增长1%。而由于去年四季度是本轮智能手机出货量同比增速翻正的第一 个季度，因而有相对较高基础，我们预期四季度全球智能手机出货量同比下 降2%。' metadata={'source': '科技行业 2025 年展望.txt', '作者': '沈岱,马智焱,黄佳琦', '发表时间': '2024 年 12 月 13 日', '文章标题': '科技行业2025年展望'}\n",
      "********************************************************************************\n",
      "page_content='科技行业 2025 年展望:AI 浪潮重新 定义全球科技的未来\n",
      "\n",
      "发表时间：2024 年 12 月 13 日\n",
      "作者：\n",
      "(1) 沈岱 - 首席科技分析师 - sia_huang@spdbi.com - (852) 2809 0355\n",
      "(2) 马智焱 - 科技分析师 - ivy_ma@spdbi.com - (852) 2809 0300\n",
      "(3) 黄佳琦 - 科技分析师 - sia_huang@spdbi.com  - (852) 2809 0355\n",
      "\n",
      "一、全球 AI 行业具备较大成长空间' metadata={'source': '科技行业 2025 年展望.txt', '作者': '沈岱,马智焱,黄佳琦', '发表时间': '2024 年 12 月 13 日', '文章标题': '科技行业2025年展望'}\n",
      "********************************************************************************\n",
      "@@@@@\n",
      "source:科技行业 2025 年展望.txt\n",
      "作者:沈岱,马智焱,黄佳琦\n",
      "发表时间:2024 年 12 月 13 日\n",
      "文章标题:科技行业2025年展望\n",
      "\n",
      "三、智能手机:2024 年、2025 年连续两年保持增长\n",
      "预计 2025 年全球智能手机出货量将同比增长 2%\n",
      "根据 IDC 数据，今年三季度全球智能手机出货量 3.15 亿部，环比增长 8%， 同比增长4%(图表 34)。虽然同比增速较一二季度下行，但是同比增速略 好于我们此前预测。这与我们与智能手机供应链沟通下来的情况类似，比半 年报看到的行业需求情况略好。\n",
      "\n",
      "\n",
      "source:科技行业 2025 年展望.txt\n",
      "作者:沈岱,马智焱,黄佳琦\n",
      "发表时间:2024 年 12 月 13 日\n",
      "文章标题:科技行业2025年展望\n",
      "\n",
      "总体来看，我们预期今年全球智能手机出货量将达到 12.2 亿部，同比增长5.1%。我们略微上调全年出货量预测。全球智能手机出货量在今年取得较好 增长，在2023 年接近冰点的出货量基础上实现了较好的复苏。\n",
      "我们认为 2025 年有望延续 2024 年的复苏势头，预计 2025 年全球智能手机 出货量将达到12.4 亿部，同比增长 1.6%。由于今年一二季度全球智能手机 出货量接近2 位数的增长，2025 年上半年智能手机出货量可能会录得同比 下滑。但是，明年同比增速有望呈现前低后高的态势，从而带来全年出货量 的正增长(图表30)。\n",
      "\n",
      "\n",
      "source:科技行业 2025 年展望.txt\n",
      "作者:沈岱,马智焱,黄佳琦\n",
      "发表时间:2024 年 12 月 13 日\n",
      "文章标题:科技行业2025年展望\n",
      "\n",
      "其中，小米的高端机型表现比较典型。今年三季度，小米 3,000 元人民币以 上的智能手机出货量占到小米总出货量的6.3%，同比增加 1.5 个百分点，环 比增加0.5 个百分点(图表 41)。\n",
      "展望四季度，国内和海外节假日、购物节集中，全球智能手机出货量预期环 比增长1%。而由于去年四季度是本轮智能手机出货量同比增速翻正的第一 个季度，因而有相对较高基础，我们预期四季度全球智能手机出货量同比下 降2%。\n",
      "\n",
      "\n",
      "source:科技行业 2025 年展望.txt\n",
      "作者:沈岱,马智焱,黄佳琦\n",
      "发表时间:2024 年 12 月 13 日\n",
      "文章标题:科技行业2025年展望\n",
      "\n",
      "科技行业 2025 年展望:AI 浪潮重新 定义全球科技的未来\n",
      "\n",
      "发表时间：2024 年 12 月 13 日\n",
      "作者：\n",
      "(1) 沈岱 - 首席科技分析师 - sia_huang@spdbi.com - (852) 2809 0355\n",
      "(2) 马智焱 - 科技分析师 - ivy_ma@spdbi.com - (852) 2809 0300\n",
      "(3) 黄佳琦 - 科技分析师 - sia_huang@spdbi.com  - (852) 2809 0355\n",
      "\n",
      "一、全球 AI 行业具备较大成长空间\n"
     ]
    },
    {
     "data": {
      "text/plain": [
       "'2024年三季度全球智能手机出货量为3.15亿部。'"
      ]
     },
     "execution_count": 21,
     "metadata": {},
     "output_type": "execute_result"
    }
   ],
   "source": [
    "rag_chain.query(question=\"2024年三季度全球智能手机出货量 多少部?\")"
   ]
  },
  {
   "cell_type": "code",
   "execution_count": null,
   "id": "79a99bca-2ca8-42d1-93e5-cdd309632a30",
   "metadata": {},
   "outputs": [],
   "source": []
  }
 ],
 "metadata": {
  "kernelspec": {
   "display_name": "Python 3 (ipykernel)",
   "language": "python",
   "name": "python3"
  },
  "language_info": {
   "codemirror_mode": {
    "name": "ipython",
    "version": 3
   },
   "file_extension": ".py",
   "mimetype": "text/x-python",
   "name": "python",
   "nbconvert_exporter": "python",
   "pygments_lexer": "ipython3",
   "version": "3.12.7"
  }
 },
 "nbformat": 4,
 "nbformat_minor": 5
}

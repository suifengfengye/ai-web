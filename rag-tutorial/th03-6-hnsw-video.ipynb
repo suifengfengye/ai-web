{
 "cells": [
  {
   "cell_type": "markdown",
   "id": "1a596b8c-f56c-4305-84ac-2078b249ba40",
   "metadata": {},
   "source": [
    "# 1. hnsw:space\n",
    "\n",
    "定义嵌入（embedding）空间的距离函数。默认为l2。\n",
    "\n",
    "- l2: 平方L2范数\n",
    "- cosine: 余弦相似度（余弦距离）\n",
    "- ip: 内积, (Inner product)\n",
    "\n",
    "\n",
    "```python\n",
    "collection = client.get_or_create_collection(\n",
    "    name=\"hnsw_collection\", \n",
    "    embedding_function=emb_fn,\n",
    "    metadata={\n",
    "        \"hnsw:space\": \"cosine\"\n",
    "    }\n",
    ")\n",
    "```"
   ]
  },
  {
   "cell_type": "code",
   "execution_count": 4,
   "id": "662d09c5-83e6-406b-b5cb-cb654e265091",
   "metadata": {},
   "outputs": [
    {
     "name": "stdout",
     "output_type": "stream",
     "text": [
      "chroma-hnswlib                           0.7.6\n",
      "chromadb                                 0.5.23\n",
      "langchain-chroma                         0.2.0\n"
     ]
    }
   ],
   "source": [
    "!pip list | grep chroma"
   ]
  },
  {
   "cell_type": "code",
   "execution_count": null,
   "id": "71daf8d4-06e4-44ae-a2e0-db1f1fdcc59e",
   "metadata": {},
   "outputs": [],
   "source": []
  }
 ],
 "metadata": {
  "kernelspec": {
   "display_name": "Python 3 (ipykernel)",
   "language": "python",
   "name": "python3"
  },
  "language_info": {
   "codemirror_mode": {
    "name": "ipython",
    "version": 3
   },
   "file_extension": ".py",
   "mimetype": "text/x-python",
   "name": "python",
   "nbconvert_exporter": "python",
   "pygments_lexer": "ipython3",
   "version": "3.12.8"
  }
 },
 "nbformat": 4,
 "nbformat_minor": 5
}

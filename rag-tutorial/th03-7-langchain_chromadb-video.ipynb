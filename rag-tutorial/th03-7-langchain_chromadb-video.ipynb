{
 "cells": [
  {
   "cell_type": "markdown",
   "id": "15c24d08-f591-4f5d-aa12-8566006b5c6e",
   "metadata": {},
   "source": [
    "# 1. langchain的Chroma类\n",
    "\n",
    "来自langchain_chroma包！\n",
    "\n",
    "参数：\n",
    "\n",
    "- collection_name: 默认值langchain\n",
    "- embedding_function: embedding函数,默认None\n",
    "- persist_directory: 持久化目录\n",
    "- client_settings: 客户端设置\n",
    "- collection_metadata: collection的metadata信息\n",
    "- client: 客户端\n",
    "- create_collection_if_not_exists: bool,默认为True\n",
    "\n"
   ]
  },
  {
   "cell_type": "code",
   "execution_count": 1,
   "id": "3afb9938-9c31-434e-a0d6-7654f92c937e",
   "metadata": {},
   "outputs": [],
   "source": [
    "# 1. 添加文档到chromadb当中\n",
    "# 2. 根据问题进行检索并输出答案\n",
    "\n",
    "import chromadb\n",
    "from langchain_chroma import Chroma\n",
    "from langchain_community.document_loaders import TextLoader\n",
    "from langchain_text_splitters import RecursiveCharacterTextSplitter\n",
    "from langchain_ollama import OllamaEmbeddings\n",
    "from langchain_core.prompts import ChatPromptTemplate\n",
    "from langchain_ollama import ChatOllama\n",
    "from langchain_core.output_parsers import StrOutputParser\n",
    "\n",
    "class RagLangChain():\n",
    "    def __init__(self, \n",
    "                 collection_name: str = \"rag-video-collection\", \n",
    "                 host: str = \"localhost\",\n",
    "                port: int = 8000):\n",
    "        self.collection_name = collection_name\n",
    "        self.host = host\n",
    "        self.port = port\n",
    "\n",
    "    def __get_vector_store(self):\n",
    "        chromadb_client = chromadb.HttpClient(host=self.host, port=self.port)\n",
    "        embedding_fn = OllamaEmbeddings(model=\"nomic-embed-text:latest\")\n",
    "        \n",
    "        vector_store = Chroma(collection_name=self.collection_name,\n",
    "                              client=chromadb_client, \n",
    "                              embedding_function=embedding_fn\n",
    "                             )\n",
    "        return vector_store\n",
    "\n",
    "    # def delete_collection(self):\n",
    "    #     vector_store = self.__get_vector_store()\n",
    "    #     vector_store.delete_collection()\n",
    "        \n",
    "    def add_file(self, file_path: str):\n",
    "        loader = TextLoader(file_path)\n",
    "        \n",
    "        docs = loader.load()\n",
    "        text_spliter = RecursiveCharacterTextSplitter(chunk_size=300, chunk_overlap=100)\n",
    "        all_splits = text_spliter.split_documents(docs)\n",
    "        \n",
    "        vector_store = self.__get_vector_store()\n",
    "        ids = vector_store.add_documents(documents=all_splits)\n",
    "        return ids\n",
    "\n",
    "    def __query_vector(self, info):\n",
    "        vector_store = self.__get_vector_store()\n",
    "        retriever = vector_store.as_retriever()\n",
    "        docs = retriever.invoke(info[\"query\"])\n",
    "        docs_str = \"\\n\\n\".join(doc.page_content for doc in docs)\n",
    "        return docs_str\n",
    "        \n",
    "    def query(self, question: str):\n",
    "        prompt = ChatPromptTemplate.from_template(\"\"\"\n",
    "你是一个问答机器人。你的任务是根据下述给定的已知信息回答用户问题。\n",
    "\n",
    "已知信息:\n",
    "{context}\n",
    "用户问题：\n",
    "{query}\n",
    "如果已知信息不包含用户问题的答案，或者已知信息不足以回答用户的问题，请直接回复\"我无法回答您的问题\"。\n",
    "请不要输出已知信息中不包含的信息或答案。\n",
    "请用中文回答用户问题。\n",
    "\"\"\")\n",
    "        \n",
    "        llm = ChatOllama(model=\"qwen2.5:latest\")\n",
    "        \n",
    "        output_parser = StrOutputParser()\n",
    "        # 返回值: {\"query\": \"XXXX\", \"context\": \"XXXXX2\"}\n",
    "        chain = ( {\"context\": self.__query_vector, \"query\": lambda x: x[\"query\"]} | prompt | llm | output_parser)\n",
    "        \n",
    "        result = chain.invoke({\"query\": question})\n",
    "        return result\n"
   ]
  },
  {
   "cell_type": "code",
   "execution_count": 2,
   "id": "39e01068-2e08-4113-8443-89fae7961a35",
   "metadata": {},
   "outputs": [],
   "source": [
    "rag_chain = RagLangChain()"
   ]
  },
  {
   "cell_type": "code",
   "execution_count": 3,
   "id": "a43a9179-9e6e-451f-a070-fbc8a86211aa",
   "metadata": {},
   "outputs": [
    {
     "data": {
      "text/plain": [
       "['fef6c059-de38-4344-9ee5-0db3440c5538',\n",
       " '1e8a97f6-c596-46be-86c0-6c840fdd01c3',\n",
       " '5925c4e3-be58-4300-95b2-58c27ed333c9',\n",
       " 'a5380403-abaa-47ba-bf5f-bda6e20e336c',\n",
       " '5fec7acd-46c2-44e2-8558-b641cb88f738',\n",
       " 'e430c832-f090-4e66-aac6-bd0a2b610071',\n",
       " '3dcdf7e4-1765-49a9-933e-630d57a0bebc',\n",
       " '12df78e2-5714-4607-bc69-78c4323fb6e4',\n",
       " 'bb54a544-06b1-4db1-a4d1-4cb6d2ccff7a',\n",
       " '97d2a120-c957-45df-a559-bfd197951c43',\n",
       " '6b3e3f7c-5f0a-4a3f-b52c-8f10566d70cf',\n",
       " 'aeab3935-2e9d-4412-8b0c-bee38c685804',\n",
       " '65264adc-1dce-4f4c-b459-947c902e9716',\n",
       " '5c0447aa-1fe0-43fc-9cc6-86506f5888e9',\n",
       " '3b86a417-7bf1-434f-a568-671a68d1ac08',\n",
       " '2bc33779-1d52-45b8-a094-842d182b991b',\n",
       " '3f02c9c2-79c6-4773-9758-1033888a07f9',\n",
       " '7d2dbc16-8770-4aa2-8727-931685e0c060',\n",
       " 'c1b2c8b0-698f-471b-a205-efe9c0f981bc',\n",
       " '8c6eb5b8-eb54-4804-9b09-faeaa96c195d',\n",
       " '915c4edb-2a02-44c1-8fd3-cf5892dc4c0c',\n",
       " '7b5d3f0a-47ac-494e-892f-c2694b0415b7',\n",
       " '38c53534-a495-4e5c-a209-2edf1c2963fb']"
      ]
     },
     "execution_count": 3,
     "metadata": {},
     "output_type": "execute_result"
    }
   ],
   "source": [
    "rag_chain.add_file(file_path=\"科技行业 2025 年展望.txt\")"
   ]
  },
  {
   "cell_type": "code",
   "execution_count": 4,
   "id": "a0f325cf-6397-4e8f-847e-1dbca4a1e639",
   "metadata": {},
   "outputs": [
    {
     "data": {
      "text/plain": [
       "'2024年三季度全球智能手机出货量的信息在给定的已知信息中没有直接给出具体数字，仅提到“今年三季度全球智能手机出货量 3.15 亿部”，这里的“今年”指的是2023年三季度的数据。对于2024年三季度的具体出货量数据，已知信息中并未提供。\\n\\n因此，我无法回答您的问题。'"
      ]
     },
     "execution_count": 4,
     "metadata": {},
     "output_type": "execute_result"
    }
   ],
   "source": [
    "rag_chain.query(question=\"2024年三季度全球智能手机出货量 多少部?\")"
   ]
  },
  {
   "cell_type": "code",
   "execution_count": null,
   "id": "e98b9b5a-cb4e-4366-bfcd-e147a7f4cb3e",
   "metadata": {},
   "outputs": [],
   "source": []
  }
 ],
 "metadata": {
  "kernelspec": {
   "display_name": "Python 3 (ipykernel)",
   "language": "python",
   "name": "python3"
  },
  "language_info": {
   "codemirror_mode": {
    "name": "ipython",
    "version": 3
   },
   "file_extension": ".py",
   "mimetype": "text/x-python",
   "name": "python",
   "nbconvert_exporter": "python",
   "pygments_lexer": "ipython3",
   "version": "3.12.7"
  }
 },
 "nbformat": 4,
 "nbformat_minor": 5
}

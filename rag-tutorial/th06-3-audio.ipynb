{
 "cells": [
  {
   "cell_type": "markdown",
   "id": "47cd8a15-84c6-43e3-a0c0-e7598a39fc36",
   "metadata": {},
   "source": [
    "# 1. 语音识别\n",
    "\n",
    "\n",
    "ASR: Automatic Speech Recognition（自动语音识别）\n",
    "即让机器将人类语音转换为文本的技术（如 Siri、字幕生成）。\n",
    "\n",
    "相关术语：\n",
    "TTS:（Text-to-Speech）：文本转语音（如语音助手发声）。\n"
   ]
  },
  {
   "cell_type": "code",
   "execution_count": 1,
   "id": "a1b304e4-42c1-4c93-886d-dfbe1f9727d7",
   "metadata": {},
   "outputs": [
    {
     "name": "stderr",
     "output_type": "stream",
     "text": [
      "/opt/miniconda3/envs/rag-video/lib/python3.12/site-packages/tqdm/auto.py:21: TqdmWarning: IProgress not found. Please update jupyter and ipywidgets. See https://ipywidgets.readthedocs.io/en/stable/user_install.html\n",
      "  from .autonotebook import tqdm as notebook_tqdm\n",
      "Device set to use mps:0\n",
      "/opt/miniconda3/envs/rag-video/lib/python3.12/site-packages/transformers/models/whisper/generation_whisper.py:573: FutureWarning: The input name `inputs` is deprecated. Please make sure to use `input_features` instead.\n",
      "  warnings.warn(\n",
      "Due to a bug fix in https://github.com/huggingface/transformers/pull/28687 transcription using a multilingual Whisper will default to language detection followed by transcription instead of translation to English.This might be a breaking change for your use case. If you want to instead always translate your audio to English, make sure to pass `language='en'`.\n"
     ]
    },
    {
     "data": {
      "text/plain": [
       "{'text': ' I have a dream that one day this nation will rise up and live out the true meaning of its creed.'}"
      ]
     },
     "execution_count": 1,
     "metadata": {},
     "output_type": "execute_result"
    }
   ],
   "source": [
    "from transformers import pipeline, WhisperForConditionalGeneration, WhisperProcessor\n",
    "\n",
    "# 指定模型名称（Hugging Face Hub 上的预训练模型）\n",
    "model_name = \"openai/whisper-large-v3-turbo\"\n",
    "\n",
    "# 加载模型和处理器 （模型默认下载～/.cache/目录下）\n",
    "model = WhisperForConditionalGeneration.from_pretrained(model_name)  # 核心语音识别模型\n",
    "processor = WhisperProcessor.from_pretrained(model_name)            # 音频预处理工具\n",
    "\n",
    "# 创建 ASR 管道\n",
    "transcriber = pipeline(\n",
    "    task=\"automatic-speech-recognition\",  # 任务类型\n",
    "    model=model,                          # 加载的模型\n",
    "    tokenizer=processor.tokenizer,        # 处理文本的分词器\n",
    "    feature_extractor=processor.feature_extractor  # 音频特征提取器\n",
    ")\n",
    "\n",
    "# 对远程音频文件进行转录\n",
    "transcriber(\"https://huggingface.co/datasets/Narsil/asr_dummy/resolve/main/mlk.flac\")"
   ]
  },
  {
   "cell_type": "markdown",
   "id": "b20e82a0-9d79-423a-9f15-bdcf71c292c2",
   "metadata": {},
   "source": [
    "# 2. 视频处理 - ffmpeg\n",
    "\n",
    "FFmpeg 一个免费的、开源的命令行工具，能处理几乎所有和音视频相关的操作。\n",
    "\n",
    "功能举例：\n",
    "1. 视频/音频的格式转换（比如 .mp4转 .avi）。\n",
    "2. 压缩视频大小、提取音频、裁剪片段。\n",
    "3. 抽帧（从视频中提取图片）。\n",
    "4. 直播推流、合并视频、添加字幕等。\n"
   ]
  },
  {
   "cell_type": "code",
   "execution_count": null,
   "id": "6eb47342-724a-4854-8abe-f56d8e6fdc64",
   "metadata": {},
   "outputs": [],
   "source": []
  }
 ],
 "metadata": {
  "kernelspec": {
   "display_name": "Python 3 (ipykernel)",
   "language": "python",
   "name": "python3"
  },
  "language_info": {
   "codemirror_mode": {
    "name": "ipython",
    "version": 3
   },
   "file_extension": ".py",
   "mimetype": "text/x-python",
   "name": "python",
   "nbconvert_exporter": "python",
   "pygments_lexer": "ipython3",
   "version": "3.12.8"
  }
 },
 "nbformat": 4,
 "nbformat_minor": 5
}

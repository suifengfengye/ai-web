{
 "cells": [
  {
   "cell_type": "markdown",
   "id": "f9202ff6-80b7-4aac-b073-57904f8f6820",
   "metadata": {},
   "source": [
    "# 15 - fallback\n",
    "\n",
    "容灾使用。\n",
    "\n",
    "- with_fallbacks(): 接收一个列表"
   ]
  },
  {
   "cell_type": "code",
   "execution_count": 1,
   "id": "2a68773b-b0ca-4bcf-b3e7-d6da13c6f14a",
   "metadata": {},
   "outputs": [
    {
     "name": "stdin",
     "output_type": "stream",
     "text": [
      "请输入ZHIPUAI_API_KEY... ········\n"
     ]
    }
   ],
   "source": [
    "import os\n",
    "import getpass\n",
    "\n",
    "os.environ[\"ZHIPUAI_API_KEY\"] =  getpass.getpass(\"请输入ZHIPUAI_API_KEY...\")"
   ]
  },
  {
   "cell_type": "code",
   "execution_count": 4,
   "id": "ca8bf7aa-e1c1-4934-9008-73214eb78c44",
   "metadata": {},
   "outputs": [
    {
     "data": {
      "text/plain": [
       "AIMessage(content='🤔\\n\\nLangChain is a fascinating project that enables seamless interaction between humans and AI models. It\\'s an open-source framework that connects multiple language models together to create a single, powerful AI system.\\n\\nThe idea behind LangChain is simple: by combining the strengths of various language models, you can build a more knowledgeable, context-aware, and helpful AI that can understand and respond to user queries in a more natural way. Think of it as a \"language model orchestra\" where different models play together in harmony! 🎶\\n\\nHere\\'s how LangChain works:\\n\\n1. **Model chaining**: LangChain allows you to connect multiple language models (e.g., transformers, BERT, RoBERTa) into a single pipeline.\\n2. **Contextual understanding**: By combining the strengths of different models, LangChain enables AI systems to better understand the context and nuances of human input.\\n3. **Improved responses**: The resulting AI system can generate more accurate, relevant, and helpful responses to user queries.\\n\\nLangChain has many potential applications, such as:\\n\\n1. **Conversational AI**: Develop more sophisticated chatbots that can engage in natural conversations with humans.\\n2. **Language translation**: Improve machine translation by leveraging the strengths of multiple language models.\\n3. **Text summarization**: Create AI systems that can summarize long documents or articles more accurately and efficiently.\\n\\nOverall, LangChain is an exciting project that has the potential to revolutionize human-AI interaction! 🚀', response_metadata={'model': 'llama3', 'created_at': '2024-11-29T12:40:36.308535Z', 'message': {'role': 'assistant', 'content': ''}, 'done_reason': 'stop', 'done': True, 'total_duration': 11477429375, 'load_duration': 30716250, 'prompt_eval_count': 15, 'prompt_eval_duration': 164000000, 'eval_count': 298, 'eval_duration': 11281000000}, id='run-64ec5bf3-28cd-4ef6-a2bc-4df6369330a7-0')"
      ]
     },
     "execution_count": 4,
     "metadata": {},
     "output_type": "execute_result"
    }
   ],
   "source": [
    "# ChatPromptTempalte\n",
    "from langchain_core.prompts import ChatPromptTemplate\n",
    "from langchain_community.chat_models import ChatOllama, ChatZhipuAI\n",
    "from langchain_core.output_parsers import StrOutputParser\n",
    "\n",
    "zhipuai_chain = ChatPromptTemplate.from_template(\n",
    "    \"\"\"{question}\"\"\") | ChatZhipuAI(model=\"glm-4-12345\")\n",
    "\n",
    "ollama_chain = ChatPromptTemplate.from_template(\n",
    "    \"\"\"{question}\"\"\") | ChatOllama(model=\"llama3\")\n",
    "\n",
    "zhipuai_chain = zhipuai_chain.with_fallbacks([ollama_chain])\n",
    "zhipuai_chain.invoke({\"question\":\"什么是langchain?\"})"
   ]
  },
  {
   "cell_type": "code",
   "execution_count": null,
   "id": "79d4a9f1-d522-457c-9486-1fc1a41798b1",
   "metadata": {},
   "outputs": [],
   "source": []
  }
 ],
 "metadata": {
  "kernelspec": {
   "display_name": "Python 3 (ipykernel)",
   "language": "python",
   "name": "python3"
  },
  "language_info": {
   "codemirror_mode": {
    "name": "ipython",
    "version": 3
   },
   "file_extension": ".py",
   "mimetype": "text/x-python",
   "name": "python",
   "nbconvert_exporter": "python",
   "pygments_lexer": "ipython3",
   "version": "3.12.4"
  }
 },
 "nbformat": 4,
 "nbformat_minor": 5
}

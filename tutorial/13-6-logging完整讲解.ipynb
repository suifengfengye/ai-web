{
 "cells": [
  {
   "cell_type": "markdown",
   "id": "87bd9dad-40bd-4231-b17a-e1b9a8379c46",
   "metadata": {},
   "source": [
    "# logging模块"
   ]
  },
  {
   "cell_type": "markdown",
   "id": "c3213ed1-2358-4aac-a105-65f5cf3cdcc1",
   "metadata": {},
   "source": [
    "## 1. logger记录器\n"
   ]
  },
  {
   "cell_type": "markdown",
   "id": "402777d0-68b9-4592-a511-d1a3cb0c84ec",
   "metadata": {},
   "source": [
    "### 1.1 root logger，根记录器\n",
    "2种获取方式\n",
    "1. logging.getLogger()\n",
    "2. logging.root"
   ]
  },
  {
   "cell_type": "code",
   "execution_count": 16,
   "id": "ff4affa2-6a70-433b-9d3a-ae2a93fc8d6b",
   "metadata": {},
   "outputs": [
    {
     "name": "stdout",
     "output_type": "stream",
     "text": [
      "True\n"
     ]
    }
   ],
   "source": [
    "import logging\n",
    "\n",
    "print(logging.getLogger() == logging.root)\n",
    "\n",
    "root_logger = logging.getLogger()\n",
    "root_logger.info(\"这是一条告警日志信息\")"
   ]
  },
  {
   "cell_type": "markdown",
   "id": "9218d66a-c852-4284-bb10-363b3503827b",
   "metadata": {},
   "source": [
    "### 1.2 创建/获取logger\n",
    "\n",
    "    通过getLogger()方法获取。\n",
    "\n",
    "1. getLogger()没有任何参数的时候，返回root logger。\n",
    "2. 如果传入logger名称，logger已经存在，则返回；如果不存在，则创建一个logger再返回。\n",
    "\n",
    "```python\n",
    "import logging\n",
    "docs_logger = logging.getLogger(\"DOCS\")\n",
    "```"
   ]
  },
  {
   "cell_type": "code",
   "execution_count": 3,
   "id": "b4350645-c0ee-4318-8253-1e9d72ebf222",
   "metadata": {},
   "outputs": [
    {
     "name": "stderr",
     "output_type": "stream",
     "text": [
      "这是一条Docs日志信息\n"
     ]
    }
   ],
   "source": [
    "import logging\n",
    "docs_logger = logging.getLogger(\"DOCS\")\n",
    "docs_logger.warning(\"这是一条Docs日志信息\")"
   ]
  },
  {
   "cell_type": "markdown",
   "id": "ba1665e4-960f-487f-97ca-4d4165a0634e",
   "metadata": {},
   "source": [
    "### 1.3. 常用属性和方法\n",
    "\n",
    "**属性**\n",
    "1. name：logger名称,根logger的名称就是\"root\"\n",
    "2. level：logger的等级\n",
    "3. parent: 父logger\n",
    "4. handlers: 控制器列表，下面介绍\n",
    "5. propagate: bool,默认值为True,True-向上传播;False-不向上传播\n",
    "\n",
    "**方法**\n",
    "1. 记录日志的方法：debug(msg, *args, **kwargs)/info()/warning()/error()/critical()\n",
    "    1. msg: str, 字符串，日志的内容；\n",
    "    2. *args: 和msg配合使用，使用C语言printf风格来格式化msg,用得较少\n",
    "    3. **kwargs: exc_info记录堆栈信息\n",
    "2. 记录日志的通用方法：log(level, msg, *args, **kwargs)\n",
    "3. 设置日志等级: setLevel(),参数可以是logging.DEBUG/logging.INFO/logging.WARNING/logging.ERROR/logging.CRITICAL\n",
    "4. 添加控制器：addHandler()\n",
    "5. 删除控制器：removeHandler()\n",
    "6. 清空控制器: logger.handlers = []"
   ]
  },
  {
   "cell_type": "code",
   "execution_count": 2,
   "id": "11a2115c-6602-4e31-8b87-23c8b30c5aaa",
   "metadata": {},
   "outputs": [
    {
     "ename": "NameError",
     "evalue": "name 'root_logger' is not defined",
     "output_type": "error",
     "traceback": [
      "\u001b[0;31m---------------------------------------------------------------------------\u001b[0m",
      "\u001b[0;31mNameError\u001b[0m                                 Traceback (most recent call last)",
      "Cell \u001b[0;32mIn[2], line 12\u001b[0m\n\u001b[1;32m     10\u001b[0m         \u001b[38;5;28mprint\u001b[39m(\u001b[38;5;124m'\u001b[39m\u001b[38;5;124mhandlers is empty!\u001b[39m\u001b[38;5;124m'\u001b[39m)\n\u001b[1;32m     11\u001b[0m     \u001b[38;5;28mprint\u001b[39m(\u001b[38;5;124m\"\u001b[39m\u001b[38;5;124m-\u001b[39m\u001b[38;5;124m\"\u001b[39m\u001b[38;5;241m*\u001b[39m\u001b[38;5;241m80\u001b[39m)\n\u001b[0;32m---> 12\u001b[0m print_logger_info(\u001b[43mroot_logger\u001b[49m)\n",
      "\u001b[0;31mNameError\u001b[0m: name 'root_logger' is not defined"
     ]
    }
   ],
   "source": [
    "def print_logger_info(logger):\n",
    "    print(\"-\"*80)\n",
    "    print(f\"Logger name: {logger.name}, level: {logging.getLevelName(logger.level)}, \\\n",
    "    parent: {logger.parent}\")\n",
    "    for handler in logger.handlers:\n",
    "        print(f\"  Handler: {handler}\")\n",
    "        for key, value in handler.__dict__.items():\n",
    "            print(f\"      {key}: {value}\")\n",
    "    if not logger.handlers:\n",
    "        print('handlers is empty!')\n",
    "    print(\"-\"*80)\n",
    "print_logger_info(root_logger)"
   ]
  },
  {
   "cell_type": "code",
   "execution_count": 12,
   "id": "e15e6e14-5e6e-44d0-8c2e-7379575e7279",
   "metadata": {},
   "outputs": [
    {
     "name": "stdout",
     "output_type": "stream",
     "text": [
      "--------------------------------------------------------------------------------\n",
      "Logger name: DOCS, level: INFO,     parent: <RootLogger root (WARNING)>\n",
      "  Handler: <StreamHandler stderr (INFO)>\n",
      "      filters: []\n",
      "      _name: None\n",
      "      level: 20\n",
      "      formatter: None\n",
      "      _closed: False\n",
      "      lock: <unlocked _thread.RLock object owner=0 count=0 at 0x108183440>\n",
      "      stream: <ipykernel.iostream.OutStream object at 0x107a94b20>\n",
      "--------------------------------------------------------------------------------\n"
     ]
    }
   ],
   "source": [
    "print_logger_info(docs_logger)"
   ]
  },
  {
   "cell_type": "markdown",
   "id": "7cd7a8ff-d511-4e43-bd22-a53cdc3fd332",
   "metadata": {
    "jp-MarkdownHeadingCollapsed": true
   },
   "source": [
    "### 1.4 父子关系\n",
    "\n",
    "所有logger的祖先是root logger。\n",
    "\n",
    "1. 继承配置：子记录器可以继承父记录器的配置，包括处理器（handlers）、格式化器（formatters）和级别（levels）。\n",
    "2. 日志传播：子记录器的日志消息可以传播到父记录器，从而实现集中化的日志处理,通过logger的 **propagate** 确定是否传播。\n",
    "3. 分层管理：通过层次结构，可以更好地管理和组织不同模块或组件的日志记录。\n",
    "\n",
    "\n",
    "```shell\n",
    "ROOT\n",
    "    A\n",
    "    A.B\n",
    "    A.B.C\n",
    "    A.B.D\n",
    "    A.BB\n",
    "```"
   ]
  },
  {
   "cell_type": "markdown",
   "id": "afc005a0-c1e3-4095-ad17-9292a8fab0a8",
   "metadata": {},
   "source": [
    "## 2. handler控制器\n",
    "\n",
    "作用是控制日志打印到哪里。常用的有StreamHandler和FileHandler。"
   ]
  },
  {
   "cell_type": "markdown",
   "id": "3be2fcaa-0980-4d78-9aaf-eab90c12fb00",
   "metadata": {
    "jp-MarkdownHeadingCollapsed": true
   },
   "source": [
    "### 2.1 常用属性和方法\n",
    "\n",
    "**属性**\n",
    "\n",
    "1. level: 日志等级\n",
    "2. formatter: 格式器\n",
    "3. filters[]: 过滤器\n",
    "\n",
    "**方法**\n",
    "\n",
    "1. setLevel(level): 设置日志等级\n",
    "2. setFormatter(fmt): 设置格式器\n",
    "3. addFilter(): 添加过滤器\n",
    "4. removeFilter(): 删除过滤器\n"
   ]
  },
  {
   "cell_type": "markdown",
   "id": "aeb8f458-2bae-4961-b5e7-befb140c9f64",
   "metadata": {},
   "source": [
    "### 2.2 logging.StreamHandler()\n",
    "\n",
    "**参数**\n",
    "\n",
    "1. stream: 默认输出在sys.stderr，也就是控制台。\n",
    "\n",
    "```python\n",
    "import logging\n",
    "handler_s01 = logging.StreamHandler()\n",
    "logger.addHandler(handler_s01)\n",
    "```"
   ]
  },
  {
   "cell_type": "code",
   "execution_count": 17,
   "id": "e3ad6a14-c2a2-4cc4-97e9-c39c9ac934c3",
   "metadata": {},
   "outputs": [],
   "source": [
    "import logging\n",
    "docs_logger = logging.getLogger(\"DOCS\")\n",
    "docs_logger.setLevel(logging.ERROR)\n",
    "\n",
    "handler_s01 = logging.StreamHandler()\n",
    "handler_s01.setLevel(logging.INFO)\n",
    "\n",
    "docs_logger.handlers = []\n",
    "docs_logger.addHandler(handler_s01)\n",
    "docs_logger.warning(\"这是一条Docs日志信息\")"
   ]
  },
  {
   "cell_type": "code",
   "execution_count": 13,
   "id": "e012943b-0b59-4035-869a-60adabd9c555",
   "metadata": {},
   "outputs": [
    {
     "name": "stdout",
     "output_type": "stream",
     "text": [
      "--------------------------------------------------------------------------------\n",
      "Logger name: DOCS, level: INFO,     parent: <RootLogger root (WARNING)>\n",
      "  Handler: <StreamHandler stderr (INFO)>\n",
      "      filters: []\n",
      "      _name: None\n",
      "      level: 20\n",
      "      formatter: None\n",
      "      _closed: False\n",
      "      lock: <unlocked _thread.RLock object owner=0 count=0 at 0x108183440>\n",
      "      stream: <ipykernel.iostream.OutStream object at 0x107a94b20>\n",
      "--------------------------------------------------------------------------------\n"
     ]
    }
   ],
   "source": [
    "print_logger_info(docs_logger)"
   ]
  },
  {
   "cell_type": "markdown",
   "id": "35d45f5d-62f3-4372-acca-a093e0ddee26",
   "metadata": {},
   "source": [
    "### 2.3 logging.FileHandler()\n",
    "\n",
    "**参数**\n",
    "1. filename: str，文件路径（相对路径和绝对路径都可以）\n",
    "2. mode: 模式，默认\"a\",[模式说明](https://docs.python.org/zh-cn/3/library/functions.html#filemodes)\n",
    "    - 'r': 读取\n",
    "    - 'w': 写入\n",
    "    - 'x': 排它性创建，如果文件存在则失败\n",
    "    - 'a': 打开文件用于写入，如果文件已经存在则在后面添加\n",
    "    - 'b': 二进制模式\n",
    "    - 't': 文本模式(默认)\n",
    "    - '+': 打开用于更新(读取与写入)\n",
    "3. encoding: str, 日志编码，默认值是None，utf-8、ascii、latin-1 ...\n",
    "4. delay: bool,什么时候打开日志文件，False，日志文件在FileHandler实例化的时候打开；True：有消息需要写入的时候打开（也就是延迟打开文件），可以节省一点文件资源。\n",
    "5. errors: str, 默认值是'strict',指定在编码错误时的处理方式，可以使用的值包括 'strict'、'ignore'、'replace' 等，类似于 open() 函数的 errors 参数。\n",
    "    - strict：默认值，遇到编码错误时会引发 UnicodeEncodeError。\n",
    "    - ignore：忽略编码错误。\n",
    "    - replace：用替代字符（通常是 ?）替换编码错误。"
   ]
  },
  {
   "cell_type": "code",
   "execution_count": 1,
   "id": "5bead71e-c13d-4f53-9a98-202145406c15",
   "metadata": {},
   "outputs": [],
   "source": [
    "import logging\n",
    "docs_logger = logging.getLogger(\"DOCS\")\n",
    "docs_logger.setLevel(logging.INFO)\n",
    "\n",
    "handler_s01 = logging.FileHandler(\n",
    "    filename=\"./docs_log.log\"\n",
    ")\n",
    "handler_s01.setLevel(logging.INFO)\n",
    "\n",
    "docs_logger.handlers = []\n",
    "docs_logger.addHandler(handler_s01)\n",
    "docs_logger.warning(\"这是一条Docs日志信息\")"
   ]
  },
  {
   "cell_type": "markdown",
   "id": "4eff20ab-82a2-4692-9259-eafadf3f06e9",
   "metadata": {},
   "source": [
    "### 2.4 隐式处理器\n",
    "\n",
    "**隐式处理器:**\n",
    "如果root logger没有设置handlers，logging模块会默认设置一个WARNING级别的StreamHandler()。\n",
    "\n",
    "\n",
    "目的：为了在没有任何配置的情况下使用logging模块也能够有输出。\n",
    "\n"
   ]
  },
  {
   "cell_type": "markdown",
   "id": "c0fe8cd9-f158-4c8b-8a03-005b46165f19",
   "metadata": {},
   "source": [
    "## 3. formatter格式器"
   ]
  },
  {
   "cell_type": "markdown",
   "id": "d3c528d9-7743-48d7-bcfd-460ac4369d09",
   "metadata": {},
   "source": [
    "### 3.1 logging.Formatter()\n",
    "\n",
    "**参数**\n",
    "1. fmt： str,日志记录的格式，默认值为'%(message)s', [属性说明](https://docs.python.org/zh-cn/3/library/logging.html#logrecord-attributes)\n",
    "2. datefmt: 控制日志输出中日期/时间部分的格式,默认值：'%Y-%m-%d %H:%M:%S,uuu', [符号说明](https://docs.python.org/zh-cn/3/library/time.html#time.strftime)\n",
    "3. style：'%' / '{' / '$',3个选项，应用于fmt，默认值为'%'。\n",
    "   \n",
    "    1. '%': printf风格字符串格式化；\n",
    "    2. '{': str.format()风格字符串格式化；\n",
    "    3. '$': string.Template字符串格式化。\n",
    "5. validate: True,不正确/不匹配的fmt和style将引发ValueError。\n",
    "6. defaults：默认值字典"
   ]
  },
  {
   "cell_type": "code",
   "execution_count": 37,
   "id": "a594a642-4f2a-451a-ac1f-88286eb602bf",
   "metadata": {},
   "outputs": [
    {
     "name": "stderr",
     "output_type": "stream",
     "text": [
      "2024-11-25 20:30:59,Mon - DOCS - WARNING - 这是一条Docs日志信息 - 567\n"
     ]
    }
   ],
   "source": [
    "import logging\n",
    "docs_logger = logging.getLogger(\"DOCS\")\n",
    "docs_logger.setLevel(logging.INFO)\n",
    "\n",
    "handler_s01 = logging.StreamHandler()\n",
    "handler_s01.setLevel(logging.INFO)\n",
    "\n",
    "fmter = logging.Formatter(\n",
    "    fmt=\"$asctime - $name - $levelname - $message - $custom\",\n",
    "    datefmt=\"%Y-%m-%d %H:%M:%S,%a\",\n",
    "    style=\"$\",\n",
    "    validate=True,\n",
    "    defaults={\"custom\":\"dxh\"}\n",
    ")\n",
    "handler_s01.setFormatter(fmter)\n",
    "\n",
    "docs_logger.handlers = []\n",
    "docs_logger.addHandler(handler_s01)\n",
    "docs_logger.warning(\"这是一条Docs日志信息\",extra={\"custom\":\"567\"})"
   ]
  },
  {
   "cell_type": "markdown",
   "id": "fd4ade09-1d2a-46bd-b201-7a9c5931881a",
   "metadata": {},
   "source": [
    "## 4. Filter过滤器\n",
    "\n",
    "- 过滤器是 Python 的 logging 模块中的一个类，用于实现更复杂的日志过滤操作。\n",
    "- 过滤器可以被添加到日志记录器（logger）或处理器（Handler）上。\n",
    "- **多过滤器(filter)**\n",
    "    1. 一个记录器(logger)或者处理器(handler)可以添加多个过滤器；\n",
    "    2. 多过滤器同时都返回True时，才会记录下来。\n"
   ]
  },
  {
   "cell_type": "markdown",
   "id": "011f9945-8882-44e9-b3e4-14171f681736",
   "metadata": {},
   "source": [
    "### 4.1 logging.Filter(name='')\n",
    "\n",
    "- name：是记录器的名称，只允许等于或者低于日志记录器层级的日志通过。\n",
    "```shell\n",
    "ROOT\n",
    "    A\n",
    "    A.B\n",
    "    A.B.C\n",
    "    A.B.D\n",
    "    A.BB\n",
    "```"
   ]
  },
  {
   "cell_type": "code",
   "execution_count": 4,
   "id": "52ea95d8-b436-40ee-a925-edd427503b6a",
   "metadata": {},
   "outputs": [
    {
     "name": "stderr",
     "output_type": "stream",
     "text": [
      "This is a debug message from A.B\n",
      "This is a debug message from A.B.C\n",
      "This is a debug message from A.B.D\n"
     ]
    }
   ],
   "source": [
    "import logging\n",
    "\n",
    "logger_a = logging.getLogger(\"A\")\n",
    "logger_b = logging.getLogger(\"A.B\")\n",
    "logger_c = logging.getLogger(\"A.B.C\")\n",
    "logger_d = logging.getLogger(\"A.B.D\")\n",
    "logger_e = logging.getLogger(\"A.BB\")\n",
    "\n",
    "logger_a.setLevel(logging.DEBUG)\n",
    "logger_b.setLevel(logging.DEBUG)\n",
    "logger_c.setLevel(logging.DEBUG)\n",
    "logger_d.setLevel(logging.DEBUG)\n",
    "logger_e.setLevel(logging.DEBUG)\n",
    "\n",
    "handler = logging.StreamHandler()\n",
    "handler.setLevel(logging.DEBUG)\n",
    "filter_ab = logging.Filter(name=\"A.B\")\n",
    "handler.filters=[]\n",
    "handler.addFilter(filter_ab)\n",
    "\n",
    "logger_a.handlers = []\n",
    "logger_b.handlers = []\n",
    "logger_c.handlers = []\n",
    "logger_d.handlers = []\n",
    "logger_e.handlers = []\n",
    "logger_a.addHandler(handler)\n",
    "logger_b.addHandler(handler)\n",
    "logger_c.addHandler(handler)\n",
    "logger_d.addHandler(handler)\n",
    "logger_e.addHandler(handler)\n",
    "\n",
    "logger_b.propagate = False\n",
    "logger_c.propagate = False\n",
    "logger_d.propagate = False\n",
    "# root\n",
    "logger_a.debug(\"This is a debug message from A\")\n",
    "logger_b.debug(\"This is a debug message from A.B\")\n",
    "logger_c.debug(\"This is a debug message from A.B.C\")\n",
    "logger_d.debug(\"This is a debug message from A.B.D\")\n",
    "logger_e.debug(\"This is a debug message from A.BB\")"
   ]
  },
  {
   "cell_type": "markdown",
   "id": "7b49f09e-6b06-4d51-a573-8ce401a039ea",
   "metadata": {},
   "source": [
    "### 4.2 自定义过滤器\n",
    "\n",
    "```python\n",
    "# 创建一个过滤器类，继承自 logging.Filter\n",
    "class AccessFilter(logging.Filter):\n",
    "    def filter(self, record):\n",
    "        # 只允许INFO和WARNING级别的日志\n",
    "        return record.levelname == 'INFO' or record.levelname == 'WARNING'\n",
    "\n",
    "```\n",
    "\n",
    "Record:\n",
    "- name：记录器的名称（通常是模块的名称）。\n",
    "- levelname：日志记录的级别（例如 logging.DEBUG, logging.INFO, logging.WARNING, logging.ERROR, logging.CRITICAL）。\n",
    "- pathname：记录日志的源文件的完整路径。\n",
    "- lineno：记录日志的源文件中的行号。\n",
    "- msg：日志消息的格式字符串。"
   ]
  },
  {
   "cell_type": "code",
   "execution_count": 12,
   "id": "0aa4e902-6b30-4939-aaa1-f837418e8408",
   "metadata": {},
   "outputs": [],
   "source": [
    "import logging\n",
    "\n",
    "filter_logger = logging.getLogger(\"filter_logger\")\n",
    "filter_logger.setLevel(logging.INFO)\n",
    "\n",
    "class AccessFilter(logging.Filter):\n",
    "    def filter(self, record):\n",
    "        # 只允许INFO和WARNING级别的日志\n",
    "        return record.levelname == 'INFO' or record.levelname == 'WARNING'\n",
    "        \n",
    "access_handler = logging.FileHandler(\n",
    "    filename=\"./access.log\",\n",
    "    mode=\"w\"\n",
    ")\n",
    "access_handler.setLevel(logging.INFO)\n",
    "access_handler.filters = []\n",
    "access_handler.addFilter(AccessFilter())\n",
    "\n",
    "error_handler = logging.FileHandler(\n",
    "    filename=\"./error.log\",\n",
    "    mode=\"w\"\n",
    ")\n",
    "error_handler.setLevel(logging.ERROR)\n",
    "\n",
    "filter_logger.handlers = []\n",
    "filter_logger.addHandler(access_handler)\n",
    "filter_logger.addHandler(error_handler)\n",
    "\n",
    "filter_logger.info(\"这是一条INFO日志信息\")\n",
    "filter_logger.warning(\"这是一条WARNING日志信息\")\n",
    "filter_logger.error(\"这是一条ERROR日志信息\")"
   ]
  },
  {
   "cell_type": "code",
   "execution_count": 17,
   "id": "2aa2821e-60ec-410f-8315-c019ef56c6a1",
   "metadata": {},
   "outputs": [],
   "source": [
    "import logging\n",
    "\n",
    "filter_logger = logging.getLogger(\"filter_logger\")\n",
    "filter_logger.setLevel(logging.INFO)\n",
    "\n",
    "class AccessFilter(logging.Filter):\n",
    "    def filter(self, record):\n",
    "        # 只允许INFO和WARNING级别的日志\n",
    "        return record.levelname == 'INFO' or record.levelname == 'WARNING'\n",
    "\n",
    "class CustomFilter(logging.Filter):\n",
    "    def filter(self, record):\n",
    "        return record.msg.startswith(\"dxh:\")\n",
    "        \n",
    "access_handler = logging.FileHandler(\n",
    "    filename=\"./access.log\",\n",
    "    mode=\"w\"\n",
    ")\n",
    "access_handler.setLevel(logging.INFO)\n",
    "access_handler.filters = []\n",
    "access_handler.addFilter(AccessFilter())\n",
    "access_handler.addFilter(CustomFilter())\n",
    "\n",
    "error_handler = logging.FileHandler(\n",
    "    filename=\"./error.log\",\n",
    "    mode=\"w\"\n",
    ")\n",
    "error_handler.setLevel(logging.ERROR)\n",
    "\n",
    "filter_logger.handlers = []\n",
    "filter_logger.addHandler(access_handler)\n",
    "filter_logger.addHandler(error_handler)\n",
    "\n",
    "filter_logger.info(\"dxh:这是一条INFO日志信息\")\n",
    "filter_logger.warning(\"这是一条WARNING日志信息\")\n",
    "filter_logger.error(\"这是一条ERROR日志信息\")"
   ]
  },
  {
   "cell_type": "code",
   "execution_count": null,
   "id": "c12e3c46-1508-4b8a-95bc-7c5709c71a7c",
   "metadata": {},
   "outputs": [],
   "source": []
  },
  {
   "cell_type": "markdown",
   "id": "14e74458-f0c8-439a-9d82-8ebafbbb33bc",
   "metadata": {},
   "source": [
    "## 5. logging的快捷方法"
   ]
  },
  {
   "cell_type": "markdown",
   "id": "e337f84a-5434-4599-b740-d28a61fe0887",
   "metadata": {},
   "source": [
    "### 5.1 basicConfig()\n",
    "\n",
    "快速配置root logger的方法。\n",
    "\n",
    "```python\n",
    "logging.basicConfig(filename='myapp.log', level=logging.INFO)\n",
    "```\n",
    "\n",
    "**PS: basicConfig只会在第一次执行是生效，如果root logger已经被配置过，那么basicConfig()不会再被执行。**\n",
    "\n",
    "**参数解析：**\n",
    "\n",
    "1. filename: 文件名\n",
    "2. filemode: 日志文件的模式,默认是'a',实际上是\"a+t\"。[模式说明](https://docs.python.org/zh-cn/3/library/functions.html#filemodes)\n",
    "    - 'r': 读取\n",
    "    - 'w': 写入\n",
    "    - 'x': 排它性创建，如果文件存在则失败\n",
    "    - 'a': 打开文件用于写入，如果文件已经存在则在后面添加\n",
    "    - 'b': 二进制模式\n",
    "    - 't': 文本模式(默认)\n",
    "    - '+': 打开用于更新(读取与写入)\n",
    "3. format: 日志格式，默认值为'%(levelname)s:%(name)s:%(message)s'，[属性说明](https://docs.python.org/zh-cn/3/library/logging.html#logrecord-attributes)\n",
    "4. datefmt: 日期/时间格式,%Y-%m-%d %H:%M:%S, [符号说明](https://docs.python.org/zh-cn/3/library/time.html#time.strftime)\n",
    "5. style: '%' / '{' / '$'\n",
    "   \n",
    "   - '%': printf风格字符串格式化【默认】；\n",
    "   - '{': str.format()风格字符串格式化；\n",
    "   - '$': string.Template字符串格式化。\n",
    "     \n",
    "7. level: 日志级别\n",
    "8. handlers[]: 控制器列表"
   ]
  },
  {
   "cell_type": "code",
   "execution_count": 4,
   "id": "ecbec40e-c8cd-472d-919b-f106e96cd816",
   "metadata": {},
   "outputs": [
    {
     "name": "stderr",
     "output_type": "stream",
     "text": [
      "INFO:root:这是一条INFO日志信息\n"
     ]
    },
    {
     "name": "stdout",
     "output_type": "stream",
     "text": [
      "--------------------------------------------------------------------------------\n",
      "Logger name: root, level: INFO,     parent: None\n",
      "  Handler: <StreamHandler stderr (NOTSET)>\n",
      "      filters: []\n",
      "      _name: None\n",
      "      level: 0\n",
      "      formatter: <logging.Formatter object at 0x10425e1e0>\n",
      "      _closed: False\n",
      "      lock: <unlocked _thread.RLock object owner=0 count=0 at 0x104108040>\n",
      "      stream: <ipykernel.iostream.OutStream object at 0x103bb2fb0>\n",
      "--------------------------------------------------------------------------------\n"
     ]
    }
   ],
   "source": [
    "import logging\n",
    "\n",
    "logging.basicConfig(\n",
    "    # filename='dxh_app.log', \n",
    "    level=logging.INFO,\n",
    "    handlers=[logging.StreamHandler()]\n",
    ")\n",
    "\n",
    "root_logger = logging.getLogger()\n",
    "root_logger.info(\"这是一条INFO日志信息\")\n",
    "print_logger_info(root_logger)"
   ]
  },
  {
   "cell_type": "code",
   "execution_count": 3,
   "id": "5247b8de-a3a2-4d84-a954-b086b03279c6",
   "metadata": {},
   "outputs": [],
   "source": [
    "def print_logger_info(logger):\n",
    "    print(\"-\"*80)\n",
    "    print(f\"Logger name: {logger.name}, level: {logging.getLevelName(logger.level)}, \\\n",
    "    parent: {logger.parent}\")\n",
    "    for handler in logger.handlers:\n",
    "        print(f\"  Handler: {handler}\")\n",
    "        for key, value in handler.__dict__.items():\n",
    "            print(f\"      {key}: {value}\")\n",
    "    if not logger.handlers:\n",
    "        print('handlers is empty!')\n",
    "    print(\"-\"*80)"
   ]
  },
  {
   "cell_type": "markdown",
   "id": "5e44f1b2-6612-4043-9282-bc46d0775a2e",
   "metadata": {},
   "source": [
    "### 5.2 debug()/info()/warning()/error()/critical()\n",
    "\n",
    "```python\n",
    "# 参数解析\n",
    "logging.debug(msg, *args, **kwargs)\n",
    "```\n",
    "\n",
    "1. msg: str, 字符串，日志的内容；\n",
    "2. *args: 和msg配合使用，使用C语言printf风格来格式化msg,用得较少\n",
    "3. **kwargs: exc_info记录堆栈信息"
   ]
  },
  {
   "cell_type": "code",
   "execution_count": 2,
   "id": "19d59cbc-f43d-4675-a21a-72a7f17d1dd5",
   "metadata": {},
   "outputs": [
    {
     "name": "stderr",
     "output_type": "stream",
     "text": [
      "WARNING:root:这是一条日志报警信息\n",
      "WARNING:root:这是一条日志报警信息_2\n"
     ]
    }
   ],
   "source": [
    "### logging.warning()发生了什么？\n",
    "# 运行两次如下代码，看看输出是否相同？如果不同，解析一下原因？\n",
    "import logging\n",
    "\n",
    "root_logger = logging.getLogger()\n",
    "root_logger.warning(\"这是一条日志报警信息\")\n",
    "logging.warning(\"这是一条日志报警信息_2\")"
   ]
  },
  {
   "cell_type": "markdown",
   "id": "f6792d64-4917-40d8-8453-ec915a6f0fbe",
   "metadata": {},
   "source": [
    "## 6. 企业级日志配置\n",
    "```python\n",
    "logging.config.dictConfig(logging_config)\n",
    "```"
   ]
  },
  {
   "cell_type": "markdown",
   "id": "a6dad94e-15f2-466e-ac88-5d3c27e676e7",
   "metadata": {
    "jp-MarkdownHeadingCollapsed": true
   },
   "source": [
    "### 6.1 json格式\n",
    "logging_config的schema信息结构(json格式)：\n",
    "\n",
    "```json\n",
    "{\n",
    "  \"version\": 1,\n",
    "  \"disable_existing_loggers\": false,\n",
    "  \"formatters\": {\n",
    "    \"standard\": {\n",
    "      \"format\": \"%(asctime)s - %(name)s - %(levelname)s - %(message)s\"\n",
    "    }\n",
    "  },\n",
    "  \"handlers\": {\n",
    "    \"app_handler\": {\n",
    "      \"class\": \"logging.FileHandler\",\n",
    "      \"filename\": \"app.log\",\n",
    "      \"formatter\": \"standard\",\n",
    "      \"level\": \"INFO\"\n",
    "    }\n",
    "  },\n",
    "  \"loggers\": {\n",
    "    \"\": {\n",
    "      \"handlers\": [\n",
    "        \"app_handler\"\n",
    "      ],\n",
    "      \"level\": \"INFO\",\n",
    "      \"propagate\": true\n",
    "    },\n",
    "    \"docs\": {\n",
    "      \"handlers\": [\n",
    "        \"app_handler\"\n",
    "      ],\n",
    "      \"level\": \"INFO\",\n",
    "      \"propagate\": false\n",
    "    }\n",
    "  }\n",
    "}\n",
    "\n",
    "```"
   ]
  },
  {
   "cell_type": "markdown",
   "id": "052e6d3d-3dec-43fe-a2e7-5bed16e1aa10",
   "metadata": {},
   "source": [
    "### 6.2 yaml格式\n",
    "\n",
    "yaml格式相对于json格式，有如下优点：\n",
    "- **更易读**：YAML 的语法设计使其更接近自然语言，减少了冗余的符号（如大括号、方括号和逗号），使得配置文件更易读。\n",
    "- **更易写**：由于 YAML 的简洁性，编写和维护 YAML 文件通常比 JSON 文件更容易。\n",
    "\n",
    "```shell\n",
    "# 使用使用yaml第3方包加载\n",
    "pip install pyyaml\n",
    "```\n",
    "\n",
    "schema信息结构：\n",
    "```yml\n",
    "disable_existing_loggers: false\n",
    "formatters:\n",
    "  standard:\n",
    "    format: '%(asctime)s - %(name)s - %(levelname)s - %(message)s'\n",
    "handlers:\n",
    "  app_handler:\n",
    "    class: logging.FileHandler\n",
    "    filename: ai_services.log\n",
    "    formatter: standard\n",
    "    level: INFO\n",
    "loggers:\n",
    "  '':\n",
    "    handlers:\n",
    "    - app_handler\n",
    "    level: INFO\n",
    "    propagate: true\n",
    "  docs:\n",
    "    handlers:\n",
    "    - app_handler\n",
    "    level: INFO\n",
    "    propagate: false\n",
    "version: 1\n",
    "\n",
    "```"
   ]
  },
  {
   "cell_type": "code",
   "execution_count": null,
   "id": "89546392-17cf-442c-b67d-1304ba6d4286",
   "metadata": {},
   "outputs": [],
   "source": []
  }
 ],
 "metadata": {
  "kernelspec": {
   "display_name": "Python 3 (ipykernel)",
   "language": "python",
   "name": "python3"
  },
  "language_info": {
   "codemirror_mode": {
    "name": "ipython",
    "version": 3
   },
   "file_extension": ".py",
   "mimetype": "text/x-python",
   "name": "python",
   "nbconvert_exporter": "python",
   "pygments_lexer": "ipython3",
   "version": "3.12.4"
  }
 },
 "nbformat": 4,
 "nbformat_minor": 5
}

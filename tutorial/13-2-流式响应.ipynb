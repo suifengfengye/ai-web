{
 "cells": [
  {
   "cell_type": "markdown",
   "id": "353d8abf-9532-45b1-9107-8a0c14fb2a89",
   "metadata": {},
   "source": [
    "# 13-2 流式响应"
   ]
  },
  {
   "cell_type": "markdown",
   "id": "1bb3aff6-cb16-45ff-afff-8e2a3c377fc2",
   "metadata": {},
   "source": [
    "StreamingResponse()类\n",
    "\n",
    "- iterator(迭代器) / generator(生成器) / async_generator(异步生成器)\n",
    "- media_type: 返回内容的类型，\"text/html\" / \"text/plain\"\n",
    "- headers: 自定义的HTTP头部信息\n",
    "- background: 传递一个BackgroudTasks对象，用于在响应结束后执行后台任务（清理磁盘、关闭文件句柄）\n"
   ]
  },
  {
   "cell_type": "markdown",
   "id": "c50bdccb-8fe6-4ee0-a5fc-f76c012172c0",
   "metadata": {},
   "source": [
    "- invoke()\n",
    "- stream()\n",
    "- ainvoke()\n",
    "- astream()"
   ]
  },
  {
   "cell_type": "code",
   "execution_count": null,
   "id": "0a5b3f99-a4dc-4658-8648-66194c0a1c63",
   "metadata": {},
   "outputs": [],
   "source": []
  }
 ],
 "metadata": {
  "kernelspec": {
   "display_name": "Python 3 (ipykernel)",
   "language": "python",
   "name": "python3"
  },
  "language_info": {
   "codemirror_mode": {
    "name": "ipython",
    "version": 3
   },
   "file_extension": ".py",
   "mimetype": "text/x-python",
   "name": "python",
   "nbconvert_exporter": "python",
   "pygments_lexer": "ipython3",
   "version": "3.12.4"
  }
 },
 "nbformat": 4,
 "nbformat_minor": 5
}

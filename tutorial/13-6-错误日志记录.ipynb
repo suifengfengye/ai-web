{
 "cells": [
  {
   "cell_type": "markdown",
   "id": "925971e7-5fdd-4e67-b8f7-a82fc5937036",
   "metadata": {},
   "source": [
    "# 13-6-错误日志记录\n",
    "\n",
    "logging模块。\n",
    "### （1）[日志等级](https://docs.python.org/zh-cn/3/library/logging.html#levels)\n",
    "\n",
    "\n",
    "- DEBUG: 10, logging.debug(msg: str)\n",
    "- INFO:   20, logging.info(msg: str)\n",
    "- WARNING: 30, logging.warning(msg: str)\n",
    "- ERROR: 40, logging.error(msg: str)\n",
    "- CRITICAL: 50, logging.critical(msg: str)\n",
    "\n",
    "```python\n",
    "# 参数解析\n",
    "logging.warning(msg, *args, **kwargs)\n",
    "```\n",
    "\n",
    "\n",
    "### （2）root logger配置\n",
    "\n",
    "```python\n",
    "logging.basicConfig(filename='myapp.log', level=logging.INFO)\n",
    "```\n",
    "**参数解析：**\n",
    "\n",
    "1. filename: 文件名\n",
    "2. filemode: 日志文件的模式,默认是'a',实际上是\"a+t\"。[模式说明](https://docs.python.org/zh-cn/3/library/functions.html#filemodes)\n",
    "    - 'r': 读取\n",
    "    - 'w': 写入\n",
    "    - 'x': 排它性创建，如果文件存在则失败\n",
    "    - 'a': 打开文件用于写入，如果文件已经存在则在后面添加\n",
    "    - 'b': 二进制模式\n",
    "    - 't': 文本模式(默认)\n",
    "    - '+': 打开用于更新(读取与写入)\n",
    "3. format: 日志格式，默认值为'%(levelname)s:%(name)s:%(message)s'，[属性说明](https://docs.python.org/zh-cn/3/library/logging.html#logrecord-attributes)\n",
    "4. datefmt: 日期/时间格式,%Y-%m-%d %H:%M:%S, [符号说明](https://docs.python.org/zh-cn/3/library/time.html#time.strftime)\n",
    "5. style: '%' / '{' / '$'\n",
    "   \n",
    "   - '%': printf风格字符串格式化【默认】；\n",
    "   - '{': str.format()风格字符串格式化；\n",
    "   - '$': string.Template字符串格式化。\n",
    "     \n",
    "7. level: 日志级别\n",
    "8. handlers[]: 控制器列表\n"
   ]
  },
  {
   "cell_type": "code",
   "execution_count": null,
   "id": "d12e0c7e-6c6f-4887-86a4-3d60825a804b",
   "metadata": {},
   "outputs": [],
   "source": []
  },
  {
   "cell_type": "code",
   "execution_count": 97,
   "id": "3628bae4-bf6f-4e43-a8dc-e8deb0d0a111",
   "metadata": {},
   "outputs": [
    {
     "name": "stderr",
     "output_type": "stream",
     "text": [
      "2024-11-14 12:58:42,505 - root - WARNING - 这是一条日志记录信息，user_id: daxiaohan_01, 序号:1\n",
      "2024-11-14 12:58:42,507 - root - ERROR - An error occurred\n",
      "Traceback (most recent call last):\n",
      "  File \"/var/folders/xc/f37_qscs4rqfzfjf1wsfygq80000gn/T/ipykernel_68182/1057731853.py\", line 10, in <module>\n",
      "    1 / 0\n",
      "    ~~^~~\n",
      "ZeroDivisionError: division by zero\n"
     ]
    }
   ],
   "source": [
    "# 1. args，主要用来给msg字符串进行格式化【使用“字面量格式化字符串”更方便一些，这种方式用的就少了】\n",
    "user_id = \"daxiaohan_01\"\n",
    "user_no = 1\n",
    "# C语言形式的printf字符串格式化，缺点：有记忆成本，要记住%s对应字符串，%d对应整数，%f对应浮点数\n",
    "# logging.warning(\"这是一条日志记录信息，user_id: %s, 序号:%d\", user_id, user_no) \n",
    "logging.warning(f\"这是一条日志记录信息，user_id: {user_id}, 序号:{user_no}\")\n",
    "\n",
    "# 2. kwargs: exc_info = True | False,是否记录堆栈信息，默认是False\n",
    "try:\n",
    "    1 / 0\n",
    "except ZeroDivisionError:\n",
    "    logging.error(\"An error occurred\", exc_info=True)"
   ]
  },
  {
   "cell_type": "code",
   "execution_count": null,
   "id": "b12b646a-0160-4fa5-9bec-365a5d8b5fa1",
   "metadata": {},
   "outputs": [],
   "source": []
  },
  {
   "cell_type": "markdown",
   "id": "2f05d915-3fe0-4d84-b292-7da90a5c1851",
   "metadata": {},
   "source": [
    "# FastAPI设置全局异常处理器\n",
    "\n",
    "在 FastAPI 中，@app.exception_handler(Exception) 是一个装饰器，用于注册一个全局异常处理器。这个处理器会捕获所有未被其他异常处理器捕获的异常。\n",
    "\n",
    "```python\n",
    "@app.exception_handler(Exception)\n",
    "async def global_exception_handler(request: Request, exc: Exception):\n",
    "    logging.error(f\"Unhandled exception: {exc}\", exc_info=True)\n",
    "    return JSONResponse(\n",
    "        status_code=500,\n",
    "        content={\"message\": \"Internal Server Error in main\"}\n",
    "    )\n",
    "```"
   ]
  },
  {
   "cell_type": "code",
   "execution_count": null,
   "id": "2789ebfb-39fd-4607-87cc-dd8653c0ef20",
   "metadata": {},
   "outputs": [],
   "source": []
  },
  {
   "cell_type": "code",
   "execution_count": null,
   "id": "afcb3994-3082-4fb1-9c6e-3f37d0bfb019",
   "metadata": {},
   "outputs": [],
   "source": []
  }
 ],
 "metadata": {
  "kernelspec": {
   "display_name": "Python 3 (ipykernel)",
   "language": "python",
   "name": "python3"
  },
  "language_info": {
   "codemirror_mode": {
    "name": "ipython",
    "version": 3
   },
   "file_extension": ".py",
   "mimetype": "text/x-python",
   "name": "python",
   "nbconvert_exporter": "python",
   "pygments_lexer": "ipython3",
   "version": "3.12.4"
  }
 },
 "nbformat": 4,
 "nbformat_minor": 5
}

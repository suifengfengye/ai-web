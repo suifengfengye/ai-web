{
 "cells": [
  {
   "cell_type": "markdown",
   "id": "405a2f5a-58ac-4317-af03-5da6cc39fbf9",
   "metadata": {},
   "source": [
    "# LLM的记忆能力"
   ]
  },
  {
   "cell_type": "markdown",
   "id": "06a3b5c1-89d0-4903-84aa-acd3bed7dd32",
   "metadata": {
    "jp-MarkdownHeadingCollapsed": true
   },
   "source": [
    "## 1. SQLChatMessageHistory\n",
    "\n",
    "用于连接关系性数据库，并返回一个可以**加载db数据** 和 **保存数据到db** 的对象。\n",
    "\n",
    "```python\n",
    "from langchain_community.chat_message_histories import SQLChatMessageHistory\n",
    "```\n",
    "\n",
    "参数：\n",
    "\n",
    "- session_id: 数据的标识ID,session_id。\n",
    "- connection_string: str, 连接db的字符串。\n",
    "  - sqlite同步：sqlite:///./db/memory.db\n",
    "  - sqlite异步：sqlite+aiosqlite:///./db/memory.db\n",
    "  - mysql同步：mysql+pymysql://username:password@ip:3306/db_name\n",
    "  - mysql异步：mysql+aiomysql://username:password@ip:3306/db_name\n",
    "- connection: 数据库的连接对象，依赖sqlalchemy这个库来创建连接对象;推荐使用connection。\n",
    "- async_mode: bool,默认为False，异步连接(对应ainvoke()/astream())的情况下，需要设置为True。\n",
    "\n",
    "方法：\n",
    "\n",
    "- add_message(): 将参数内容存入DB，参数为SystemMessage/HumanMessage/AIMessage。\n",
    "- add_messages():将参数内容存入DB，参数为SystemMessage[]/HumanMessage[]/AIMessage[]。\n",
    "- get_messages(): 获取db的数据。\n",
    "- aadd_message(): 异步方式,将参数内容存入DB，参数为SystemMessage/HumanMessage/AIMessage。\n",
    "- aadd_messages(): 异步方式,将参数内容存入DB，参数为SystemMessage[]/HumanMessage[]/AIMessage[]。\n",
    "- aget_messages():异步方式,获取db的数据。\n"
   ]
  },
  {
   "cell_type": "code",
   "execution_count": 8,
   "id": "502cff70-35b7-4051-99d1-c8d4033810f6",
   "metadata": {},
   "outputs": [],
   "source": [
    "from langchain_community.chat_message_histories import SQLChatMessageHistory\n",
    "from langchain_core.messages import SystemMessage, HumanMessage, AIMessage\n",
    "\n",
    "chat_history = SQLChatMessageHistory(\"daxiaohan_01\", \"sqlite:///./db/memory.db\")"
   ]
  },
  {
   "cell_type": "code",
   "execution_count": 9,
   "id": "96cceb6f-89ea-4cb3-9e4a-c843132aa483",
   "metadata": {},
   "outputs": [],
   "source": [
    "chat_history.add_message(SystemMessage(content=\"你是一名作家，叫做费小V\"))\n",
    "chat_history.add_messages([HumanMessage(content=\"我叫大小寒\"), AIMessage(content=\"您好，大小寒，我记住你啦！\")])"
   ]
  },
  {
   "cell_type": "code",
   "execution_count": 10,
   "id": "a761b2f8-55d6-4bab-8546-1ee14e2b4dc0",
   "metadata": {},
   "outputs": [
    {
     "data": {
      "text/plain": [
       "[SystemMessage(content='你是一名作家，叫做费小V'),\n",
       " HumanMessage(content='我叫大小寒'),\n",
       " AIMessage(content='您好，大小寒，我记住你啦！')]"
      ]
     },
     "execution_count": 10,
     "metadata": {},
     "output_type": "execute_result"
    }
   ],
   "source": [
    "result = chat_history.get_messages()\n",
    "result"
   ]
  },
  {
   "cell_type": "code",
   "execution_count": 13,
   "id": "da760d11-d516-4e02-bb68-ad342c8d1982",
   "metadata": {},
   "outputs": [
    {
     "data": {
      "text/plain": [
       "[HumanMessage(content='xxxxx@@@@@@')]"
      ]
     },
     "execution_count": 13,
     "metadata": {},
     "output_type": "execute_result"
    }
   ],
   "source": [
    "chat_history2 = SQLChatMessageHistory(\"daxiaohan_02\", \"sqlite:///./db/memory.db\")\n",
    "chat_history2.add_message(HumanMessage(content=\"xxxxx@@@@@@\"))\n",
    "result = chat_history2.get_messages()\n",
    "result"
   ]
  },
  {
   "cell_type": "code",
   "execution_count": 2,
   "id": "0ca3b336-60a5-4e25-bdd2-df36d9e8d3e2",
   "metadata": {},
   "outputs": [],
   "source": [
    "from langchain_community.chat_message_histories import SQLChatMessageHistory\n",
    "from langchain_core.messages import SystemMessage, HumanMessage, AIMessage\n",
    "\n",
    "chat_history = SQLChatMessageHistory(\"daxiaohan_01\", \"sqlite+aiosqlite:///./db/memory.db\", async_mode=True)\n"
   ]
  },
  {
   "cell_type": "code",
   "execution_count": 9,
   "id": "cc7ca36b-673a-408a-bc74-6be386f73514",
   "metadata": {},
   "outputs": [
    {
     "data": {
      "text/plain": [
       "[SystemMessage(content='你是一名作家，叫做费小V'),\n",
       " HumanMessage(content='我叫大小寒'),\n",
       " AIMessage(content='您好，大小寒，我记住你啦！'),\n",
       " HumanMessage(content='6666')]"
      ]
     },
     "execution_count": 9,
     "metadata": {},
     "output_type": "execute_result"
    }
   ],
   "source": [
    "result = await chat_history.aget_messages()\n",
    "result"
   ]
  },
  {
   "cell_type": "code",
   "execution_count": 8,
   "id": "722930bb-258a-44c9-a207-b7476345ad66",
   "metadata": {},
   "outputs": [],
   "source": [
    "await chat_history.aadd_message(HumanMessage(content=\"6666\"))"
   ]
  },
  {
   "cell_type": "markdown",
   "id": "494ff5fe-e2e8-47c7-b8ff-d4aac2b8a3d0",
   "metadata": {
    "jp-MarkdownHeadingCollapsed": true
   },
   "source": [
    "### 1.1 sqlalchemy\n",
    "\n",
    "是python中应用广泛的一个ORM框架。ORM，Object-Relational-Mapping，对象关系映射。它将一个对象模型映射到关系数据库。\n",
    "\n",
    "```python\n",
    "from sqlalchemy import create_engine\n",
    "from sqlalchemy.ext.asyncio import create_async_engine\n",
    "```\n",
    "\n",
    "- create_engine(database_url): 建立同步连接，参数为连接db的协议字符串，比如：sqlite:///./db/memory.db\n",
    "- create_async_engine(database_url):  建立异步连接，参数为连接db的协议字符串，比如：sqlite+aiosqlite:///./db/memory.db\n"
   ]
  },
  {
   "cell_type": "code",
   "execution_count": 10,
   "id": "6bbcf1d7-4629-4502-8872-0686b2314a77",
   "metadata": {},
   "outputs": [],
   "source": [
    "from sqlalchemy import create_engine\n",
    "from sqlalchemy.ext.asyncio import create_async_engine\n",
    "\n",
    "\n",
    "chat_history_03 = SQLChatMessageHistory(\"daxiaohan_02\", connection=create_engine(\"sqlite:///./db/memory.db\"))\n",
    "chat_history_04 = SQLChatMessageHistory(\"daxiaohan_01\", connection=create_async_engine(\"sqlite+aiosqlite:///./db/memory.db\"), async_mode=True)\n",
    "\n"
   ]
  },
  {
   "cell_type": "code",
   "execution_count": 11,
   "id": "ecb256ce-901d-487e-8238-6ab97a76e45a",
   "metadata": {},
   "outputs": [
    {
     "data": {
      "text/plain": [
       "[HumanMessage(content='xxxxx@@@@@@')]"
      ]
     },
     "execution_count": 11,
     "metadata": {},
     "output_type": "execute_result"
    }
   ],
   "source": [
    "chat_history_03.get_messages()"
   ]
  },
  {
   "cell_type": "code",
   "execution_count": 12,
   "id": "99025235-a678-42f5-89f0-8d3512e4734b",
   "metadata": {},
   "outputs": [
    {
     "data": {
      "text/plain": [
       "[SystemMessage(content='你是一名作家，叫做费小V'),\n",
       " HumanMessage(content='我叫大小寒'),\n",
       " AIMessage(content='您好，大小寒，我记住你啦！'),\n",
       " HumanMessage(content='6666')]"
      ]
     },
     "execution_count": 12,
     "metadata": {},
     "output_type": "execute_result"
    }
   ],
   "source": [
    "result = await chat_history_04.aget_messages()\n",
    "result"
   ]
  },
  {
   "cell_type": "markdown",
   "id": "8da00a66-cfb9-4eea-897e-c8a9e9fea697",
   "metadata": {
    "jp-MarkdownHeadingCollapsed": true
   },
   "source": [
    "### 1.2 SQLite\n",
    "\n",
    "#### (1) 安装\n",
    "\n",
    "在linux和macos上已经预装了。\n",
    "\n",
    "https://www.runoob.com/sqlite/sqlite-intro.html\n",
    "\n",
    "#### (2) \n",
    "\n",
    "```shell\n",
    "# 进入sqlite命令行,sqlite3命令后可以跟一个.db文件，也可以不跟\n",
    "sqlite3 \n",
    "# 退出sqlite命令行\n",
    "> .quit/.exit\n",
    "# 打开/创建db(没有会在当前目录创建一个db文件，如果已经存在则打开)\n",
    "> .open test.db\n",
    "# 查看有多少个db\n",
    "> .databases\n",
    "# 查看db中有多少张表\n",
    "> .tables\n",
    "```\n"
   ]
  },
  {
   "cell_type": "markdown",
   "id": "5085df0b-b53c-420e-b96a-95ae5ca66cdd",
   "metadata": {},
   "source": [
    "# 2. RunnableWithMessageHistory"
   ]
  },
  {
   "cell_type": "markdown",
   "id": "23512026-e8d9-4af3-8e09-36c110817297",
   "metadata": {},
   "source": [
    "### 2.1 \n",
    "\n",
    "用于为langchain加载历史记录信息，以及在模型返回后保存记录信息。\n",
    "\n",
    "参数：\n",
    "\n",
    "- runnable: langchain对象, chain = prompt | llm\n",
    "- get_session_history(session_id: str): 这个参数接收一个方法，这个方法会接收到一个session_id,\n",
    "  \n",
    "  需要返回一个能够获 **加载db数据** 和 **保存数据到db** 的对象，比如说SQLChatMessageHistory对象\n",
    "- history_messages_key: str, 字符串，指定加载的历史记录信息放到inputs字典的哪个key中。"
   ]
  },
  {
   "cell_type": "markdown",
   "id": "70ba166c-b802-4652-b072-f32f0b8eb5be",
   "metadata": {},
   "source": [
    "### 2.2 MessagesPlaceholder\n",
    "\n",
    "Message列表数据的占位符，用在prompt中。\n",
    "\n",
    "```python\n",
    "MessagesPlaceholder(variable_name=\"history\")\n",
    "```"
   ]
  },
  {
   "cell_type": "markdown",
   "id": "4631e211-f503-4a93-b371-53056c6fcf45",
   "metadata": {},
   "source": [
    "### 2.3 RunnableConfig\n",
    "\n",
    "invoke()/ainvoke()/stream()/astream()的第二个参数。\n",
    "\n",
    "```json\n",
    "    {\"configurable\": {\"session_id\": user_id}}\n",
    "```"
   ]
  },
  {
   "cell_type": "code",
   "execution_count": null,
   "id": "90005cd5-3cd3-44f2-9a9b-8f6d9135900a",
   "metadata": {},
   "outputs": [],
   "source": []
  }
 ],
 "metadata": {
  "kernelspec": {
   "display_name": "Python 3 (ipykernel)",
   "language": "python",
   "name": "python3"
  },
  "language_info": {
   "codemirror_mode": {
    "name": "ipython",
    "version": 3
   },
   "file_extension": ".py",
   "mimetype": "text/x-python",
   "name": "python",
   "nbconvert_exporter": "python",
   "pygments_lexer": "ipython3",
   "version": "3.12.4"
  }
 },
 "nbformat": 4,
 "nbformat_minor": 5
}
